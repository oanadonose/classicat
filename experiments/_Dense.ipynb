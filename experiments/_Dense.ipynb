{
 "cells": [
  {
   "cell_type": "code",
   "execution_count": 1,
   "metadata": {},
   "outputs": [],
   "source": [
    "import os, datetime\n",
    "import numpy as np\n",
    "import matplotlib.pyplot as plt\n",
    "import math\n",
    "import pandas as pd\n",
    "\n",
    "import tensorflow as tf\n",
    "from tensorflow import keras\n",
    "from tensorflow.keras.preprocessing.image import ImageDataGenerator\n",
    "from tensorflow.keras.callbacks import EarlyStopping, ModelCheckpoint, TensorBoard, LearningRateScheduler\n",
    "\n",
    "import sklearn\n",
    "from sklearn import metrics\n",
    "from sklearn.metrics import confusion_matrix\n",
    "\n",
    "import itertools"
   ]
  },
  {
   "cell_type": "code",
   "execution_count": 2,
   "metadata": {},
   "outputs": [
    {
     "name": "stdout",
     "output_type": "stream",
     "text": [
      "Num GPUs Available:  1\n"
     ]
    }
   ],
   "source": [
    "physical_devices = tf.config.experimental.list_physical_devices('GPU')\n",
    "print(\"Num GPUs Available: \", len(physical_devices))"
   ]
  },
  {
   "cell_type": "code",
   "execution_count": 3,
   "metadata": {},
   "outputs": [
    {
     "data": {
      "text/plain": [
       "'/device:GPU:0'"
      ]
     },
     "execution_count": 3,
     "metadata": {},
     "output_type": "execute_result"
    }
   ],
   "source": [
    "tf.test.gpu_device_name()"
   ]
  },
  {
   "cell_type": "code",
   "execution_count": 4,
   "metadata": {},
   "outputs": [
    {
     "data": {
      "text/plain": [
       "'2.4.1'"
      ]
     },
     "execution_count": 4,
     "metadata": {},
     "output_type": "execute_result"
    }
   ],
   "source": [
    "tf.__version__"
   ]
  },
  {
   "cell_type": "code",
   "execution_count": 5,
   "metadata": {},
   "outputs": [],
   "source": [
    "tf.config.experimental.set_memory_growth(physical_devices[0], True)"
   ]
  },
  {
   "cell_type": "code",
   "execution_count": 6,
   "metadata": {},
   "outputs": [],
   "source": [
    "import utils\n",
    "from utils import *"
   ]
  },
  {
   "cell_type": "code",
   "execution_count": 7,
   "metadata": {},
   "outputs": [
    {
     "name": "stdout",
     "output_type": "stream",
     "text": [
      "Current Time = 03:14:40\n"
     ]
    },
    {
     "data": {
      "text/plain": [
       "datetime.datetime(2021, 4, 18, 3, 14, 40, 458246)"
      ]
     },
     "execution_count": 7,
     "metadata": {},
     "output_type": "execute_result"
    }
   ],
   "source": [
    "curTime()"
   ]
  },
  {
   "cell_type": "code",
   "execution_count": 8,
   "metadata": {},
   "outputs": [],
   "source": [
    "def create_model_DenseNet121(number_classes,optimizer, metrics, input_shape=(224, 224, 3)):\n",
    "    \n",
    "    base_model = keras.applications.DenseNet121(\n",
    "        weights='imagenet',\n",
    "        input_shape=input_shape,\n",
    "        include_top=False)\n",
    "    base_model.trainable = False\n",
    "    \n",
    "    inputs = keras.Input(shape=input_shape)\n",
    "    x = base_model(inputs, training=False)\n",
    "    x = keras.layers.GlobalAveragePooling2D()(x)\n",
    "    outputs = keras.layers.Dense(number_classes)(x)\n",
    "    model = keras.Model(inputs, outputs)\n",
    "    \n",
    "    model.compile(optimizer=optimizer,\n",
    "              loss=keras.losses.CategoricalCrossentropy(from_logits=True),\n",
    "              metrics=metrics)\n",
    "    return model"
   ]
  },
  {
   "cell_type": "code",
   "execution_count": 9,
   "metadata": {},
   "outputs": [],
   "source": [
    "def create_model_DenseNet169(number_classes,optimizer, metrics, input_shape=(224, 224, 3)):\n",
    "    \n",
    "    base_model = keras.applications.DenseNet169(\n",
    "        weights='imagenet',\n",
    "        input_shape=input_shape,\n",
    "        include_top=False)\n",
    "    base_model.trainable = False\n",
    "    \n",
    "    inputs = keras.Input(shape=input_shape)\n",
    "    x = base_model(inputs, training=False)\n",
    "    x = keras.layers.GlobalAveragePooling2D()(x)\n",
    "    outputs = keras.layers.Dense(number_classes)(x)\n",
    "    model = keras.Model(inputs, outputs)\n",
    "    \n",
    "    model.compile(optimizer=optimizer,\n",
    "              loss=keras.losses.CategoricalCrossentropy(from_logits=True),\n",
    "              metrics=metrics)\n",
    "    return model"
   ]
  },
  {
   "cell_type": "code",
   "execution_count": 10,
   "metadata": {},
   "outputs": [],
   "source": [
    "def create_model_DenseNet201(number_classes,optimizer, metrics, input_shape=(224, 224, 3)):\n",
    "    \n",
    "    base_model = keras.applications.DenseNet201(\n",
    "        weights='imagenet',\n",
    "        input_shape=input_shape,\n",
    "        include_top=False)\n",
    "    base_model.trainable = False\n",
    "    \n",
    "    inputs = keras.Input(shape=input_shape)\n",
    "    x = base_model(inputs, training=False)\n",
    "    x = keras.layers.GlobalAveragePooling2D()(x)\n",
    "    outputs = keras.layers.Dense(number_classes)(x)\n",
    "    model = keras.Model(inputs, outputs)\n",
    "    \n",
    "    model.compile(optimizer=optimizer,\n",
    "              loss=keras.losses.CategoricalCrossentropy(from_logits=True),\n",
    "              metrics=metrics)\n",
    "    return model"
   ]
  },
  {
   "cell_type": "code",
   "execution_count": 11,
   "metadata": {},
   "outputs": [
    {
     "data": {
      "text/plain": [
       "10"
      ]
     },
     "execution_count": 11,
     "metadata": {},
     "output_type": "execute_result"
    }
   ],
   "source": [
    "# CONSTANTS\n",
    "in_shape = (224, 224, 3)\n",
    "INPUT_SIZE = 224\n",
    "\n",
    "train_dir = './cats/v4/train'\n",
    "test_dir = './cats/v4/test'\n",
    "breeds = os.listdir(train_dir)\n",
    "no_classes = len(breeds)\n",
    "no_classes"
   ]
  },
  {
   "cell_type": "code",
   "execution_count": 12,
   "metadata": {},
   "outputs": [],
   "source": [
    "es = EarlyStopping(monitor='val_loss', patience=10, mode='min', min_delta=0.01, verbose=1)"
   ]
  },
  {
   "cell_type": "markdown",
   "metadata": {},
   "source": [
    "***"
   ]
  },
  {
   "cell_type": "markdown",
   "metadata": {},
   "source": [
    "## Adamax"
   ]
  },
  {
   "cell_type": "code",
   "execution_count": 13,
   "metadata": {},
   "outputs": [],
   "source": [
    "optimizer = keras.optimizers.Adamax()\n",
    "metrics=[keras.metrics.CategoricalAccuracy()]"
   ]
  },
  {
   "cell_type": "markdown",
   "metadata": {},
   "source": [
    "### DenseNet121\n"
   ]
  },
  {
   "cell_type": "code",
   "execution_count": null,
   "metadata": {},
   "outputs": [],
   "source": [
    "augs = ''"
   ]
  },
  {
   "cell_type": "code",
   "execution_count": 19,
   "metadata": {},
   "outputs": [
    {
     "name": "stdout",
     "output_type": "stream",
     "text": [
      "Found 18584 images belonging to 10 classes.\n",
      "Found 7956 images belonging to 10 classes.\n",
      "Found 1000 images belonging to 10 classes.\n"
     ]
    }
   ],
   "source": [
    "data_gen = ImageDataGenerator(preprocessing_function=tf.keras.applications.densenet.preprocess_input, validation_split=0.3)\n",
    "train_batches = data_gen.flow_from_directory(directory=train_dir, target_size=(INPUT_SIZE,INPUT_SIZE), classes=breeds, batch_size=128, subset=\"training\") \n",
    "valid_batches = data_gen.flow_from_directory(directory=train_dir, target_size=(INPUT_SIZE,INPUT_SIZE), classes=breeds, batch_size=128, subset=\"validation\")\n",
    "test_batches = ImageDataGenerator(preprocessing_function=tf.keras.applications.densenet.preprocess_input).flow_from_directory(directory=test_dir, target_size=(INPUT_SIZE,INPUT_SIZE), classes=breeds, batch_size=10, shuffle=False)"
   ]
  },
  {
   "cell_type": "code",
   "execution_count": 23,
   "metadata": {},
   "outputs": [
    {
     "name": "stdout",
     "output_type": "stream",
     "text": [
      "Model: \"model_1\"\n",
      "_________________________________________________________________\n",
      "Layer (type)                 Output Shape              Param #   \n",
      "=================================================================\n",
      "input_4 (InputLayer)         [(None, 331, 331, 3)]     0         \n",
      "_________________________________________________________________\n",
      "NASNet (Functional)          (None, 11, 11, 4032)      84916818  \n",
      "_________________________________________________________________\n",
      "global_average_pooling2d_1 ( (None, 4032)              0         \n",
      "_________________________________________________________________\n",
      "dense_1 (Dense)              (None, 10)                40330     \n",
      "=================================================================\n",
      "Total params: 84,957,148\n",
      "Trainable params: 40,330\n",
      "Non-trainable params: 84,916,818\n",
      "_________________________________________________________________\n"
     ]
    }
   ],
   "source": [
    "den1 = create_model_DenseNet121(number_classes=no_classes, optimizer=optimizer, metrics=metrics)\n",
    "den1.summary()"
   ]
  },
  {
   "cell_type": "code",
   "execution_count": null,
   "metadata": {},
   "outputs": [
    {
     "name": "stdout",
     "output_type": "stream",
     "text": [
      "Epoch 1/100\n",
      "291/291 [==============================] - 900s 3s/step - loss: 1.3529 - categorical_accuracy: 0.5631 - val_loss: 0.9576 - val_categorical_accuracy: 0.6948\n",
      "Epoch 2/100\n",
      "291/291 [==============================] - 817s 3s/step - loss: 0.8710 - categorical_accuracy: 0.7184 - val_loss: 0.8685 - val_categorical_accuracy: 0.7212\n",
      "Epoch 3/100\n",
      "231/291 [======================>.......] - ETA: 1:54 - loss: 0.7801 - categorical_accuracy: 0.7475"
     ]
    }
   ],
   "source": [
    "log_dir=os.path.join('logs','fitden',curTime().strftime(\"%Y%m%d-%H%M%S\"))\n",
    "tb =  TensorBoard(log_dir=log_dir, histogram_freq=1,profile_batch = '500,520')\n",
    "cbks=[tb,es]\n",
    "\n",
    "h_den1 = den1.fit(train_batches,epochs=100, callbacks=cbks,validation_data=valid_batches)"
   ]
  },
  {
   "cell_type": "code",
   "execution_count": null,
   "metadata": {},
   "outputs": [],
   "source": [
    "plotLoss(f'DenseNet121, 128batch, Adamax {augs} - catsv4', h_den1)"
   ]
  },
  {
   "cell_type": "code",
   "execution_count": null,
   "metadata": {},
   "outputs": [],
   "source": [
    "pred_den1 = den1.predict(x=test_batches, steps=len(test_batches), verbose=1)"
   ]
  },
  {
   "cell_type": "code",
   "execution_count": null,
   "metadata": {},
   "outputs": [],
   "source": [
    "displayCM(y_true=test_batches.classes, predictions=pred_den1, plot_labels=cm_plot_labels, title=f'Confusion Matrix DenseNet121, 128b, Adamax {augs} - catsv4')"
   ]
  },
  {
   "cell_type": "markdown",
   "metadata": {},
   "source": [
    "***"
   ]
  },
  {
   "cell_type": "code",
   "execution_count": null,
   "metadata": {},
   "outputs": [],
   "source": [
    "augs = 'flip + rotation'"
   ]
  },
  {
   "cell_type": "code",
   "execution_count": 19,
   "metadata": {},
   "outputs": [
    {
     "name": "stdout",
     "output_type": "stream",
     "text": [
      "Found 18584 images belonging to 10 classes.\n",
      "Found 7956 images belonging to 10 classes.\n",
      "Found 1000 images belonging to 10 classes.\n"
     ]
    }
   ],
   "source": [
    "data_gen = ImageDataGenerator(horizontal_flip=True, rotation_range=90, preprocessing_function=tf.keras.applications.densenet.preprocess_input, validation_split=0.3)\n",
    "train_batches = data_gen.flow_from_directory(directory=train_dir, target_size=(INPUT_SIZE,INPUT_SIZE), classes=breeds, batch_size=128, subset=\"training\") \n",
    "valid_batches = data_gen.flow_from_directory(directory=train_dir, target_size=(INPUT_SIZE,INPUT_SIZE), classes=breeds, batch_size=128, subset=\"validation\")\n",
    "test_batches = ImageDataGenerator(preprocessing_function=tf.keras.applications.densenet.preprocess_input).flow_from_directory(directory=test_dir, target_size=(INPUT_SIZE,INPUT_SIZE), classes=breeds, batch_size=10, shuffle=False)"
   ]
  },
  {
   "cell_type": "code",
   "execution_count": 20,
   "metadata": {},
   "outputs": [
    {
     "name": "stdout",
     "output_type": "stream",
     "text": [
      "Current Time = 23:06:21\n"
     ]
    }
   ],
   "source": [
    "log_dir=os.path.join('logs','fitden',curTime().strftime(\"%Y%m%d-%H%M%S\"))"
   ]
  },
  {
   "cell_type": "code",
   "execution_count": 21,
   "metadata": {},
   "outputs": [],
   "source": [
    "tb =  TensorBoard(log_dir=log_dir, histogram_freq=1,profile_batch = '500,520')"
   ]
  },
  {
   "cell_type": "code",
   "execution_count": 22,
   "metadata": {},
   "outputs": [],
   "source": [
    "cbks=[tb,es]"
   ]
  },
  {
   "cell_type": "code",
   "execution_count": 23,
   "metadata": {},
   "outputs": [
    {
     "name": "stdout",
     "output_type": "stream",
     "text": [
      "Model: \"model_1\"\n",
      "_________________________________________________________________\n",
      "Layer (type)                 Output Shape              Param #   \n",
      "=================================================================\n",
      "input_4 (InputLayer)         [(None, 331, 331, 3)]     0         \n",
      "_________________________________________________________________\n",
      "NASNet (Functional)          (None, 11, 11, 4032)      84916818  \n",
      "_________________________________________________________________\n",
      "global_average_pooling2d_1 ( (None, 4032)              0         \n",
      "_________________________________________________________________\n",
      "dense_1 (Dense)              (None, 10)                40330     \n",
      "=================================================================\n",
      "Total params: 84,957,148\n",
      "Trainable params: 40,330\n",
      "Non-trainable params: 84,916,818\n",
      "_________________________________________________________________\n"
     ]
    }
   ],
   "source": [
    "den11 = create_model_DenseNet121(number_classes=no_classes, optimizer=optimizer, metrics=metrics)\n",
    "den11.summary()"
   ]
  },
  {
   "cell_type": "code",
   "execution_count": null,
   "metadata": {},
   "outputs": [
    {
     "name": "stdout",
     "output_type": "stream",
     "text": [
      "Epoch 1/100\n",
      "291/291 [==============================] - 900s 3s/step - loss: 1.3529 - categorical_accuracy: 0.5631 - val_loss: 0.9576 - val_categorical_accuracy: 0.6948\n",
      "Epoch 2/100\n",
      "291/291 [==============================] - 817s 3s/step - loss: 0.8710 - categorical_accuracy: 0.7184 - val_loss: 0.8685 - val_categorical_accuracy: 0.7212\n",
      "Epoch 3/100\n",
      "231/291 [======================>.......] - ETA: 1:54 - loss: 0.7801 - categorical_accuracy: 0.7475"
     ]
    }
   ],
   "source": [
    "h_den11 = den11.fit(train_batches,epochs=100, callbacks=cbks,validation_data=valid_batches)"
   ]
  },
  {
   "cell_type": "code",
   "execution_count": null,
   "metadata": {},
   "outputs": [],
   "source": [
    "plotLoss(f'DenseNet121, 128batch, Adamax {augs} - catsv4', h_den11)"
   ]
  },
  {
   "cell_type": "code",
   "execution_count": null,
   "metadata": {},
   "outputs": [],
   "source": [
    "pred_den11 = den11.predict(x=test_batches, steps=len(test_batches), verbose=1)"
   ]
  },
  {
   "cell_type": "code",
   "execution_count": null,
   "metadata": {},
   "outputs": [],
   "source": [
    "displayCM(y_true=test_batches.classes, predictions=pred_den11, plot_labels=cm_plot_labels, title=f'Confusion Matrix DenseNet121, 128b, Adamax {augs} - catsv4')"
   ]
  },
  {
   "cell_type": "markdown",
   "metadata": {},
   "source": [
    "***"
   ]
  },
  {
   "cell_type": "code",
   "execution_count": null,
   "metadata": {},
   "outputs": [],
   "source": [
    "augs = 'rotation flip  shear'"
   ]
  },
  {
   "cell_type": "code",
   "execution_count": 19,
   "metadata": {},
   "outputs": [
    {
     "name": "stdout",
     "output_type": "stream",
     "text": [
      "Found 18584 images belonging to 10 classes.\n",
      "Found 7956 images belonging to 10 classes.\n",
      "Found 1000 images belonging to 10 classes.\n"
     ]
    }
   ],
   "source": [
    "data_gen = ImageDataGenerator(horizontal_flip=True, rotation_range=90,shear_range=40, preprocessing_function=tf.keras.applications.densenet.preprocess_input, validation_split=0.3)\n",
    "train_batches = data_gen.flow_from_directory(directory=train_dir, target_size=(INPUT_SIZE,INPUT_SIZE), classes=breeds, batch_size=128, subset=\"training\") \n",
    "valid_batches = data_gen.flow_from_directory(directory=train_dir, target_size=(INPUT_SIZE,INPUT_SIZE), classes=breeds, batch_size=128, subset=\"validation\")\n",
    "test_batches = ImageDataGenerator(preprocessing_function=tf.keras.applications.densenet.preprocess_input).flow_from_directory(directory=test_dir, target_size=(INPUT_SIZE,INPUT_SIZE), classes=breeds, batch_size=10, shuffle=False)"
   ]
  },
  {
   "cell_type": "code",
   "execution_count": 20,
   "metadata": {},
   "outputs": [
    {
     "name": "stdout",
     "output_type": "stream",
     "text": [
      "Current Time = 23:06:21\n"
     ]
    }
   ],
   "source": [
    "log_dir=os.path.join('logs','fitden',curTime().strftime(\"%Y%m%d-%H%M%S\"))"
   ]
  },
  {
   "cell_type": "code",
   "execution_count": 21,
   "metadata": {},
   "outputs": [],
   "source": [
    "tb =  TensorBoard(log_dir=log_dir, histogram_freq=1,profile_batch = '500,520')"
   ]
  },
  {
   "cell_type": "code",
   "execution_count": 22,
   "metadata": {},
   "outputs": [],
   "source": [
    "cbks=[tb,es]"
   ]
  },
  {
   "cell_type": "code",
   "execution_count": 23,
   "metadata": {},
   "outputs": [
    {
     "name": "stdout",
     "output_type": "stream",
     "text": [
      "Model: \"model_1\"\n",
      "_________________________________________________________________\n",
      "Layer (type)                 Output Shape              Param #   \n",
      "=================================================================\n",
      "input_4 (InputLayer)         [(None, 331, 331, 3)]     0         \n",
      "_________________________________________________________________\n",
      "NASNet (Functional)          (None, 11, 11, 4032)      84916818  \n",
      "_________________________________________________________________\n",
      "global_average_pooling2d_1 ( (None, 4032)              0         \n",
      "_________________________________________________________________\n",
      "dense_1 (Dense)              (None, 10)                40330     \n",
      "=================================================================\n",
      "Total params: 84,957,148\n",
      "Trainable params: 40,330\n",
      "Non-trainable params: 84,916,818\n",
      "_________________________________________________________________\n"
     ]
    }
   ],
   "source": [
    "den12 = create_model_DenseNet121(number_classes=no_classes, optimizer=optimizer, metrics=metrics)\n",
    "den12.summary()"
   ]
  },
  {
   "cell_type": "code",
   "execution_count": null,
   "metadata": {},
   "outputs": [
    {
     "name": "stdout",
     "output_type": "stream",
     "text": [
      "Epoch 1/100\n",
      "291/291 [==============================] - 900s 3s/step - loss: 1.3529 - categorical_accuracy: 0.5631 - val_loss: 0.9576 - val_categorical_accuracy: 0.6948\n",
      "Epoch 2/100\n",
      "291/291 [==============================] - 817s 3s/step - loss: 0.8710 - categorical_accuracy: 0.7184 - val_loss: 0.8685 - val_categorical_accuracy: 0.7212\n",
      "Epoch 3/100\n",
      "231/291 [======================>.......] - ETA: 1:54 - loss: 0.7801 - categorical_accuracy: 0.7475"
     ]
    }
   ],
   "source": [
    "h_den12 = den12.fit(train_batches,epochs=100, callbacks=cbks,validation_data=valid_batches)"
   ]
  },
  {
   "cell_type": "code",
   "execution_count": null,
   "metadata": {},
   "outputs": [],
   "source": [
    "plotLoss(f'DenseNet121, 128batch, Adamax {augs} - catsv4', h_den12)"
   ]
  },
  {
   "cell_type": "code",
   "execution_count": null,
   "metadata": {},
   "outputs": [],
   "source": [
    "pred_den12 = den12.predict(x=test_batches, steps=len(test_batches), verbose=1)"
   ]
  },
  {
   "cell_type": "code",
   "execution_count": null,
   "metadata": {},
   "outputs": [],
   "source": [
    "displayCM(y_true=test_batches.classes, predictions=pred_den12, plot_labels=cm_plot_labels, title=f'Confusion Matrix DenseNet121, 128b, Adamax {augs} - catsv4')"
   ]
  },
  {
   "cell_type": "markdown",
   "metadata": {},
   "source": [
    "***"
   ]
  },
  {
   "cell_type": "code",
   "execution_count": null,
   "metadata": {},
   "outputs": [],
   "source": [
    "augs = 'rotation flip brightness'"
   ]
  },
  {
   "cell_type": "code",
   "execution_count": 19,
   "metadata": {},
   "outputs": [
    {
     "name": "stdout",
     "output_type": "stream",
     "text": [
      "Found 18584 images belonging to 10 classes.\n",
      "Found 7956 images belonging to 10 classes.\n",
      "Found 1000 images belonging to 10 classes.\n"
     ]
    }
   ],
   "source": [
    "data_gen = ImageDataGenerator(horizontal_flip=True, rotation_range=90,brightness_range=[0.8,1.2], preprocessing_function=tf.keras.applications.densenet.preprocess_input, validation_split=0.3)\n",
    "train_batches = data_gen.flow_from_directory(directory=train_dir, target_size=(INPUT_SIZE,INPUT_SIZE), classes=breeds, batch_size=128, subset=\"training\") \n",
    "valid_batches = data_gen.flow_from_directory(directory=train_dir, target_size=(INPUT_SIZE,INPUT_SIZE), classes=breeds, batch_size=128, subset=\"validation\")\n",
    "test_batches = ImageDataGenerator(preprocessing_function=tf.keras.applications.densenet.preprocess_input).flow_from_directory(directory=test_dir, target_size=(INPUT_SIZE,INPUT_SIZE), classes=breeds, batch_size=10, shuffle=False)"
   ]
  },
  {
   "cell_type": "code",
   "execution_count": 20,
   "metadata": {},
   "outputs": [
    {
     "name": "stdout",
     "output_type": "stream",
     "text": [
      "Current Time = 23:06:21\n"
     ]
    }
   ],
   "source": [
    "log_dir=os.path.join('logs','fitden',curTime().strftime(\"%Y%m%d-%H%M%S\"))"
   ]
  },
  {
   "cell_type": "code",
   "execution_count": 21,
   "metadata": {},
   "outputs": [],
   "source": [
    "tb =  TensorBoard(log_dir=log_dir, histogram_freq=1,profile_batch = '500,520')"
   ]
  },
  {
   "cell_type": "code",
   "execution_count": 22,
   "metadata": {},
   "outputs": [],
   "source": [
    "cbks=[tb,es]"
   ]
  },
  {
   "cell_type": "code",
   "execution_count": 23,
   "metadata": {},
   "outputs": [
    {
     "name": "stdout",
     "output_type": "stream",
     "text": [
      "Model: \"model_1\"\n",
      "_________________________________________________________________\n",
      "Layer (type)                 Output Shape              Param #   \n",
      "=================================================================\n",
      "input_4 (InputLayer)         [(None, 331, 331, 3)]     0         \n",
      "_________________________________________________________________\n",
      "NASNet (Functional)          (None, 11, 11, 4032)      84916818  \n",
      "_________________________________________________________________\n",
      "global_average_pooling2d_1 ( (None, 4032)              0         \n",
      "_________________________________________________________________\n",
      "dense_1 (Dense)              (None, 10)                40330     \n",
      "=================================================================\n",
      "Total params: 84,957,148\n",
      "Trainable params: 40,330\n",
      "Non-trainable params: 84,916,818\n",
      "_________________________________________________________________\n"
     ]
    }
   ],
   "source": [
    "den13 = create_model_DenseNet121(number_classes=no_classes, optimizer=optimizer, metrics=metrics)\n",
    "den13.summary()"
   ]
  },
  {
   "cell_type": "code",
   "execution_count": null,
   "metadata": {},
   "outputs": [
    {
     "name": "stdout",
     "output_type": "stream",
     "text": [
      "Epoch 1/100\n",
      "291/291 [==============================] - 900s 3s/step - loss: 1.3529 - categorical_accuracy: 0.5631 - val_loss: 0.9576 - val_categorical_accuracy: 0.6948\n",
      "Epoch 2/100\n",
      "291/291 [==============================] - 817s 3s/step - loss: 0.8710 - categorical_accuracy: 0.7184 - val_loss: 0.8685 - val_categorical_accuracy: 0.7212\n",
      "Epoch 3/100\n",
      "231/291 [======================>.......] - ETA: 1:54 - loss: 0.7801 - categorical_accuracy: 0.7475"
     ]
    }
   ],
   "source": [
    "h_den13 = den13.fit(train_batches,epochs=100, callbacks=cbks,validation_data=valid_batches)"
   ]
  },
  {
   "cell_type": "code",
   "execution_count": null,
   "metadata": {},
   "outputs": [],
   "source": [
    "plotLoss(f'DenseNet121, 128batch, Adamax {augs}- catsv4', h_den13)"
   ]
  },
  {
   "cell_type": "code",
   "execution_count": null,
   "metadata": {},
   "outputs": [],
   "source": [
    "pred_den13 = den13.predict(x=test_batches, steps=len(test_batches), verbose=1)"
   ]
  },
  {
   "cell_type": "code",
   "execution_count": null,
   "metadata": {},
   "outputs": [],
   "source": [
    "displayCM(y_true=test_batches.classes, predictions=pred_den13, plot_labels=cm_plot_labels, title=f'Confusion Matrix DenseNet121, 128b, Adamax, {augs} - catsv4')"
   ]
  },
  {
   "cell_type": "markdown",
   "metadata": {},
   "source": [
    "***"
   ]
  },
  {
   "cell_type": "markdown",
   "metadata": {},
   "source": [
    "***"
   ]
  },
  {
   "cell_type": "markdown",
   "metadata": {},
   "source": [
    "### DenseNet169\n"
   ]
  },
  {
   "cell_type": "code",
   "execution_count": null,
   "metadata": {},
   "outputs": [],
   "source": [
    "augs = ''"
   ]
  },
  {
   "cell_type": "code",
   "execution_count": 19,
   "metadata": {},
   "outputs": [
    {
     "name": "stdout",
     "output_type": "stream",
     "text": [
      "Found 18584 images belonging to 10 classes.\n",
      "Found 7956 images belonging to 10 classes.\n",
      "Found 1000 images belonging to 10 classes.\n"
     ]
    }
   ],
   "source": [
    "data_gen = ImageDataGenerator(preprocessing_function=tf.keras.applications.densenet.preprocess_input, validation_split=0.3)\n",
    "train_batches = data_gen.flow_from_directory(directory=train_dir, target_size=(INPUT_SIZE,INPUT_SIZE), classes=breeds, batch_size=128, subset=\"training\") \n",
    "valid_batches = data_gen.flow_from_directory(directory=train_dir, target_size=(INPUT_SIZE,INPUT_SIZE), classes=breeds, batch_size=128, subset=\"validation\")\n",
    "test_batches = ImageDataGenerator(preprocessing_function=tf.keras.applications.densenet.preprocess_input).flow_from_directory(directory=test_dir, target_size=(INPUT_SIZE,INPUT_SIZE), classes=breeds, batch_size=10, shuffle=False)"
   ]
  },
  {
   "cell_type": "code",
   "execution_count": 20,
   "metadata": {},
   "outputs": [
    {
     "name": "stdout",
     "output_type": "stream",
     "text": [
      "Current Time = 23:06:21\n"
     ]
    }
   ],
   "source": [
    "log_dir=os.path.join('logs','fitden',curTime().strftime(\"%Y%m%d-%H%M%S\"))"
   ]
  },
  {
   "cell_type": "code",
   "execution_count": 21,
   "metadata": {},
   "outputs": [],
   "source": [
    "tb =  TensorBoard(log_dir=log_dir, histogram_freq=1,profile_batch = '500,520')"
   ]
  },
  {
   "cell_type": "code",
   "execution_count": 22,
   "metadata": {},
   "outputs": [],
   "source": [
    "cbks=[tb,es]"
   ]
  },
  {
   "cell_type": "code",
   "execution_count": 23,
   "metadata": {},
   "outputs": [
    {
     "name": "stdout",
     "output_type": "stream",
     "text": [
      "Model: \"model_1\"\n",
      "_________________________________________________________________\n",
      "Layer (type)                 Output Shape              Param #   \n",
      "=================================================================\n",
      "input_4 (InputLayer)         [(None, 331, 331, 3)]     0         \n",
      "_________________________________________________________________\n",
      "NASNet (Functional)          (None, 11, 11, 4032)      84916818  \n",
      "_________________________________________________________________\n",
      "global_average_pooling2d_1 ( (None, 4032)              0         \n",
      "_________________________________________________________________\n",
      "dense_1 (Dense)              (None, 10)                40330     \n",
      "=================================================================\n",
      "Total params: 84,957,148\n",
      "Trainable params: 40,330\n",
      "Non-trainable params: 84,916,818\n",
      "_________________________________________________________________\n"
     ]
    }
   ],
   "source": [
    "den2 = create_model_DenseNet169(number_classes=no_classes, optimizer=optimizer, metrics=metrics)\n",
    "den2.summary()"
   ]
  },
  {
   "cell_type": "code",
   "execution_count": null,
   "metadata": {},
   "outputs": [
    {
     "name": "stdout",
     "output_type": "stream",
     "text": [
      "Epoch 1/100\n",
      "291/291 [==============================] - 900s 3s/step - loss: 1.3529 - categorical_accuracy: 0.5631 - val_loss: 0.9576 - val_categorical_accuracy: 0.6948\n",
      "Epoch 2/100\n",
      "291/291 [==============================] - 817s 3s/step - loss: 0.8710 - categorical_accuracy: 0.7184 - val_loss: 0.8685 - val_categorical_accuracy: 0.7212\n",
      "Epoch 3/100\n",
      "231/291 [======================>.......] - ETA: 1:54 - loss: 0.7801 - categorical_accuracy: 0.7475"
     ]
    }
   ],
   "source": [
    "h_den2 = den2.fit(train_batches,epochs=100, callbacks=cbks,validation_data=valid_batches)"
   ]
  },
  {
   "cell_type": "code",
   "execution_count": null,
   "metadata": {},
   "outputs": [],
   "source": [
    "plotLoss(f'DenseNet169, 128batch, Adamax {augs} - catsv4', h_den2)"
   ]
  },
  {
   "cell_type": "code",
   "execution_count": null,
   "metadata": {},
   "outputs": [],
   "source": [
    "pred_den2 = den2.predict(x=test_batches, steps=len(test_batches), verbose=1)"
   ]
  },
  {
   "cell_type": "code",
   "execution_count": null,
   "metadata": {},
   "outputs": [],
   "source": [
    "displayCM(y_true=test_batches.classes, predictions=pred_den2, plot_labels=cm_plot_labels, title=f'Confusion Matrix DenseNet121, 128b, Adamax {augs}- catsv4')"
   ]
  },
  {
   "cell_type": "markdown",
   "metadata": {},
   "source": [
    "***"
   ]
  },
  {
   "cell_type": "code",
   "execution_count": null,
   "metadata": {},
   "outputs": [],
   "source": [
    "augs = 'rotation flip'"
   ]
  },
  {
   "cell_type": "code",
   "execution_count": 19,
   "metadata": {},
   "outputs": [
    {
     "name": "stdout",
     "output_type": "stream",
     "text": [
      "Found 18584 images belonging to 10 classes.\n",
      "Found 7956 images belonging to 10 classes.\n",
      "Found 1000 images belonging to 10 classes.\n"
     ]
    }
   ],
   "source": [
    "data_gen = ImageDataGenerator(horizontal_flip=True, rotation_range=90,preprocessing_function=tf.keras.applications.densenet.preprocess_input, validation_split=0.3)\n",
    "train_batches = data_gen.flow_from_directory(directory=train_dir, target_size=(INPUT_SIZE,INPUT_SIZE), classes=breeds, batch_size=128, subset=\"training\") \n",
    "valid_batches = data_gen.flow_from_directory(directory=train_dir, target_size=(INPUT_SIZE,INPUT_SIZE), classes=breeds, batch_size=128, subset=\"validation\")\n",
    "test_batches = ImageDataGenerator(preprocessing_function=tf.keras.applications.densenet.preprocess_input).flow_from_directory(directory=test_dir, target_size=(INPUT_SIZE,INPUT_SIZE), classes=breeds, batch_size=10, shuffle=False)"
   ]
  },
  {
   "cell_type": "code",
   "execution_count": 20,
   "metadata": {},
   "outputs": [
    {
     "name": "stdout",
     "output_type": "stream",
     "text": [
      "Current Time = 23:06:21\n"
     ]
    }
   ],
   "source": [
    "log_dir=os.path.join('logs','fitden',curTime().strftime(\"%Y%m%d-%H%M%S\"))"
   ]
  },
  {
   "cell_type": "code",
   "execution_count": 21,
   "metadata": {},
   "outputs": [],
   "source": [
    "tb =  TensorBoard(log_dir=log_dir, histogram_freq=1,profile_batch = '500,520')"
   ]
  },
  {
   "cell_type": "code",
   "execution_count": 22,
   "metadata": {},
   "outputs": [],
   "source": [
    "cbks=[tb,es]"
   ]
  },
  {
   "cell_type": "code",
   "execution_count": 23,
   "metadata": {},
   "outputs": [
    {
     "name": "stdout",
     "output_type": "stream",
     "text": [
      "Model: \"model_1\"\n",
      "_________________________________________________________________\n",
      "Layer (type)                 Output Shape              Param #   \n",
      "=================================================================\n",
      "input_4 (InputLayer)         [(None, 331, 331, 3)]     0         \n",
      "_________________________________________________________________\n",
      "NASNet (Functional)          (None, 11, 11, 4032)      84916818  \n",
      "_________________________________________________________________\n",
      "global_average_pooling2d_1 ( (None, 4032)              0         \n",
      "_________________________________________________________________\n",
      "dense_1 (Dense)              (None, 10)                40330     \n",
      "=================================================================\n",
      "Total params: 84,957,148\n",
      "Trainable params: 40,330\n",
      "Non-trainable params: 84,916,818\n",
      "_________________________________________________________________\n"
     ]
    }
   ],
   "source": [
    "den21 = create_model_DenseNet169(number_classes=no_classes, optimizer=optimizer, metrics=metrics)\n",
    "den21.summary()"
   ]
  },
  {
   "cell_type": "code",
   "execution_count": null,
   "metadata": {},
   "outputs": [
    {
     "name": "stdout",
     "output_type": "stream",
     "text": [
      "Epoch 1/100\n",
      "291/291 [==============================] - 900s 3s/step - loss: 1.3529 - categorical_accuracy: 0.5631 - val_loss: 0.9576 - val_categorical_accuracy: 0.6948\n",
      "Epoch 2/100\n",
      "291/291 [==============================] - 817s 3s/step - loss: 0.8710 - categorical_accuracy: 0.7184 - val_loss: 0.8685 - val_categorical_accuracy: 0.7212\n",
      "Epoch 3/100\n",
      "231/291 [======================>.......] - ETA: 1:54 - loss: 0.7801 - categorical_accuracy: 0.7475"
     ]
    }
   ],
   "source": [
    "h_den21 = den21.fit(train_batches,epochs=100, callbacks=cbks,validation_data=valid_batches)"
   ]
  },
  {
   "cell_type": "code",
   "execution_count": null,
   "metadata": {},
   "outputs": [],
   "source": [
    "plotLoss(f'DenseNet169, 128batch, Adamax {augs} - catsv4', h_den21)"
   ]
  },
  {
   "cell_type": "code",
   "execution_count": null,
   "metadata": {},
   "outputs": [],
   "source": [
    "pred_den21 = den21.predict(x=test_batches, steps=len(test_batches), verbose=1)"
   ]
  },
  {
   "cell_type": "code",
   "execution_count": null,
   "metadata": {},
   "outputs": [],
   "source": [
    "displayCM(y_true=test_batches.classes, predictions=pred_den21, plot_labels=cm_plot_labels, title=f'Confusion Matrix DenseNet121, 128b, Adamax {augs} - catsv4')"
   ]
  },
  {
   "cell_type": "markdown",
   "metadata": {},
   "source": [
    "***"
   ]
  },
  {
   "cell_type": "code",
   "execution_count": 21,
   "metadata": {},
   "outputs": [],
   "source": [
    "augs = 'shear'\n",
    "BATCH_SIZE = 128"
   ]
  },
  {
   "cell_type": "code",
   "execution_count": 22,
   "metadata": {},
   "outputs": [
    {
     "name": "stdout",
     "output_type": "stream",
     "text": [
      "Found 18584 images belonging to 10 classes.\n",
      "Found 7956 images belonging to 10 classes.\n",
      "Found 1000 images belonging to 10 classes.\n"
     ]
    }
   ],
   "source": [
    "data_gen = ImageDataGenerator(shear_range=40,preprocessing_function=tf.keras.applications.densenet.preprocess_input, validation_split=0.3)\n",
    "train_batches = data_gen.flow_from_directory(directory=train_dir, target_size=(INPUT_SIZE,INPUT_SIZE), classes=breeds, batch_size=BATCH_SIZE, subset=\"training\") \n",
    "valid_batches = data_gen.flow_from_directory(directory=train_dir, target_size=(INPUT_SIZE,INPUT_SIZE), classes=breeds, batch_size=BATCH_SIZE, subset=\"validation\")\n",
    "test_batches = ImageDataGenerator(preprocessing_function=tf.keras.applications.densenet.preprocess_input).flow_from_directory(directory=test_dir, target_size=(INPUT_SIZE,INPUT_SIZE), classes=breeds, batch_size=10, shuffle=False)"
   ]
  },
  {
   "cell_type": "code",
   "execution_count": 23,
   "metadata": {},
   "outputs": [
    {
     "name": "stdout",
     "output_type": "stream",
     "text": [
      "Current Time = 03:18:40\n"
     ]
    }
   ],
   "source": [
    "log_dir=os.path.join('logs','fitden',curTime().strftime(\"%Y%m%d-%H%M%S\"))"
   ]
  },
  {
   "cell_type": "code",
   "execution_count": 24,
   "metadata": {},
   "outputs": [],
   "source": [
    "tb =  TensorBoard(log_dir=log_dir, histogram_freq=1,profile_batch = '500,520')"
   ]
  },
  {
   "cell_type": "code",
   "execution_count": 25,
   "metadata": {},
   "outputs": [],
   "source": [
    "cbks=[tb,es]"
   ]
  },
  {
   "cell_type": "code",
   "execution_count": 26,
   "metadata": {},
   "outputs": [
    {
     "name": "stdout",
     "output_type": "stream",
     "text": [
      "Model: \"model_1\"\n",
      "_________________________________________________________________\n",
      "Layer (type)                 Output Shape              Param #   \n",
      "=================================================================\n",
      "input_4 (InputLayer)         [(None, 224, 224, 3)]     0         \n",
      "_________________________________________________________________\n",
      "densenet169 (Functional)     (None, 7, 7, 1664)        12642880  \n",
      "_________________________________________________________________\n",
      "global_average_pooling2d_1 ( (None, 1664)              0         \n",
      "_________________________________________________________________\n",
      "dense_1 (Dense)              (None, 10)                16650     \n",
      "=================================================================\n",
      "Total params: 12,659,530\n",
      "Trainable params: 16,650\n",
      "Non-trainable params: 12,642,880\n",
      "_________________________________________________________________\n"
     ]
    }
   ],
   "source": [
    "den22 = create_model_DenseNet169(number_classes=no_classes, optimizer=optimizer, metrics=metrics)\n",
    "den22.summary()"
   ]
  },
  {
   "cell_type": "markdown",
   "metadata": {},
   "source": [
    "# hey"
   ]
  },
  {
   "cell_type": "code",
   "execution_count": 27,
   "metadata": {},
   "outputs": [
    {
     "name": "stdout",
     "output_type": "stream",
     "text": [
      "Epoch 1/100\n",
      "146/146 [==============================] - 1049s 7s/step - loss: 1.9569 - categorical_accuracy: 0.2942 - val_loss: 1.2311 - val_categorical_accuracy: 0.6208\n",
      "Epoch 2/100\n",
      "146/146 [==============================] - 518s 4s/step - loss: 1.1210 - categorical_accuracy: 0.6450 - val_loss: 1.0120 - val_categorical_accuracy: 0.6833\n",
      "Epoch 3/100\n",
      "146/146 [==============================] - 511s 3s/step - loss: 0.9459 - categorical_accuracy: 0.6981 - val_loss: 0.9344 - val_categorical_accuracy: 0.7076\n",
      "Epoch 4/100\n",
      "146/146 [==============================] - 492s 3s/step - loss: 0.8649 - categorical_accuracy: 0.7245 - val_loss: 0.8888 - val_categorical_accuracy: 0.7143\n",
      "Epoch 5/100\n",
      "146/146 [==============================] - 492s 3s/step - loss: 0.8078 - categorical_accuracy: 0.7381 - val_loss: 0.8629 - val_categorical_accuracy: 0.7218\n",
      "Epoch 6/100\n",
      "146/146 [==============================] - 491s 3s/step - loss: 0.7931 - categorical_accuracy: 0.7401 - val_loss: 0.8334 - val_categorical_accuracy: 0.7324\n",
      "Epoch 7/100\n",
      "146/146 [==============================] - 490s 3s/step - loss: 0.7640 - categorical_accuracy: 0.7494 - val_loss: 0.8234 - val_categorical_accuracy: 0.7327\n",
      "Epoch 8/100\n",
      "146/146 [==============================] - 498s 3s/step - loss: 0.7457 - categorical_accuracy: 0.7577 - val_loss: 0.8178 - val_categorical_accuracy: 0.7389\n",
      "Epoch 9/100\n",
      "146/146 [==============================] - 496s 3s/step - loss: 0.7273 - categorical_accuracy: 0.7636 - val_loss: 0.8100 - val_categorical_accuracy: 0.7388\n",
      "Epoch 10/100\n",
      "146/146 [==============================] - 494s 3s/step - loss: 0.7173 - categorical_accuracy: 0.7634 - val_loss: 0.7891 - val_categorical_accuracy: 0.7448\n",
      "Epoch 11/100\n",
      "146/146 [==============================] - 496s 3s/step - loss: 0.7104 - categorical_accuracy: 0.7648 - val_loss: 0.7884 - val_categorical_accuracy: 0.7492\n",
      "Epoch 12/100\n",
      "146/146 [==============================] - 492s 3s/step - loss: 0.6965 - categorical_accuracy: 0.7690 - val_loss: 0.7723 - val_categorical_accuracy: 0.7510\n",
      "Epoch 13/100\n",
      "146/146 [==============================] - 494s 3s/step - loss: 0.6899 - categorical_accuracy: 0.7706 - val_loss: 0.7759 - val_categorical_accuracy: 0.7437\n",
      "Epoch 14/100\n",
      "146/146 [==============================] - 496s 3s/step - loss: 0.6915 - categorical_accuracy: 0.7742 - val_loss: 0.7742 - val_categorical_accuracy: 0.7519\n",
      "Epoch 15/100\n",
      "146/146 [==============================] - 493s 3s/step - loss: 0.6897 - categorical_accuracy: 0.7728 - val_loss: 0.7655 - val_categorical_accuracy: 0.7521\n",
      "Epoch 16/100\n",
      "146/146 [==============================] - 496s 3s/step - loss: 0.6637 - categorical_accuracy: 0.7815 - val_loss: 0.7673 - val_categorical_accuracy: 0.7514\n",
      "Epoch 17/100\n",
      "146/146 [==============================] - 494s 3s/step - loss: 0.6733 - categorical_accuracy: 0.7797 - val_loss: 0.7668 - val_categorical_accuracy: 0.7530\n",
      "Epoch 18/100\n",
      "146/146 [==============================] - 494s 3s/step - loss: 0.6431 - categorical_accuracy: 0.7876 - val_loss: 0.7570 - val_categorical_accuracy: 0.7538\n",
      "Epoch 19/100\n",
      "146/146 [==============================] - 494s 3s/step - loss: 0.6499 - categorical_accuracy: 0.7835 - val_loss: 0.7690 - val_categorical_accuracy: 0.7503\n",
      "Epoch 20/100\n",
      "146/146 [==============================] - 497s 3s/step - loss: 0.6579 - categorical_accuracy: 0.7813 - val_loss: 0.7656 - val_categorical_accuracy: 0.7528\n",
      "Epoch 21/100\n",
      "146/146 [==============================] - 494s 3s/step - loss: 0.6505 - categorical_accuracy: 0.7882 - val_loss: 0.7621 - val_categorical_accuracy: 0.7485\n",
      "Epoch 22/100\n",
      "146/146 [==============================] - 494s 3s/step - loss: 0.6565 - categorical_accuracy: 0.7828 - val_loss: 0.7741 - val_categorical_accuracy: 0.7459\n",
      "Epoch 23/100\n",
      "146/146 [==============================] - 494s 3s/step - loss: 0.6503 - categorical_accuracy: 0.7856 - val_loss: 0.7670 - val_categorical_accuracy: 0.7453\n",
      "Epoch 24/100\n",
      "146/146 [==============================] - 495s 3s/step - loss: 0.6433 - categorical_accuracy: 0.7884 - val_loss: 0.7619 - val_categorical_accuracy: 0.7491\n",
      "Epoch 25/100\n",
      "146/146 [==============================] - 496s 3s/step - loss: 0.6445 - categorical_accuracy: 0.7873 - val_loss: 0.7570 - val_categorical_accuracy: 0.7533\n",
      "Epoch 26/100\n",
      "146/146 [==============================] - 494s 3s/step - loss: 0.6362 - categorical_accuracy: 0.7869 - val_loss: 0.7440 - val_categorical_accuracy: 0.7570\n",
      "Epoch 27/100\n",
      "146/146 [==============================] - 495s 3s/step - loss: 0.6324 - categorical_accuracy: 0.7887 - val_loss: 0.7609 - val_categorical_accuracy: 0.7497\n",
      "Epoch 28/100\n",
      "146/146 [==============================] - 496s 3s/step - loss: 0.6407 - categorical_accuracy: 0.7871 - val_loss: 0.7581 - val_categorical_accuracy: 0.7508\n",
      "Epoch 29/100\n",
      "146/146 [==============================] - 496s 3s/step - loss: 0.6275 - categorical_accuracy: 0.7946 - val_loss: 0.7679 - val_categorical_accuracy: 0.7455\n",
      "Epoch 30/100\n",
      "146/146 [==============================] - 497s 3s/step - loss: 0.6118 - categorical_accuracy: 0.8004 - val_loss: 0.7576 - val_categorical_accuracy: 0.7564\n",
      "Epoch 31/100\n",
      "146/146 [==============================] - 496s 3s/step - loss: 0.6171 - categorical_accuracy: 0.7964 - val_loss: 0.7405 - val_categorical_accuracy: 0.7577\n",
      "Epoch 32/100\n",
      "146/146 [==============================] - 495s 3s/step - loss: 0.6308 - categorical_accuracy: 0.7910 - val_loss: 0.7471 - val_categorical_accuracy: 0.7577\n",
      "Epoch 33/100\n",
      "146/146 [==============================] - 493s 3s/step - loss: 0.6461 - categorical_accuracy: 0.7853 - val_loss: 0.7634 - val_categorical_accuracy: 0.7510\n",
      "Epoch 34/100\n",
      "146/146 [==============================] - 494s 3s/step - loss: 0.6242 - categorical_accuracy: 0.7941 - val_loss: 0.7561 - val_categorical_accuracy: 0.7497\n",
      "Epoch 35/100\n",
      "146/146 [==============================] - 495s 3s/step - loss: 0.6324 - categorical_accuracy: 0.7928 - val_loss: 0.7483 - val_categorical_accuracy: 0.7521\n",
      "Epoch 36/100\n",
      "146/146 [==============================] - 493s 3s/step - loss: 0.6154 - categorical_accuracy: 0.7948 - val_loss: 0.7328 - val_categorical_accuracy: 0.7559\n",
      "Epoch 37/100\n",
      "146/146 [==============================] - 496s 3s/step - loss: 0.6264 - categorical_accuracy: 0.7933 - val_loss: 0.7510 - val_categorical_accuracy: 0.7500\n",
      "Epoch 38/100\n",
      "146/146 [==============================] - 498s 3s/step - loss: 0.6162 - categorical_accuracy: 0.7944 - val_loss: 0.7398 - val_categorical_accuracy: 0.7560\n",
      "Epoch 39/100\n",
      "146/146 [==============================] - 495s 3s/step - loss: 0.6251 - categorical_accuracy: 0.7959 - val_loss: 0.7512 - val_categorical_accuracy: 0.7553\n",
      "Epoch 40/100\n",
      "146/146 [==============================] - 497s 3s/step - loss: 0.6141 - categorical_accuracy: 0.7989 - val_loss: 0.7635 - val_categorical_accuracy: 0.7505\n",
      "Epoch 41/100\n",
      "146/146 [==============================] - 495s 3s/step - loss: 0.6296 - categorical_accuracy: 0.7872 - val_loss: 0.7488 - val_categorical_accuracy: 0.7570\n",
      "Epoch 42/100\n",
      "146/146 [==============================] - 492s 3s/step - loss: 0.6257 - categorical_accuracy: 0.7920 - val_loss: 0.7553 - val_categorical_accuracy: 0.7529\n",
      "Epoch 43/100\n",
      "146/146 [==============================] - 496s 3s/step - loss: 0.6310 - categorical_accuracy: 0.7923 - val_loss: 0.7494 - val_categorical_accuracy: 0.7505\n",
      "Epoch 44/100\n",
      "146/146 [==============================] - 497s 3s/step - loss: 0.6171 - categorical_accuracy: 0.7965 - val_loss: 0.7494 - val_categorical_accuracy: 0.7529\n",
      "Epoch 45/100\n",
      "146/146 [==============================] - 499s 3s/step - loss: 0.6131 - categorical_accuracy: 0.7931 - val_loss: 0.7536 - val_categorical_accuracy: 0.7583\n",
      "Epoch 46/100\n",
      "146/146 [==============================] - 493s 3s/step - loss: 0.6131 - categorical_accuracy: 0.7978 - val_loss: 0.7502 - val_categorical_accuracy: 0.7552\n",
      "Epoch 00046: early stopping\n"
     ]
    }
   ],
   "source": [
    "#105\n",
    "h_den22 = den22.fit(train_batches,epochs=100, callbacks=cbks,validation_data=valid_batches)"
   ]
  },
  {
   "cell_type": "code",
   "execution_count": 29,
   "metadata": {},
   "outputs": [
    {
     "data": {
      "image/png": "[encoded data removed]",
      "text/plain": [
       "<Figure size 432x288 with 1 Axes>"
      ]
     },
     "metadata": {
      "needs_background": "light"
     },
     "output_type": "display_data"
    }
   ],
   "source": [
    "plotLoss(f'DenseNet169, {BATCH_SIZE}, Adamax {augs} - catsv4', h_den22)"
   ]
  },
  {
   "cell_type": "code",
   "execution_count": 30,
   "metadata": {},
   "outputs": [
    {
     "name": "stdout",
     "output_type": "stream",
     "text": [
      "100/100 [==============================] - 27s 226ms/step\n"
     ]
    }
   ],
   "source": [
    "pred_den22 = den22.predict(x=test_batches, steps=len(test_batches), verbose=1)"
   ]
  },
  {
   "cell_type": "code",
   "execution_count": 32,
   "metadata": {},
   "outputs": [
    {
     "name": "stdout",
     "output_type": "stream",
     "text": [
      "Confusion matrix, without normalization\n",
      "[[89  1  1  1  1  0  0  0  5  2]\n",
      " [ 0 61  1  1  2  3  1  7 12 12]\n",
      " [ 1  1 98  0  0  0  0  0  0  0]\n",
      " [ 0  6  0 66 11 10  0  2  1  4]\n",
      " [ 1  2  0 13 72 11  0  1  0  0]\n",
      " [ 1  2  5  7 14 68  0  1  0  2]\n",
      " [ 0  3  2  0  3  0 87  4  0  1]\n",
      " [ 0  6  5  2  3  1  0 80  0  3]\n",
      " [ 4 10  0  0  1  0  0  2 81  2]\n",
      " [ 1  3  0  2  0  1  0  1  0 92]]\n"
     ]
    },
    {
     "data": {
      "image/png": "[encoded data removed]",
      "text/plain": [
       "<Figure size 576x576 with 2 Axes>"
      ]
     },
     "metadata": {
      "needs_background": "light"
     },
     "output_type": "display_data"
    }
   ],
   "source": [
    "displayCM(y_true=test_batches.classes, predictions=pred_den22, plot_labels=breeds, title=f'Confusion Matrix DenseNet169, {BATCH_SIZE},Adamax {augs} - catsv4')"
   ]
  },
  {
   "cell_type": "markdown",
   "metadata": {},
   "source": [
    "***"
   ]
  },
  {
   "cell_type": "markdown",
   "metadata": {},
   "source": [
    "***"
   ]
  },
  {
   "cell_type": "code",
   "execution_count": 33,
   "metadata": {},
   "outputs": [],
   "source": [
    "augs = 'brightness'\n",
    "BATCH_SIZE = 128"
   ]
  },
  {
   "cell_type": "code",
   "execution_count": 34,
   "metadata": {},
   "outputs": [
    {
     "name": "stdout",
     "output_type": "stream",
     "text": [
      "Found 18584 images belonging to 10 classes.\n",
      "Found 7956 images belonging to 10 classes.\n",
      "Found 1000 images belonging to 10 classes.\n"
     ]
    }
   ],
   "source": [
    "data_gen = ImageDataGenerator(brightness_range=[0.8,1.2],preprocessing_function=tf.keras.applications.densenet.preprocess_input, validation_split=0.3)\n",
    "train_batches = data_gen.flow_from_directory(directory=train_dir, target_size=(INPUT_SIZE,INPUT_SIZE), classes=breeds, batch_size=BATCH_SIZE, subset=\"training\") \n",
    "valid_batches = data_gen.flow_from_directory(directory=train_dir, target_size=(INPUT_SIZE,INPUT_SIZE), classes=breeds, batch_size=BATCH_SIZE, subset=\"validation\")\n",
    "test_batches = ImageDataGenerator(preprocessing_function=tf.keras.applications.densenet.preprocess_input).flow_from_directory(directory=test_dir, target_size=(INPUT_SIZE,INPUT_SIZE), classes=breeds, batch_size=10, shuffle=False)"
   ]
  },
  {
   "cell_type": "code",
   "execution_count": 35,
   "metadata": {},
   "outputs": [
    {
     "name": "stdout",
     "output_type": "stream",
     "text": [
      "Current Time = 12:27:22\n"
     ]
    }
   ],
   "source": [
    "log_dir=os.path.join('logs','fitden',curTime().strftime(\"%Y%m%d-%H%M%S\"))"
   ]
  },
  {
   "cell_type": "code",
   "execution_count": 36,
   "metadata": {},
   "outputs": [],
   "source": [
    "tb =  TensorBoard(log_dir=log_dir, histogram_freq=1,profile_batch = '500,520')"
   ]
  },
  {
   "cell_type": "code",
   "execution_count": 37,
   "metadata": {},
   "outputs": [],
   "source": [
    "cbks=[tb,es]"
   ]
  },
  {
   "cell_type": "code",
   "execution_count": 38,
   "metadata": {},
   "outputs": [
    {
     "name": "stdout",
     "output_type": "stream",
     "text": [
      "Model: \"model_2\"\n",
      "_________________________________________________________________\n",
      "Layer (type)                 Output Shape              Param #   \n",
      "=================================================================\n",
      "input_6 (InputLayer)         [(None, 224, 224, 3)]     0         \n",
      "_________________________________________________________________\n",
      "densenet169 (Functional)     (None, 7, 7, 1664)        12642880  \n",
      "_________________________________________________________________\n",
      "global_average_pooling2d_2 ( (None, 1664)              0         \n",
      "_________________________________________________________________\n",
      "dense_2 (Dense)              (None, 10)                16650     \n",
      "=================================================================\n",
      "Total params: 12,659,530\n",
      "Trainable params: 16,650\n",
      "Non-trainable params: 12,642,880\n",
      "_________________________________________________________________\n"
     ]
    }
   ],
   "source": [
    "den23 = create_model_DenseNet169(number_classes=no_classes, optimizer=optimizer, metrics=metrics)\n",
    "den23.summary()"
   ]
  },
  {
   "cell_type": "code",
   "execution_count": 39,
   "metadata": {},
   "outputs": [
    {
     "name": "stdout",
     "output_type": "stream",
     "text": [
      "Epoch 1/100\n",
      "146/146 [==============================] - 404s 3s/step - loss: 1.9197 - categorical_accuracy: 0.5699 - val_loss: 1.1392 - val_categorical_accuracy: 0.6590\n",
      "Epoch 2/100\n",
      "146/146 [==============================] - 318s 2s/step - loss: 1.0164 - categorical_accuracy: 0.6915 - val_loss: 0.9353 - val_categorical_accuracy: 0.7109\n",
      "Epoch 3/100\n",
      "146/146 [==============================] - 333s 2s/step - loss: 0.8578 - categorical_accuracy: 0.7286 - val_loss: 0.8535 - val_categorical_accuracy: 0.7402\n",
      "Epoch 4/100\n",
      "146/146 [==============================] - 368s 3s/step - loss: 0.7797 - categorical_accuracy: 0.7523 - val_loss: 0.8091 - val_categorical_accuracy: 0.7495\n",
      "Epoch 5/100\n",
      "146/146 [==============================] - 358s 2s/step - loss: 0.7376 - categorical_accuracy: 0.7616 - val_loss: 0.7879 - val_categorical_accuracy: 0.7529\n",
      "Epoch 6/100\n",
      "146/146 [==============================] - 356s 2s/step - loss: 0.7048 - categorical_accuracy: 0.7735 - val_loss: 0.7652 - val_categorical_accuracy: 0.7584\n",
      "Epoch 7/100\n",
      "146/146 [==============================] - 351s 2s/step - loss: 0.6863 - categorical_accuracy: 0.7753 - val_loss: 0.7501 - val_categorical_accuracy: 0.7695\n",
      "Epoch 8/100\n",
      "146/146 [==============================] - 343s 2s/step - loss: 0.6630 - categorical_accuracy: 0.7849 - val_loss: 0.7439 - val_categorical_accuracy: 0.7648\n",
      "Epoch 9/100\n",
      "146/146 [==============================] - 338s 2s/step - loss: 0.6458 - categorical_accuracy: 0.7919 - val_loss: 0.7412 - val_categorical_accuracy: 0.7653\n",
      "Epoch 10/100\n",
      "146/146 [==============================] - 367s 3s/step - loss: 0.6243 - categorical_accuracy: 0.7990 - val_loss: 0.7339 - val_categorical_accuracy: 0.7692\n",
      "Epoch 11/100\n",
      "146/146 [==============================] - 356s 2s/step - loss: 0.6221 - categorical_accuracy: 0.8003 - val_loss: 0.7292 - val_categorical_accuracy: 0.7680\n",
      "Epoch 12/100\n",
      "146/146 [==============================] - 370s 3s/step - loss: 0.6198 - categorical_accuracy: 0.7978 - val_loss: 0.7201 - val_categorical_accuracy: 0.7722\n",
      "Epoch 13/100\n",
      "146/146 [==============================] - 372s 3s/step - loss: 0.6066 - categorical_accuracy: 0.8016 - val_loss: 0.7163 - val_categorical_accuracy: 0.7749\n",
      "Epoch 14/100\n",
      "146/146 [==============================] - 350s 2s/step - loss: 0.5840 - categorical_accuracy: 0.8088 - val_loss: 0.7205 - val_categorical_accuracy: 0.7682\n",
      "Epoch 15/100\n",
      "146/146 [==============================] - 364s 2s/step - loss: 0.5847 - categorical_accuracy: 0.8114 - val_loss: 0.7173 - val_categorical_accuracy: 0.7724\n",
      "Epoch 16/100\n",
      "146/146 [==============================] - 362s 2s/step - loss: 0.5819 - categorical_accuracy: 0.8121 - val_loss: 0.7100 - val_categorical_accuracy: 0.7750\n",
      "Epoch 17/100\n",
      "146/146 [==============================] - 343s 2s/step - loss: 0.5794 - categorical_accuracy: 0.8112 - val_loss: 0.7124 - val_categorical_accuracy: 0.7715\n",
      "Epoch 18/100\n",
      "146/146 [==============================] - 351s 2s/step - loss: 0.5811 - categorical_accuracy: 0.8125 - val_loss: 0.7085 - val_categorical_accuracy: 0.7769\n",
      "Epoch 19/100\n",
      "146/146 [==============================] - 352s 2s/step - loss: 0.5720 - categorical_accuracy: 0.8152 - val_loss: 0.7097 - val_categorical_accuracy: 0.7728\n",
      "Epoch 20/100\n",
      "146/146 [==============================] - 353s 2s/step - loss: 0.5541 - categorical_accuracy: 0.8192 - val_loss: 0.7073 - val_categorical_accuracy: 0.7754\n",
      "Epoch 21/100\n",
      "146/146 [==============================] - 382s 3s/step - loss: 0.5705 - categorical_accuracy: 0.8120 - val_loss: 0.7078 - val_categorical_accuracy: 0.7733\n",
      "Epoch 22/100\n",
      "146/146 [==============================] - 451s 3s/step - loss: 0.5518 - categorical_accuracy: 0.8181 - val_loss: 0.7092 - val_categorical_accuracy: 0.7728\n",
      "Epoch 23/100\n",
      "146/146 [==============================] - 528s 4s/step - loss: 0.5574 - categorical_accuracy: 0.8214 - val_loss: 0.7086 - val_categorical_accuracy: 0.7735\n",
      "Epoch 24/100\n",
      "146/146 [==============================] - 546s 4s/step - loss: 0.5514 - categorical_accuracy: 0.8205 - val_loss: 0.7063 - val_categorical_accuracy: 0.7777\n",
      "Epoch 25/100\n",
      "146/146 [==============================] - 529s 4s/step - loss: 0.5437 - categorical_accuracy: 0.8256 - val_loss: 0.7075 - val_categorical_accuracy: 0.7721\n",
      "Epoch 26/100\n",
      "146/146 [==============================] - 514s 4s/step - loss: 0.5438 - categorical_accuracy: 0.8227 - val_loss: 0.7081 - val_categorical_accuracy: 0.7746\n",
      "Epoch 00026: early stopping\n"
     ]
    }
   ],
   "source": [
    "h_den23 = den23.fit(train_batches,epochs=100, callbacks=cbks,validation_data=valid_batches)"
   ]
  },
  {
   "cell_type": "code",
   "execution_count": 40,
   "metadata": {},
   "outputs": [
    {
     "data": {
      "image/png": "[encoded data removed]",
      "text/plain": [
       "<Figure size 432x288 with 1 Axes>"
      ]
     },
     "metadata": {
      "needs_background": "light"
     },
     "output_type": "display_data"
    }
   ],
   "source": [
    "plotLoss(f'DenseNet169, {BATCH_SIZE}, Adamax {augs} - catsv4', h_den23)"
   ]
  },
  {
   "cell_type": "code",
   "execution_count": 41,
   "metadata": {},
   "outputs": [
    {
     "name": "stdout",
     "output_type": "stream",
     "text": [
      "100/100 [==============================] - 21s 178ms/step\n"
     ]
    }
   ],
   "source": [
    "pred_den23 = den23.predict(x=test_batches, steps=len(test_batches), verbose=1)"
   ]
  },
  {
   "cell_type": "code",
   "execution_count": 42,
   "metadata": {},
   "outputs": [
    {
     "name": "stdout",
     "output_type": "stream",
     "text": [
      "Confusion matrix, without normalization\n",
      "[[89  1  1  1  1  0  0  0  6  1]\n",
      " [ 0 66  0  0  1  2  1  9 14  7]\n",
      " [ 1  0 98  0  0  0  0  1  0  0]\n",
      " [ 0  6  0 70  9  9  0  2  1  3]\n",
      " [ 1  3  0 19 65 10  0  2  0  0]\n",
      " [ 1  0  5  7 11 72  0  3  0  1]\n",
      " [ 0  3  1  0  3  0 86  5  0  2]\n",
      " [ 1  5  1  2  1  0  0 88  1  1]\n",
      " [ 3 11  0  0  0  0  0  3 83  0]\n",
      " [ 3  5  0  3  0  1  0  1  1 86]]\n"
     ]
    },
    {
     "data": {
      "image/png": "[encoded data removed]",
      "text/plain": [
       "<Figure size 576x576 with 2 Axes>"
      ]
     },
     "metadata": {
      "needs_background": "light"
     },
     "output_type": "display_data"
    }
   ],
   "source": [
    "displayCM(y_true=test_batches.classes, predictions=pred_den23, plot_labels=breeds, title=f'Confusion Matrix DenseNet169, {BATCH_SIZE},Adamax {augs} - catsv4')"
   ]
  },
  {
   "cell_type": "markdown",
   "metadata": {},
   "source": [
    "***"
   ]
  },
  {
   "cell_type": "markdown",
   "metadata": {},
   "source": [
    "***"
   ]
  },
  {
   "cell_type": "markdown",
   "metadata": {},
   "source": [
    "### DenseNet169\n"
   ]
  },
  {
   "cell_type": "code",
   "execution_count": 43,
   "metadata": {},
   "outputs": [],
   "source": [
    "augs = ''\n",
    "BATCH_SIZE = 64"
   ]
  },
  {
   "cell_type": "code",
   "execution_count": 44,
   "metadata": {},
   "outputs": [
    {
     "name": "stdout",
     "output_type": "stream",
     "text": [
      "Found 18584 images belonging to 10 classes.\n",
      "Found 7956 images belonging to 10 classes.\n",
      "Found 1000 images belonging to 10 classes.\n"
     ]
    }
   ],
   "source": [
    "data_gen = ImageDataGenerator(preprocessing_function=tf.keras.applications.densenet.preprocess_input, validation_split=0.3)\n",
    "train_batches = data_gen.flow_from_directory(directory=train_dir, target_size=(INPUT_SIZE,INPUT_SIZE), classes=breeds, batch_size=BATCH_SIZE, subset=\"training\") \n",
    "valid_batches = data_gen.flow_from_directory(directory=train_dir, target_size=(INPUT_SIZE,INPUT_SIZE), classes=breeds, batch_size=BATCH_SIZE, subset=\"validation\")\n",
    "test_batches = ImageDataGenerator(preprocessing_function=tf.keras.applications.densenet.preprocess_input).flow_from_directory(directory=test_dir, target_size=(INPUT_SIZE,INPUT_SIZE), classes=breeds, batch_size=10, shuffle=False)"
   ]
  },
  {
   "cell_type": "code",
   "execution_count": 45,
   "metadata": {},
   "outputs": [
    {
     "name": "stdout",
     "output_type": "stream",
     "text": [
      "Current Time = 15:17:20\n"
     ]
    }
   ],
   "source": [
    "log_dir=os.path.join('logs','fitden',curTime().strftime(\"%Y%m%d-%H%M%S\"))"
   ]
  },
  {
   "cell_type": "code",
   "execution_count": 46,
   "metadata": {},
   "outputs": [],
   "source": [
    "tb =  TensorBoard(log_dir=log_dir, histogram_freq=1,profile_batch = '500,520')"
   ]
  },
  {
   "cell_type": "code",
   "execution_count": 47,
   "metadata": {},
   "outputs": [],
   "source": [
    "cbks=[tb,es]"
   ]
  },
  {
   "cell_type": "code",
   "execution_count": 48,
   "metadata": {},
   "outputs": [
    {
     "name": "stdout",
     "output_type": "stream",
     "text": [
      "Model: \"model_3\"\n",
      "_________________________________________________________________\n",
      "Layer (type)                 Output Shape              Param #   \n",
      "=================================================================\n",
      "input_8 (InputLayer)         [(None, 224, 224, 3)]     0         \n",
      "_________________________________________________________________\n",
      "densenet169 (Functional)     (None, 7, 7, 1664)        12642880  \n",
      "_________________________________________________________________\n",
      "global_average_pooling2d_3 ( (None, 1664)              0         \n",
      "_________________________________________________________________\n",
      "dense_3 (Dense)              (None, 10)                16650     \n",
      "=================================================================\n",
      "Total params: 12,659,530\n",
      "Trainable params: 16,650\n",
      "Non-trainable params: 12,642,880\n",
      "_________________________________________________________________\n"
     ]
    }
   ],
   "source": [
    "den2_64 = create_model_DenseNet169(number_classes=no_classes, optimizer=optimizer, metrics=metrics)\n",
    "den2_64.summary()"
   ]
  },
  {
   "cell_type": "code",
   "execution_count": 49,
   "metadata": {},
   "outputs": [
    {
     "name": "stdout",
     "output_type": "stream",
     "text": [
      "Epoch 1/100\n",
      "291/291 [==============================] - 448s 2s/step - loss: 1.7793 - categorical_accuracy: 0.6143 - val_loss: 1.0070 - val_categorical_accuracy: 0.6949\n",
      "Epoch 2/100\n",
      "291/291 [==============================] - 348s 1s/step - loss: 0.9061 - categorical_accuracy: 0.7185 - val_loss: 0.8572 - val_categorical_accuracy: 0.7362\n",
      "Epoch 3/100\n",
      "291/291 [==============================] - 356s 1s/step - loss: 0.7771 - categorical_accuracy: 0.7551 - val_loss: 0.8011 - val_categorical_accuracy: 0.7489\n",
      "Epoch 4/100\n",
      "291/291 [==============================] - 394s 1s/step - loss: 0.7347 - categorical_accuracy: 0.7611 - val_loss: 0.7657 - val_categorical_accuracy: 0.7606\n",
      "Epoch 5/100\n",
      "291/291 [==============================] - 362s 1s/step - loss: 0.6808 - categorical_accuracy: 0.7802 - val_loss: 0.7549 - val_categorical_accuracy: 0.7612\n",
      "Epoch 6/100\n",
      "291/291 [==============================] - 327s 1s/step - loss: 0.6480 - categorical_accuracy: 0.7912 - val_loss: 0.7439 - val_categorical_accuracy: 0.7637\n",
      "Epoch 7/100\n",
      "291/291 [==============================] - 311s 1s/step - loss: 0.6332 - categorical_accuracy: 0.7927 - val_loss: 0.7299 - val_categorical_accuracy: 0.7702\n",
      "Epoch 8/100\n",
      "291/291 [==============================] - 348s 1s/step - loss: 0.6206 - categorical_accuracy: 0.7950 - val_loss: 0.7268 - val_categorical_accuracy: 0.7715\n",
      "Epoch 9/100\n",
      "291/291 [==============================] - 340s 1s/step - loss: 0.6129 - categorical_accuracy: 0.7989 - val_loss: 0.7190 - val_categorical_accuracy: 0.7735\n",
      "Epoch 10/100\n",
      "291/291 [==============================] - 354s 1s/step - loss: 0.5978 - categorical_accuracy: 0.8047 - val_loss: 0.7108 - val_categorical_accuracy: 0.7722\n",
      "Epoch 11/100\n",
      "291/291 [==============================] - 466s 2s/step - loss: 0.5851 - categorical_accuracy: 0.8114 - val_loss: 0.7128 - val_categorical_accuracy: 0.7724\n",
      "Epoch 12/100\n",
      "291/291 [==============================] - 482s 2s/step - loss: 0.5809 - categorical_accuracy: 0.8133 - val_loss: 0.7088 - val_categorical_accuracy: 0.7800\n",
      "Epoch 13/100\n",
      "291/291 [==============================] - 571s 2s/step - loss: 0.5786 - categorical_accuracy: 0.8085 - val_loss: 0.7116 - val_categorical_accuracy: 0.7715\n",
      "Epoch 14/100\n",
      "291/291 [==============================] - 413s 1s/step - loss: 0.5581 - categorical_accuracy: 0.8164 - val_loss: 0.7114 - val_categorical_accuracy: 0.7750\n",
      "Epoch 15/100\n",
      "291/291 [==============================] - 393s 1s/step - loss: 0.5664 - categorical_accuracy: 0.8135 - val_loss: 0.7059 - val_categorical_accuracy: 0.7773\n",
      "Epoch 16/100\n",
      "291/291 [==============================] - 334s 1s/step - loss: 0.5563 - categorical_accuracy: 0.8179 - val_loss: 0.7042 - val_categorical_accuracy: 0.7756\n",
      "Epoch 17/100\n",
      "291/291 [==============================] - 302s 1s/step - loss: 0.5557 - categorical_accuracy: 0.8207 - val_loss: 0.7056 - val_categorical_accuracy: 0.7749\n",
      "Epoch 18/100\n",
      "291/291 [==============================] - 299s 1s/step - loss: 0.5462 - categorical_accuracy: 0.8226 - val_loss: 0.7095 - val_categorical_accuracy: 0.7728\n",
      "Epoch 19/100\n",
      "291/291 [==============================] - 301s 1s/step - loss: 0.5352 - categorical_accuracy: 0.8244 - val_loss: 0.7100 - val_categorical_accuracy: 0.7731\n",
      "Epoch 20/100\n",
      "291/291 [==============================] - 301s 1s/step - loss: 0.5449 - categorical_accuracy: 0.8211 - val_loss: 0.6996 - val_categorical_accuracy: 0.7745\n",
      "Epoch 21/100\n",
      "291/291 [==============================] - 300s 1s/step - loss: 0.5386 - categorical_accuracy: 0.8204 - val_loss: 0.7033 - val_categorical_accuracy: 0.7766\n",
      "Epoch 22/100\n",
      "291/291 [==============================] - 300s 1s/step - loss: 0.5345 - categorical_accuracy: 0.8264 - val_loss: 0.7020 - val_categorical_accuracy: 0.7739\n",
      "Epoch 00022: early stopping\n"
     ]
    }
   ],
   "source": [
    "h_den2_64 = den2_64.fit(train_batches,epochs=100, callbacks=cbks,validation_data=valid_batches)"
   ]
  },
  {
   "cell_type": "code",
   "execution_count": 50,
   "metadata": {},
   "outputs": [
    {
     "data": {
      "image/png": "[encoded data removed]",
      "text/plain": [
       "<Figure size 432x288 with 1 Axes>"
      ]
     },
     "metadata": {
      "needs_background": "light"
     },
     "output_type": "display_data"
    }
   ],
   "source": [
    "plotLoss(f'DenseNet169, {BATCH_SIZE}, Adamax {augs} - catsv4', h_den2_64)"
   ]
  },
  {
   "cell_type": "code",
   "execution_count": 51,
   "metadata": {},
   "outputs": [
    {
     "name": "stdout",
     "output_type": "stream",
     "text": [
      "100/100 [==============================] - 21s 178ms/step\n"
     ]
    }
   ],
   "source": [
    "pred_den2_64 = den2_64.predict(x=test_batches, steps=len(test_batches), verbose=1)"
   ]
  },
  {
   "cell_type": "code",
   "execution_count": 53,
   "metadata": {},
   "outputs": [
    {
     "name": "stdout",
     "output_type": "stream",
     "text": [
      "Confusion matrix, without normalization\n",
      "[[86  1  1  1  1  0  0  1  7  2]\n",
      " [ 0 70  0  1  1  2  1  7 11  7]\n",
      " [ 1  0 97  0  0  1  0  1  0  0]\n",
      " [ 0  6  0 66 10 12  0  2  1  3]\n",
      " [ 1  3  0 15 73  7  0  1  0  0]\n",
      " [ 0  2  5  6 12 71  0  2  0  2]\n",
      " [ 0  3  3  0  3  0 86  4  0  1]\n",
      " [ 1  5  4  2  2  0  0 84  1  1]\n",
      " [ 2 11  0  0  1  0  0  3 82  1]\n",
      " [ 2  5  0  2  0  1  0  1  1 88]]\n"
     ]
    },
    {
     "data": {
      "image/png": "[encoded data removed]",
      "text/plain": [
       "<Figure size 576x576 with 2 Axes>"
      ]
     },
     "metadata": {
      "needs_background": "light"
     },
     "output_type": "display_data"
    }
   ],
   "source": [
    "displayCM(y_true=test_batches.classes, predictions=pred_den2_64, plot_labels=breeds, title=f'Confusion Matrix DenseNet169, {BATCH_SIZE}, Adamax {augs}- catsv4')"
   ]
  },
  {
   "cell_type": "markdown",
   "metadata": {},
   "source": [
    "***"
   ]
  },
  {
   "cell_type": "code",
   "execution_count": 54,
   "metadata": {},
   "outputs": [],
   "source": [
    "augs = 'time decay'\n",
    "BATCH_SIZE = 64\n",
    "initial_learning_rate = 0.01\n",
    "epochs = 100\n",
    "decay = initial_learning_rate / epochs\n",
    "def lr_time_based_decay(epoch, lr):\n",
    "    return lr * 1 / (1 + decay * epoch)\n",
    "clr = LearningRateScheduler(lr_time_based_decay, verbose=1)"
   ]
  },
  {
   "cell_type": "code",
   "execution_count": 55,
   "metadata": {},
   "outputs": [
    {
     "name": "stdout",
     "output_type": "stream",
     "text": [
      "Found 18584 images belonging to 10 classes.\n",
      "Found 7956 images belonging to 10 classes.\n",
      "Found 1000 images belonging to 10 classes.\n"
     ]
    }
   ],
   "source": [
    "data_gen = ImageDataGenerator(preprocessing_function=tf.keras.applications.densenet.preprocess_input, validation_split=0.3)\n",
    "train_batches = data_gen.flow_from_directory(directory=train_dir, target_size=(INPUT_SIZE,INPUT_SIZE), classes=breeds, batch_size=BATCH_SIZE, subset=\"training\") \n",
    "valid_batches = data_gen.flow_from_directory(directory=train_dir, target_size=(INPUT_SIZE,INPUT_SIZE), classes=breeds, batch_size=BATCH_SIZE, subset=\"validation\")\n",
    "test_batches = ImageDataGenerator(preprocessing_function=tf.keras.applications.densenet.preprocess_input).flow_from_directory(directory=test_dir, target_size=(INPUT_SIZE,INPUT_SIZE), classes=breeds, batch_size=10, shuffle=False)"
   ]
  },
  {
   "cell_type": "code",
   "execution_count": 56,
   "metadata": {},
   "outputs": [
    {
     "name": "stdout",
     "output_type": "stream",
     "text": [
      "Current Time = 17:39:38\n"
     ]
    }
   ],
   "source": [
    "log_dir=os.path.join('logs','fitden',curTime().strftime(\"%Y%m%d-%H%M%S\"))"
   ]
  },
  {
   "cell_type": "code",
   "execution_count": 57,
   "metadata": {},
   "outputs": [],
   "source": [
    "tb =  TensorBoard(log_dir=log_dir, histogram_freq=1,profile_batch = '500,520')"
   ]
  },
  {
   "cell_type": "code",
   "execution_count": 58,
   "metadata": {},
   "outputs": [],
   "source": [
    "cbks=[tb,es,clr]"
   ]
  },
  {
   "cell_type": "code",
   "execution_count": 59,
   "metadata": {},
   "outputs": [
    {
     "name": "stdout",
     "output_type": "stream",
     "text": [
      "Model: \"model_4\"\n",
      "_________________________________________________________________\n",
      "Layer (type)                 Output Shape              Param #   \n",
      "=================================================================\n",
      "input_10 (InputLayer)        [(None, 224, 224, 3)]     0         \n",
      "_________________________________________________________________\n",
      "densenet169 (Functional)     (None, 7, 7, 1664)        12642880  \n",
      "_________________________________________________________________\n",
      "global_average_pooling2d_4 ( (None, 1664)              0         \n",
      "_________________________________________________________________\n",
      "dense_4 (Dense)              (None, 10)                16650     \n",
      "=================================================================\n",
      "Total params: 12,659,530\n",
      "Trainable params: 16,650\n",
      "Non-trainable params: 12,642,880\n",
      "_________________________________________________________________\n"
     ]
    }
   ],
   "source": [
    "den2_64 = create_model_DenseNet169(number_classes=no_classes, optimizer=optimizer, metrics=metrics)\n",
    "den2_64.summary()"
   ]
  },
  {
   "cell_type": "code",
   "execution_count": 60,
   "metadata": {
    "collapsed": true,
    "jupyter": {
     "outputs_hidden": true
    }
   },
   "outputs": [
    {
     "name": "stdout",
     "output_type": "stream",
     "text": [
      "Epoch 1/100\n",
      "\n",
      "Epoch 00001: LearningRateScheduler reducing learning rate to 0.0010000000474974513.\n",
      "291/291 [==============================] - 519s 2s/step - loss: 1.8786 - categorical_accuracy: 0.5947 - val_loss: 1.0033 - val_categorical_accuracy: 0.6968\n",
      "Epoch 2/100\n",
      "\n",
      "Epoch 00002: LearningRateScheduler reducing learning rate to 0.0009999000574917021.\n",
      "291/291 [==============================] - 473s 2s/step - loss: 0.9163 - categorical_accuracy: 0.7199 - val_loss: 0.8380 - val_categorical_accuracy: 0.7374\n",
      "Epoch 3/100\n",
      "\n",
      "Epoch 00003: LearningRateScheduler reducing learning rate to 0.000999700106714659.\n",
      "291/291 [==============================] - 356s 1s/step - loss: 0.7827 - categorical_accuracy: 0.7506 - val_loss: 0.7846 - val_categorical_accuracy: 0.7514\n",
      "Epoch 4/100\n",
      "\n",
      "Epoch 00004: LearningRateScheduler reducing learning rate to 0.0009994003415259673.\n",
      "291/291 [==============================] - 345s 1s/step - loss: 0.7049 - categorical_accuracy: 0.7743 - val_loss: 0.7510 - val_categorical_accuracy: 0.7622\n",
      "Epoch 5/100\n",
      "\n",
      "Epoch 00005: LearningRateScheduler reducing learning rate to 0.0009990007918579775.\n",
      "291/291 [==============================] - 334s 1s/step - loss: 0.6804 - categorical_accuracy: 0.7806 - val_loss: 0.7358 - val_categorical_accuracy: 0.7673\n",
      "Epoch 6/100\n",
      "\n",
      "Epoch 00006: LearningRateScheduler reducing learning rate to 0.0009985014876310735.\n",
      "291/291 [==============================] - 342s 1s/step - loss: 0.6524 - categorical_accuracy: 0.7868 - val_loss: 0.7212 - val_categorical_accuracy: 0.7696\n",
      "Epoch 7/100\n",
      "\n",
      "Epoch 00007: LearningRateScheduler reducing learning rate to 0.0009979026914447063.\n",
      "291/291 [==============================] - 331s 1s/step - loss: 0.6458 - categorical_accuracy: 0.7939 - val_loss: 0.7292 - val_categorical_accuracy: 0.7685\n",
      "Epoch 8/100\n",
      "\n",
      "Epoch 00008: LearningRateScheduler reducing learning rate to 0.0009972046657933619.\n",
      "291/291 [==============================] - 342s 1s/step - loss: 0.6279 - categorical_accuracy: 0.7947 - val_loss: 0.7082 - val_categorical_accuracy: 0.7745\n",
      "Epoch 9/100\n",
      "\n",
      "Epoch 00009: LearningRateScheduler reducing learning rate to 0.0009964075567443476.\n",
      "291/291 [==============================] - 331s 1s/step - loss: 0.6123 - categorical_accuracy: 0.8022 - val_loss: 0.7086 - val_categorical_accuracy: 0.7744\n",
      "Epoch 10/100\n",
      "\n",
      "Epoch 00010: LearningRateScheduler reducing learning rate to 0.0009955116266172385.\n",
      "291/291 [==============================] - 347s 1s/step - loss: 0.5981 - categorical_accuracy: 0.8040 - val_loss: 0.7058 - val_categorical_accuracy: 0.7746\n",
      "Epoch 11/100\n",
      "\n",
      "Epoch 00011: LearningRateScheduler reducing learning rate to 0.0009945171376267872.\n",
      "291/291 [==============================] - 318s 1s/step - loss: 0.5825 - categorical_accuracy: 0.8116 - val_loss: 0.7079 - val_categorical_accuracy: 0.7706\n",
      "Epoch 12/100\n",
      "\n",
      "Epoch 00012: LearningRateScheduler reducing learning rate to 0.000993424351882975.\n",
      "291/291 [==============================] - 303s 1s/step - loss: 0.5838 - categorical_accuracy: 0.8100 - val_loss: 0.7028 - val_categorical_accuracy: 0.7770\n",
      "Epoch 13/100\n",
      "\n",
      "Epoch 00013: LearningRateScheduler reducing learning rate to 0.0009922336476668565.\n",
      "291/291 [==============================] - 303s 1s/step - loss: 0.5820 - categorical_accuracy: 0.8078 - val_loss: 0.7041 - val_categorical_accuracy: 0.7730\n",
      "Epoch 14/100\n",
      "\n",
      "Epoch 00014: LearningRateScheduler reducing learning rate to 0.00099094540310837.\n",
      "291/291 [==============================] - 312s 1s/step - loss: 0.5710 - categorical_accuracy: 0.8168 - val_loss: 0.6972 - val_categorical_accuracy: 0.7788\n",
      "Epoch 15/100\n",
      "\n",
      "Epoch 00015: LearningRateScheduler reducing learning rate to 0.0009895599961864132.\n",
      "291/291 [==============================] - 332s 1s/step - loss: 0.5707 - categorical_accuracy: 0.8137 - val_loss: 0.6934 - val_categorical_accuracy: 0.7764\n",
      "Epoch 16/100\n",
      "\n",
      "Epoch 00016: LearningRateScheduler reducing learning rate to 0.0009880779209698787.\n",
      "291/291 [==============================] - 336s 1s/step - loss: 0.5496 - categorical_accuracy: 0.8254 - val_loss: 0.6989 - val_categorical_accuracy: 0.7785\n",
      "Epoch 17/100\n",
      "\n",
      "Epoch 00017: LearningRateScheduler reducing learning rate to 0.0009864995551009932.\n",
      "291/291 [==============================] - 348s 1s/step - loss: 0.5545 - categorical_accuracy: 0.8200 - val_loss: 0.6989 - val_categorical_accuracy: 0.7756\n",
      "Epoch 18/100\n",
      "\n",
      "Epoch 00018: LearningRateScheduler reducing learning rate to 0.0009848253922889341.\n",
      "291/291 [==============================] - 450s 2s/step - loss: 0.5403 - categorical_accuracy: 0.8247 - val_loss: 0.7085 - val_categorical_accuracy: 0.7710\n",
      "Epoch 19/100\n",
      "\n",
      "Epoch 00019: LearningRateScheduler reducing learning rate to 0.0009830559260457499.\n",
      "291/291 [==============================] - 696s 2s/step - loss: 0.5387 - categorical_accuracy: 0.8231 - val_loss: 0.6974 - val_categorical_accuracy: 0.7759\n",
      "Epoch 20/100\n",
      "\n",
      "Epoch 00020: LearningRateScheduler reducing learning rate to 0.0009811916496864585.\n",
      "291/291 [==============================] - 551s 2s/step - loss: 0.5405 - categorical_accuracy: 0.8226 - val_loss: 0.6957 - val_categorical_accuracy: 0.7780\n",
      "Epoch 21/100\n",
      "\n",
      "Epoch 00021: LearningRateScheduler reducing learning rate to 0.000979233172512102.\n",
      "291/291 [==============================] - 1027s 4s/step - loss: 0.5304 - categorical_accuracy: 0.8268 - val_loss: 0.6942 - val_categorical_accuracy: 0.7783\n",
      "Epoch 22/100\n",
      "\n",
      "Epoch 00022: LearningRateScheduler reducing learning rate to 0.0009771811035805126.\n",
      "291/291 [==============================] - 1015s 3s/step - loss: 0.5313 - categorical_accuracy: 0.8249 - val_loss: 0.6959 - val_categorical_accuracy: 0.7778\n",
      "Epoch 23/100\n",
      "\n",
      "Epoch 00023: LearningRateScheduler reducing learning rate to 0.0009750360517064341.\n",
      "291/291 [==============================] - 1004s 3s/step - loss: 0.5240 - categorical_accuracy: 0.8277 - val_loss: 0.6916 - val_categorical_accuracy: 0.7765\n",
      "Epoch 24/100\n",
      "\n",
      "Epoch 00024: LearningRateScheduler reducing learning rate to 0.0009727986254616435.\n",
      "291/291 [==============================] - 1001s 3s/step - loss: 0.5233 - categorical_accuracy: 0.8310 - val_loss: 0.6951 - val_categorical_accuracy: 0.7759\n",
      "Epoch 00024: early stopping\n"
     ]
    }
   ],
   "source": [
    "h_den2_64 = den2_64.fit(train_batches,epochs=100, callbacks=cbks,validation_data=valid_batches)"
   ]
  },
  {
   "cell_type": "code",
   "execution_count": 61,
   "metadata": {},
   "outputs": [
    {
     "data": {
      "image/png": "[encoded data removed]",
      "text/plain": [
       "<Figure size 432x288 with 1 Axes>"
      ]
     },
     "metadata": {
      "needs_background": "light"
     },
     "output_type": "display_data"
    }
   ],
   "source": [
    "plotLoss(f'DenseNet169, {BATCH_SIZE}, Adamax {augs} - catsv4', h_den2_64)"
   ]
  },
  {
   "cell_type": "code",
   "execution_count": 62,
   "metadata": {},
   "outputs": [
    {
     "name": "stdout",
     "output_type": "stream",
     "text": [
      "100/100 [==============================] - 106s 805ms/step\n"
     ]
    }
   ],
   "source": [
    "pred_den2_64 = den2_64.predict(x=test_batches, steps=len(test_batches), verbose=1)"
   ]
  },
  {
   "cell_type": "code",
   "execution_count": 63,
   "metadata": {},
   "outputs": [
    {
     "name": "stdout",
     "output_type": "stream",
     "text": [
      "Confusion matrix, without normalization\n",
      "[[86  1  1  1  1  0  0  1  6  3]\n",
      " [ 0 64  1  0  2  2  1  8 14  8]\n",
      " [ 1  1 98  0  0  0  0  0  0  0]\n",
      " [ 0  5  0 68 10  9  0  2  2  4]\n",
      " [ 1  2  1 14 71  9  0  1  1  0]\n",
      " [ 1  1  6  6 11 69  0  3  1  2]\n",
      " [ 0  3  2  1  3  0 86  3  0  2]\n",
      " [ 1  5  4  2  2  0  0 83  2  1]\n",
      " [ 2  8  0  0  0  0  0  2 86  2]\n",
      " [ 1  3  0  1  0  0  0  1  1 93]]\n"
     ]
    },
    {
     "data": {
      "image/png": "[encoded data removed]",
      "text/plain": [
       "<Figure size 576x576 with 2 Axes>"
      ]
     },
     "metadata": {
      "needs_background": "light"
     },
     "output_type": "display_data"
    }
   ],
   "source": [
    "displayCM(y_true=test_batches.classes, predictions=pred_den2_64, plot_labels=breeds, title=f'Confusion Matrix DenseNet169, {BATCH_SIZE}, Adamax {augs}- catsv4')"
   ]
  },
  {
   "cell_type": "markdown",
   "metadata": {},
   "source": [
    "***"
   ]
  },
  {
   "cell_type": "code",
   "execution_count": 64,
   "metadata": {},
   "outputs": [],
   "source": [
    "augs = 'step decay'\n",
    "BATCH_SIZE = 64\n",
    "initial_learning_rate = 0.01\n",
    "def lr_step_decay(epoch, lr):\n",
    "    drop_rate = 0.5\n",
    "    epochs_drop = 10.0\n",
    "    return initial_learning_rate * math.pow(drop_rate, math.floor(epoch/epochs_drop))\n",
    "clr22 = LearningRateScheduler(lr_step_decay, verbose=1)"
   ]
  },
  {
   "cell_type": "code",
   "execution_count": 65,
   "metadata": {},
   "outputs": [
    {
     "name": "stdout",
     "output_type": "stream",
     "text": [
      "Found 18584 images belonging to 10 classes.\n",
      "Found 7956 images belonging to 10 classes.\n",
      "Found 1000 images belonging to 10 classes.\n"
     ]
    }
   ],
   "source": [
    "data_gen = ImageDataGenerator(horizontal_flip=True, rotation_range=90,preprocessing_function=tf.keras.applications.densenet.preprocess_input, validation_split=0.3)\n",
    "train_batches = data_gen.flow_from_directory(directory=train_dir, target_size=(INPUT_SIZE,INPUT_SIZE), classes=breeds, batch_size=BATCH_SIZE, subset=\"training\") \n",
    "valid_batches = data_gen.flow_from_directory(directory=train_dir, target_size=(INPUT_SIZE,INPUT_SIZE), classes=breeds, batch_size=BATCH_SIZE, subset=\"validation\")\n",
    "test_batches = ImageDataGenerator(preprocessing_function=tf.keras.applications.densenet.preprocess_input).flow_from_directory(directory=test_dir, target_size=(INPUT_SIZE,INPUT_SIZE), classes=breeds, batch_size=10, shuffle=False)"
   ]
  },
  {
   "cell_type": "code",
   "execution_count": 66,
   "metadata": {},
   "outputs": [
    {
     "name": "stdout",
     "output_type": "stream",
     "text": [
      "Current Time = 20:58:54\n"
     ]
    }
   ],
   "source": [
    "log_dir=os.path.join('logs','fitden',curTime().strftime(\"%Y%m%d-%H%M%S\"))"
   ]
  },
  {
   "cell_type": "code",
   "execution_count": 67,
   "metadata": {},
   "outputs": [],
   "source": [
    "tb =  TensorBoard(log_dir=log_dir, histogram_freq=1,profile_batch = '500,520')"
   ]
  },
  {
   "cell_type": "code",
   "execution_count": 68,
   "metadata": {},
   "outputs": [],
   "source": [
    "cbks=[tb,es,clr22]"
   ]
  },
  {
   "cell_type": "code",
   "execution_count": 69,
   "metadata": {
    "collapsed": true,
    "jupyter": {
     "outputs_hidden": true
    }
   },
   "outputs": [
    {
     "name": "stdout",
     "output_type": "stream",
     "text": [
      "Model: \"model_5\"\n",
      "_________________________________________________________________\n",
      "Layer (type)                 Output Shape              Param #   \n",
      "=================================================================\n",
      "input_12 (InputLayer)        [(None, 224, 224, 3)]     0         \n",
      "_________________________________________________________________\n",
      "densenet169 (Functional)     (None, 7, 7, 1664)        12642880  \n",
      "_________________________________________________________________\n",
      "global_average_pooling2d_5 ( (None, 1664)              0         \n",
      "_________________________________________________________________\n",
      "dense_5 (Dense)              (None, 10)                16650     \n",
      "=================================================================\n",
      "Total params: 12,659,530\n",
      "Trainable params: 16,650\n",
      "Non-trainable params: 12,642,880\n",
      "_________________________________________________________________\n"
     ]
    }
   ],
   "source": [
    "den21_64 = create_model_DenseNet169(number_classes=no_classes, optimizer=optimizer, metrics=metrics)\n",
    "den21_64.summary()"
   ]
  },
  {
   "cell_type": "code",
   "execution_count": 70,
   "metadata": {
    "collapsed": true,
    "jupyter": {
     "outputs_hidden": true
    }
   },
   "outputs": [
    {
     "name": "stdout",
     "output_type": "stream",
     "text": [
      "Epoch 1/100\n",
      "\n",
      "Epoch 00001: LearningRateScheduler reducing learning rate to 0.01.\n",
      "291/291 [==============================] - 873s 3s/step - loss: 1.2588 - categorical_accuracy: 0.6957 - val_loss: 0.9281 - val_categorical_accuracy: 0.6936\n",
      "Epoch 2/100\n",
      "\n",
      "Epoch 00002: LearningRateScheduler reducing learning rate to 0.01.\n",
      "291/291 [==============================] - 921s 3s/step - loss: 0.8099 - categorical_accuracy: 0.7292 - val_loss: 0.8568 - val_categorical_accuracy: 0.7187\n",
      "Epoch 3/100\n",
      "\n",
      "Epoch 00003: LearningRateScheduler reducing learning rate to 0.01.\n",
      "291/291 [==============================] - 909s 3s/step - loss: 0.7673 - categorical_accuracy: 0.7433 - val_loss: 0.8342 - val_categorical_accuracy: 0.7330\n",
      "Epoch 4/100\n",
      "\n",
      "Epoch 00004: LearningRateScheduler reducing learning rate to 0.01.\n",
      "291/291 [==============================] - 910s 3s/step - loss: 0.7491 - categorical_accuracy: 0.7522 - val_loss: 0.9020 - val_categorical_accuracy: 0.7125\n",
      "Epoch 5/100\n",
      "\n",
      "Epoch 00005: LearningRateScheduler reducing learning rate to 0.01.\n",
      "291/291 [==============================] - 909s 3s/step - loss: 0.7416 - categorical_accuracy: 0.7500 - val_loss: 0.8760 - val_categorical_accuracy: 0.7187\n",
      "Epoch 6/100\n",
      "\n",
      "Epoch 00006: LearningRateScheduler reducing learning rate to 0.01.\n",
      "291/291 [==============================] - 905s 3s/step - loss: 0.7283 - categorical_accuracy: 0.7503 - val_loss: 0.8676 - val_categorical_accuracy: 0.7206\n",
      "Epoch 7/100\n",
      "\n",
      "Epoch 00007: LearningRateScheduler reducing learning rate to 0.01.\n",
      "291/291 [==============================] - 907s 3s/step - loss: 0.7314 - categorical_accuracy: 0.7575 - val_loss: 0.8786 - val_categorical_accuracy: 0.7235\n",
      "Epoch 8/100\n",
      "\n",
      "Epoch 00008: LearningRateScheduler reducing learning rate to 0.01.\n",
      "291/291 [==============================] - 906s 3s/step - loss: 0.7345 - categorical_accuracy: 0.7526 - val_loss: 0.9723 - val_categorical_accuracy: 0.6864\n",
      "Epoch 9/100\n",
      "\n",
      "Epoch 00009: LearningRateScheduler reducing learning rate to 0.01.\n",
      "291/291 [==============================] - 947s 3s/step - loss: 0.7258 - categorical_accuracy: 0.7580 - val_loss: 0.8993 - val_categorical_accuracy: 0.7088\n",
      "Epoch 10/100\n",
      "\n",
      "Epoch 00010: LearningRateScheduler reducing learning rate to 0.01.\n",
      "291/291 [==============================] - 960s 3s/step - loss: 0.7023 - categorical_accuracy: 0.7625 - val_loss: 0.8845 - val_categorical_accuracy: 0.7239\n",
      "Epoch 11/100\n",
      "\n",
      "Epoch 00011: LearningRateScheduler reducing learning rate to 0.005.\n",
      "291/291 [==============================] - 671s 2s/step - loss: 0.6552 - categorical_accuracy: 0.7776 - val_loss: 0.8332 - val_categorical_accuracy: 0.7328\n",
      "Epoch 12/100\n",
      "\n",
      "Epoch 00012: LearningRateScheduler reducing learning rate to 0.005.\n",
      "291/291 [==============================] - 648s 2s/step - loss: 0.6504 - categorical_accuracy: 0.7772 - val_loss: 0.8313 - val_categorical_accuracy: 0.7348\n",
      "Epoch 13/100\n",
      "\n",
      "Epoch 00013: LearningRateScheduler reducing learning rate to 0.005.\n",
      "291/291 [==============================] - 607s 2s/step - loss: 0.6723 - categorical_accuracy: 0.7744 - val_loss: 0.8414 - val_categorical_accuracy: 0.7366\n",
      "Epoch 00013: early stopping\n"
     ]
    }
   ],
   "source": [
    "h_den21_64 = den21_64.fit(train_batches,epochs=100, callbacks=cbks,validation_data=valid_batches)"
   ]
  },
  {
   "cell_type": "code",
   "execution_count": 71,
   "metadata": {},
   "outputs": [
    {
     "data": {
      "image/png": "[encoded data removed]",
      "text/plain": [
       "<Figure size 432x288 with 1 Axes>"
      ]
     },
     "metadata": {
      "needs_background": "light"
     },
     "output_type": "display_data"
    }
   ],
   "source": [
    "plotLoss(f'DenseNet169, {BATCH_SIZE}, Adamax {augs} - catsv4', h_den21_64)"
   ]
  },
  {
   "cell_type": "code",
   "execution_count": 72,
   "metadata": {},
   "outputs": [
    {
     "name": "stdout",
     "output_type": "stream",
     "text": [
      "100/100 [==============================] - 29s 250ms/step\n"
     ]
    }
   ],
   "source": [
    "pred_den21_64 = den21_64.predict(x=test_batches, steps=len(test_batches), verbose=1)"
   ]
  },
  {
   "cell_type": "code",
   "execution_count": 73,
   "metadata": {
    "collapsed": true,
    "jupyter": {
     "outputs_hidden": true
    }
   },
   "outputs": [
    {
     "name": "stdout",
     "output_type": "stream",
     "text": [
      "Confusion matrix, without normalization\n",
      "[[83  1  3  1  1  0  0  3  5  3]\n",
      " [ 0 66  1  2  3  3  0  9 10  6]\n",
      " [ 1  0 99  0  0  0  0  0  0  0]\n",
      " [ 0  5  1 66 17  5  0  3  1  2]\n",
      " [ 1  2  1  9 79  7  0  1  0  0]\n",
      " [ 0  1 10 11 27 47  0  1  0  3]\n",
      " [ 0  6  4  0 12  0 75  3  0  0]\n",
      " [ 1  5  3  2  3  0  0 85  0  1]\n",
      " [ 4 10  1  1  1  0  0  5 77  1]\n",
      " [ 1  4  1  3  0  0  0  2  0 89]]\n"
     ]
    },
    {
     "data": {
      "image/png": "[encoded data removed]",
      "text/plain": [
       "<Figure size 576x576 with 2 Axes>"
      ]
     },
     "metadata": {
      "needs_background": "light"
     },
     "output_type": "display_data"
    }
   ],
   "source": [
    "displayCM(y_true=test_batches.classes, predictions=pred_den21_64, plot_labels=breeds, title=f'Confusion Matrix DenseNet169, {BATCH_SIZE}, Adamax {augs} - catsv4')"
   ]
  },
  {
   "cell_type": "markdown",
   "metadata": {},
   "source": [
    "***"
   ]
  },
  {
   "cell_type": "code",
   "execution_count": null,
   "metadata": {},
   "outputs": [],
   "source": [
    "augs = 'shear'\n",
    "BATCH_SIZE = 64"
   ]
  },
  {
   "cell_type": "code",
   "execution_count": null,
   "metadata": {},
   "outputs": [],
   "source": [
    "data_gen = ImageDataGenerator(shear_range=40,preprocessing_function=tf.keras.applications.densenet.preprocess_input, validation_split=0.3)\n",
    "train_batches = data_gen.flow_from_directory(directory=train_dir, target_size=(INPUT_SIZE,INPUT_SIZE), classes=breeds, batch_size=BATCH_SIZE, subset=\"training\") \n",
    "valid_batches = data_gen.flow_from_directory(directory=train_dir, target_size=(INPUT_SIZE,INPUT_SIZE), classes=breeds, batch_size=BATCH_SIZE, subset=\"validation\")\n",
    "test_batches = ImageDataGenerator(preprocessing_function=tf.keras.applications.densenet.preprocess_input).flow_from_directory(directory=test_dir, target_size=(INPUT_SIZE,INPUT_SIZE), classes=breeds, batch_size=10, shuffle=False)"
   ]
  },
  {
   "cell_type": "code",
   "execution_count": null,
   "metadata": {},
   "outputs": [],
   "source": [
    "log_dir=os.path.join('logs','fitden',curTime().strftime(\"%Y%m%d-%H%M%S\"))"
   ]
  },
  {
   "cell_type": "code",
   "execution_count": null,
   "metadata": {},
   "outputs": [],
   "source": [
    "tb =  TensorBoard(log_dir=log_dir, histogram_freq=1,profile_batch = '500,520')"
   ]
  },
  {
   "cell_type": "code",
   "execution_count": null,
   "metadata": {},
   "outputs": [],
   "source": [
    "cbks=[tb,es]"
   ]
  },
  {
   "cell_type": "code",
   "execution_count": null,
   "metadata": {},
   "outputs": [],
   "source": [
    "den22_64 = create_model_DenseNet169(number_classes=no_classes, optimizer=optimizer, metrics=metrics)\n",
    "den22_64.summary()"
   ]
  },
  {
   "cell_type": "code",
   "execution_count": null,
   "metadata": {},
   "outputs": [],
   "source": [
    "h_den22_64 = den22_64.fit(train_batches,epochs=100, callbacks=cbks,validation_data=valid_batches)"
   ]
  },
  {
   "cell_type": "code",
   "execution_count": null,
   "metadata": {},
   "outputs": [],
   "source": [
    "plotLoss(f'DenseNet169, {BATCH_SIZE}, Adamax {augs} - catsv4', h_den22_64)"
   ]
  },
  {
   "cell_type": "code",
   "execution_count": null,
   "metadata": {},
   "outputs": [],
   "source": [
    "pred_den22_64 = den22_64.predict(x=test_batches, steps=len(test_batches), verbose=1)"
   ]
  },
  {
   "cell_type": "code",
   "execution_count": null,
   "metadata": {},
   "outputs": [],
   "source": [
    "displayCM(y_true=test_batches.classes, predictions=pred_den22_64, plot_labels=breeds, title=f'Confusion Matrix DenseNet169, {BATCH_SIZE},Adamax {augs} - catsv4')"
   ]
  },
  {
   "cell_type": "markdown",
   "metadata": {},
   "source": [
    "***"
   ]
  },
  {
   "cell_type": "markdown",
   "metadata": {},
   "source": [
    "***"
   ]
  },
  {
   "cell_type": "code",
   "execution_count": null,
   "metadata": {},
   "outputs": [],
   "source": [
    "augs = 'brightness'\n",
    "BATCH_SIZE = 64"
   ]
  },
  {
   "cell_type": "code",
   "execution_count": null,
   "metadata": {},
   "outputs": [],
   "source": [
    "data_gen = ImageDataGenerator(brightness_range=[0.8,1.2],preprocessing_function=tf.keras.applications.densenet.preprocess_input, validation_split=0.3)\n",
    "train_batches = data_gen.flow_from_directory(directory=train_dir, target_size=(INPUT_SIZE,INPUT_SIZE), classes=breeds, batch_size=BATCH_SIZE, subset=\"training\") \n",
    "valid_batches = data_gen.flow_from_directory(directory=train_dir, target_size=(INPUT_SIZE,INPUT_SIZE), classes=breeds, batch_size=BATCH_SIZE, subset=\"validation\")\n",
    "test_batches = ImageDataGenerator(preprocessing_function=tf.keras.applications.densenet.preprocess_input).flow_from_directory(directory=test_dir, target_size=(INPUT_SIZE,INPUT_SIZE), classes=breeds, batch_size=10, shuffle=False)"
   ]
  },
  {
   "cell_type": "code",
   "execution_count": null,
   "metadata": {},
   "outputs": [],
   "source": [
    "log_dir=os.path.join('logs','fitden',curTime().strftime(\"%Y%m%d-%H%M%S\"))"
   ]
  },
  {
   "cell_type": "code",
   "execution_count": null,
   "metadata": {},
   "outputs": [],
   "source": [
    "tb =  TensorBoard(log_dir=log_dir, histogram_freq=1,profile_batch = '500,520')"
   ]
  },
  {
   "cell_type": "code",
   "execution_count": null,
   "metadata": {},
   "outputs": [],
   "source": [
    "cbks=[tb,es]"
   ]
  },
  {
   "cell_type": "code",
   "execution_count": null,
   "metadata": {},
   "outputs": [],
   "source": [
    "den23_64 = create_model_DenseNet169(number_classes=no_classes, optimizer=optimizer, metrics=metrics)\n",
    "den23_64.summary()"
   ]
  },
  {
   "cell_type": "code",
   "execution_count": null,
   "metadata": {},
   "outputs": [],
   "source": [
    "h_den23_64 = den23_64.fit(train_batches,epochs=100, callbacks=cbks,validation_data=valid_batches)"
   ]
  },
  {
   "cell_type": "code",
   "execution_count": null,
   "metadata": {},
   "outputs": [],
   "source": [
    "plotLoss(f'DenseNet169, {BATCH_SIZE}, Adamax {augs} - catsv4', h_den23_64)"
   ]
  },
  {
   "cell_type": "code",
   "execution_count": null,
   "metadata": {},
   "outputs": [],
   "source": [
    "pred_den23_64 = den23_64.predict(x=test_batches, steps=len(test_batches), verbose=1)"
   ]
  },
  {
   "cell_type": "code",
   "execution_count": null,
   "metadata": {},
   "outputs": [],
   "source": [
    "displayCM(y_true=test_batches.classes, predictions=pred_den23_64, plot_labels=breeds, title=f'Confusion Matrix DenseNet169, {BATCH_SIZE},Adamax {augs} - catsv4')"
   ]
  },
  {
   "cell_type": "markdown",
   "metadata": {},
   "source": [
    "***"
   ]
  },
  {
   "cell_type": "code",
   "execution_count": null,
   "metadata": {},
   "outputs": [],
   "source": [
    "optimizer2 = keras.optimizers.Adam()"
   ]
  },
  {
   "cell_type": "code",
   "execution_count": null,
   "metadata": {},
   "outputs": [],
   "source": [
    "augs = ''\n",
    "BATCH_SIZE = 64"
   ]
  },
  {
   "cell_type": "code",
   "execution_count": null,
   "metadata": {},
   "outputs": [],
   "source": [
    "data_gen = ImageDataGenerator(preprocessing_function=tf.keras.applications.densenet.preprocess_input, validation_split=0.3)\n",
    "train_batches = data_gen.flow_from_directory(directory=train_dir, target_size=(INPUT_SIZE,INPUT_SIZE), classes=breeds, batch_size=BATCH_SIZE, subset=\"training\") \n",
    "valid_batches = data_gen.flow_from_directory(directory=train_dir, target_size=(INPUT_SIZE,INPUT_SIZE), classes=breeds, batch_size=BATCH_SIZE, subset=\"validation\")\n",
    "test_batches = ImageDataGenerator(preprocessing_function=tf.keras.applications.densenet.preprocess_input).flow_from_directory(directory=test_dir, target_size=(INPUT_SIZE,INPUT_SIZE), classes=breeds, batch_size=10, shuffle=False)"
   ]
  },
  {
   "cell_type": "code",
   "execution_count": null,
   "metadata": {},
   "outputs": [],
   "source": [
    "log_dir=os.path.join('logs','fitden',curTime().strftime(\"%Y%m%d-%H%M%S\"))"
   ]
  },
  {
   "cell_type": "code",
   "execution_count": null,
   "metadata": {},
   "outputs": [],
   "source": [
    "tb =  TensorBoard(log_dir=log_dir, histogram_freq=1,profile_batch = '500,520')"
   ]
  },
  {
   "cell_type": "code",
   "execution_count": null,
   "metadata": {},
   "outputs": [],
   "source": [
    "cbks=[tb,es]"
   ]
  },
  {
   "cell_type": "code",
   "execution_count": null,
   "metadata": {},
   "outputs": [],
   "source": [
    "den2_64_adam = create_model_DenseNet169(number_classes=no_classes, optimizer=optimizer2, metrics=metrics)\n",
    "den2_64_adam.summary()"
   ]
  },
  {
   "cell_type": "code",
   "execution_count": null,
   "metadata": {},
   "outputs": [],
   "source": [
    "h_den2_64_adam = den2_64_adam.fit(train_batches,epochs=100, callbacks=cbks,validation_data=valid_batches)"
   ]
  },
  {
   "cell_type": "code",
   "execution_count": null,
   "metadata": {},
   "outputs": [],
   "source": [
    "plotLoss(f'DenseNet169, {BATCH_SIZE}, Adam {augs} - catsv4', h_den2_64_adam)"
   ]
  },
  {
   "cell_type": "code",
   "execution_count": null,
   "metadata": {},
   "outputs": [],
   "source": [
    "pred_den2_64_adam = den2_64_adam.predict(x=test_batches, steps=len(test_batches), verbose=1)"
   ]
  },
  {
   "cell_type": "code",
   "execution_count": null,
   "metadata": {},
   "outputs": [],
   "source": [
    "displayCM(y_true=test_batches.classes, predictions=pred_den2_64_adam, plot_labels=breeds, title=f'Confusion Matrix DenseNet169, {BATCH_SIZE}, Adam {augs}- catsv4')"
   ]
  },
  {
   "cell_type": "markdown",
   "metadata": {},
   "source": [
    "***"
   ]
  },
  {
   "cell_type": "markdown",
   "metadata": {},
   "source": [
    "### DenseNet201\n"
   ]
  },
  {
   "cell_type": "code",
   "execution_count": null,
   "metadata": {},
   "outputs": [],
   "source": [
    "augs = ''"
   ]
  },
  {
   "cell_type": "code",
   "execution_count": 19,
   "metadata": {},
   "outputs": [
    {
     "name": "stdout",
     "output_type": "stream",
     "text": [
      "Found 18584 images belonging to 10 classes.\n",
      "Found 7956 images belonging to 10 classes.\n",
      "Found 1000 images belonging to 10 classes.\n"
     ]
    }
   ],
   "source": [
    "data_gen = ImageDataGenerator(preprocessing_function=tf.keras.applications.densenet.preprocess_input, validation_split=0.3)\n",
    "train_batches = data_gen.flow_from_directory(directory=train_dir, target_size=(INPUT_SIZE,INPUT_SIZE), classes=breeds, batch_size=128, subset=\"training\") \n",
    "valid_batches = data_gen.flow_from_directory(directory=train_dir, target_size=(INPUT_SIZE,INPUT_SIZE), classes=breeds, batch_size=128, subset=\"validation\")\n",
    "test_batches = ImageDataGenerator(preprocessing_function=tf.keras.applications.densenet.preprocess_input).flow_from_directory(directory=test_dir, target_size=(INPUT_SIZE,INPUT_SIZE), classes=breeds, batch_size=10, shuffle=False)"
   ]
  },
  {
   "cell_type": "code",
   "execution_count": 20,
   "metadata": {},
   "outputs": [
    {
     "name": "stdout",
     "output_type": "stream",
     "text": [
      "Current Time = 23:06:21\n"
     ]
    }
   ],
   "source": [
    "log_dir=os.path.join('logs','fitden',curTime().strftime(\"%Y%m%d-%H%M%S\"))"
   ]
  },
  {
   "cell_type": "code",
   "execution_count": 21,
   "metadata": {},
   "outputs": [],
   "source": [
    "tb =  TensorBoard(log_dir=log_dir, histogram_freq=1,profile_batch = '500,520')"
   ]
  },
  {
   "cell_type": "code",
   "execution_count": 22,
   "metadata": {},
   "outputs": [],
   "source": [
    "cbks=[tb,es]"
   ]
  },
  {
   "cell_type": "code",
   "execution_count": 23,
   "metadata": {},
   "outputs": [
    {
     "name": "stdout",
     "output_type": "stream",
     "text": [
      "Model: \"model_1\"\n",
      "_________________________________________________________________\n",
      "Layer (type)                 Output Shape              Param #   \n",
      "=================================================================\n",
      "input_4 (InputLayer)         [(None, 331, 331, 3)]     0         \n",
      "_________________________________________________________________\n",
      "NASNet (Functional)          (None, 11, 11, 4032)      84916818  \n",
      "_________________________________________________________________\n",
      "global_average_pooling2d_1 ( (None, 4032)              0         \n",
      "_________________________________________________________________\n",
      "dense_1 (Dense)              (None, 10)                40330     \n",
      "=================================================================\n",
      "Total params: 84,957,148\n",
      "Trainable params: 40,330\n",
      "Non-trainable params: 84,916,818\n",
      "_________________________________________________________________\n"
     ]
    }
   ],
   "source": [
    "den3 = create_model_DenseNet201(number_classes=no_classes, optimizer=optimizer, metrics=metrics)\n",
    "den3.summary()"
   ]
  },
  {
   "cell_type": "code",
   "execution_count": null,
   "metadata": {},
   "outputs": [
    {
     "name": "stdout",
     "output_type": "stream",
     "text": [
      "Epoch 1/100\n",
      "291/291 [==============================] - 900s 3s/step - loss: 1.3529 - categorical_accuracy: 0.5631 - val_loss: 0.9576 - val_categorical_accuracy: 0.6948\n",
      "Epoch 2/100\n",
      "291/291 [==============================] - 817s 3s/step - loss: 0.8710 - categorical_accuracy: 0.7184 - val_loss: 0.8685 - val_categorical_accuracy: 0.7212\n",
      "Epoch 3/100\n",
      "231/291 [======================>.......] - ETA: 1:54 - loss: 0.7801 - categorical_accuracy: 0.7475"
     ]
    }
   ],
   "source": [
    "h_den3 = den3.fit(train_batches,epochs=100, callbacks=cbks,validation_data=valid_batches)"
   ]
  },
  {
   "cell_type": "code",
   "execution_count": null,
   "metadata": {},
   "outputs": [],
   "source": [
    "plotLoss(f'DenseNet201, 128batch, Adamax {augs} - catsv4', h_den3)"
   ]
  },
  {
   "cell_type": "code",
   "execution_count": null,
   "metadata": {},
   "outputs": [],
   "source": [
    "pred_den3 = den3.predict(x=test_batches, steps=len(test_batches), verbose=1)"
   ]
  },
  {
   "cell_type": "code",
   "execution_count": null,
   "metadata": {},
   "outputs": [],
   "source": [
    "displayCM(y_true=test_batches.classes, predictions=pred_den3, plot_labels=cm_plot_labels, title=f'Confusion Matrix DenseNet121, 128batch, Adamax {augs} - catsv4')"
   ]
  },
  {
   "cell_type": "markdown",
   "metadata": {},
   "source": [
    "***"
   ]
  },
  {
   "cell_type": "code",
   "execution_count": null,
   "metadata": {},
   "outputs": [],
   "source": [
    "augs = 'rotation flip'"
   ]
  },
  {
   "cell_type": "code",
   "execution_count": 19,
   "metadata": {},
   "outputs": [
    {
     "name": "stdout",
     "output_type": "stream",
     "text": [
      "Found 18584 images belonging to 10 classes.\n",
      "Found 7956 images belonging to 10 classes.\n",
      "Found 1000 images belonging to 10 classes.\n"
     ]
    }
   ],
   "source": [
    "data_gen = ImageDataGenerator(horizontal_flip=True, rotation_range=90,preprocessing_function=tf.keras.applications.densenet.preprocess_input, validation_split=0.3)\n",
    "train_batches = data_gen.flow_from_directory(directory=train_dir, target_size=(INPUT_SIZE,INPUT_SIZE), classes=breeds, batch_size=128, subset=\"training\") \n",
    "valid_batches = data_gen.flow_from_directory(directory=train_dir, target_size=(INPUT_SIZE,INPUT_SIZE), classes=breeds, batch_size=128, subset=\"validation\")\n",
    "test_batches = ImageDataGenerator(preprocessing_function=tf.keras.applications.densenet.preprocess_input).flow_from_directory(directory=test_dir, target_size=(INPUT_SIZE,INPUT_SIZE), classes=breeds, batch_size=10, shuffle=False)"
   ]
  },
  {
   "cell_type": "code",
   "execution_count": 20,
   "metadata": {},
   "outputs": [
    {
     "name": "stdout",
     "output_type": "stream",
     "text": [
      "Current Time = 23:06:21\n"
     ]
    }
   ],
   "source": [
    "log_dir=os.path.join('logs','fitden',curTime().strftime(\"%Y%m%d-%H%M%S\"))"
   ]
  },
  {
   "cell_type": "code",
   "execution_count": 21,
   "metadata": {},
   "outputs": [],
   "source": [
    "tb =  TensorBoard(log_dir=log_dir, histogram_freq=1,profile_batch = '500,520')"
   ]
  },
  {
   "cell_type": "code",
   "execution_count": 22,
   "metadata": {},
   "outputs": [],
   "source": [
    "cbks=[tb,es]"
   ]
  },
  {
   "cell_type": "code",
   "execution_count": 23,
   "metadata": {},
   "outputs": [
    {
     "name": "stdout",
     "output_type": "stream",
     "text": [
      "Model: \"model_1\"\n",
      "_________________________________________________________________\n",
      "Layer (type)                 Output Shape              Param #   \n",
      "=================================================================\n",
      "input_4 (InputLayer)         [(None, 331, 331, 3)]     0         \n",
      "_________________________________________________________________\n",
      "NASNet (Functional)          (None, 11, 11, 4032)      84916818  \n",
      "_________________________________________________________________\n",
      "global_average_pooling2d_1 ( (None, 4032)              0         \n",
      "_________________________________________________________________\n",
      "dense_1 (Dense)              (None, 10)                40330     \n",
      "=================================================================\n",
      "Total params: 84,957,148\n",
      "Trainable params: 40,330\n",
      "Non-trainable params: 84,916,818\n",
      "_________________________________________________________________\n"
     ]
    }
   ],
   "source": [
    "den31 = create_model_DenseNet201(number_classes=no_classes, optimizer=optimizer, metrics=metrics)\n",
    "den31.summary()"
   ]
  },
  {
   "cell_type": "code",
   "execution_count": null,
   "metadata": {},
   "outputs": [
    {
     "name": "stdout",
     "output_type": "stream",
     "text": [
      "Epoch 1/100\n",
      "291/291 [==============================] - 900s 3s/step - loss: 1.3529 - categorical_accuracy: 0.5631 - val_loss: 0.9576 - val_categorical_accuracy: 0.6948\n",
      "Epoch 2/100\n",
      "291/291 [==============================] - 817s 3s/step - loss: 0.8710 - categorical_accuracy: 0.7184 - val_loss: 0.8685 - val_categorical_accuracy: 0.7212\n",
      "Epoch 3/100\n",
      "231/291 [======================>.......] - ETA: 1:54 - loss: 0.7801 - categorical_accuracy: 0.7475"
     ]
    }
   ],
   "source": [
    "h_den31 = den31.fit(train_batches,epochs=100, callbacks=cbks,validation_data=valid_batches)"
   ]
  },
  {
   "cell_type": "code",
   "execution_count": null,
   "metadata": {},
   "outputs": [],
   "source": [
    "plotLoss(f'DenseNet201, 128batch, Adamax {augs} - catsv4', h_den31)"
   ]
  },
  {
   "cell_type": "code",
   "execution_count": null,
   "metadata": {},
   "outputs": [],
   "source": [
    "pred_den31 = den31.predict(x=test_batches, steps=len(test_batches), verbose=1)"
   ]
  },
  {
   "cell_type": "code",
   "execution_count": null,
   "metadata": {},
   "outputs": [],
   "source": [
    "displayCM(y_true=test_batches.classes, predictions=pred_den31, plot_labels=cm_plot_labels, title=f'Confusion Matrix DenseNet121, 128b, Adamax {augs} - catsv4')"
   ]
  },
  {
   "cell_type": "markdown",
   "metadata": {},
   "source": [
    "***"
   ]
  },
  {
   "cell_type": "code",
   "execution_count": null,
   "metadata": {},
   "outputs": [],
   "source": [
    "augs = 'rotation flip shear'"
   ]
  },
  {
   "cell_type": "code",
   "execution_count": 19,
   "metadata": {},
   "outputs": [
    {
     "name": "stdout",
     "output_type": "stream",
     "text": [
      "Found 18584 images belonging to 10 classes.\n",
      "Found 7956 images belonging to 10 classes.\n",
      "Found 1000 images belonging to 10 classes.\n"
     ]
    }
   ],
   "source": [
    "data_gen = ImageDataGenerator(horizontal_flip=True, rotation_range=90,shear_range=40,preprocessing_function=tf.keras.applications.densenet.preprocess_input, validation_split=0.3)\n",
    "train_batches = data_gen.flow_from_directory(directory=train_dir, target_size=(INPUT_SIZE,INPUT_SIZE), classes=breeds, batch_size=128, subset=\"training\") \n",
    "valid_batches = data_gen.flow_from_directory(directory=train_dir, target_size=(INPUT_SIZE,INPUT_SIZE), classes=breeds, batch_size=128, subset=\"validation\")\n",
    "test_batches = ImageDataGenerator(preprocessing_function=tf.keras.applications.densenet.preprocess_input).flow_from_directory(directory=test_dir, target_size=(INPUT_SIZE,INPUT_SIZE), classes=breeds, batch_size=10, shuffle=False)"
   ]
  },
  {
   "cell_type": "code",
   "execution_count": 20,
   "metadata": {},
   "outputs": [
    {
     "name": "stdout",
     "output_type": "stream",
     "text": [
      "Current Time = 23:06:21\n"
     ]
    }
   ],
   "source": [
    "log_dir=os.path.join('logs','fitden',curTime().strftime(\"%Y%m%d-%H%M%S\"))"
   ]
  },
  {
   "cell_type": "code",
   "execution_count": 21,
   "metadata": {},
   "outputs": [],
   "source": [
    "tb =  TensorBoard(log_dir=log_dir, histogram_freq=1,profile_batch = '500,520')"
   ]
  },
  {
   "cell_type": "code",
   "execution_count": 22,
   "metadata": {},
   "outputs": [],
   "source": [
    "cbks=[tb,es]"
   ]
  },
  {
   "cell_type": "code",
   "execution_count": 23,
   "metadata": {},
   "outputs": [
    {
     "name": "stdout",
     "output_type": "stream",
     "text": [
      "Model: \"model_1\"\n",
      "_________________________________________________________________\n",
      "Layer (type)                 Output Shape              Param #   \n",
      "=================================================================\n",
      "input_4 (InputLayer)         [(None, 331, 331, 3)]     0         \n",
      "_________________________________________________________________\n",
      "NASNet (Functional)          (None, 11, 11, 4032)      84916818  \n",
      "_________________________________________________________________\n",
      "global_average_pooling2d_1 ( (None, 4032)              0         \n",
      "_________________________________________________________________\n",
      "dense_1 (Dense)              (None, 10)                40330     \n",
      "=================================================================\n",
      "Total params: 84,957,148\n",
      "Trainable params: 40,330\n",
      "Non-trainable params: 84,916,818\n",
      "_________________________________________________________________\n"
     ]
    }
   ],
   "source": [
    "den32 = create_model_DenseNet201(number_classes=no_classes, optimizer=optimizer, metrics=metrics)\n",
    "den32.summary()"
   ]
  },
  {
   "cell_type": "code",
   "execution_count": null,
   "metadata": {},
   "outputs": [
    {
     "name": "stdout",
     "output_type": "stream",
     "text": [
      "Epoch 1/100\n",
      "291/291 [==============================] - 900s 3s/step - loss: 1.3529 - categorical_accuracy: 0.5631 - val_loss: 0.9576 - val_categorical_accuracy: 0.6948\n",
      "Epoch 2/100\n",
      "291/291 [==============================] - 817s 3s/step - loss: 0.8710 - categorical_accuracy: 0.7184 - val_loss: 0.8685 - val_categorical_accuracy: 0.7212\n",
      "Epoch 3/100\n",
      "231/291 [======================>.......] - ETA: 1:54 - loss: 0.7801 - categorical_accuracy: 0.7475"
     ]
    }
   ],
   "source": [
    "h_den32 = den32.fit(train_batches,epochs=100, callbacks=cbks,validation_data=valid_batches)"
   ]
  },
  {
   "cell_type": "code",
   "execution_count": null,
   "metadata": {},
   "outputs": [],
   "source": [
    "plotLoss(f'DenseNet201, 128batch, Adamax {augs} - catsv4', h_den32)"
   ]
  },
  {
   "cell_type": "code",
   "execution_count": null,
   "metadata": {},
   "outputs": [],
   "source": [
    "pred_den32 = den32.predict(x=test_batches, steps=len(test_batches), verbose=1)"
   ]
  },
  {
   "cell_type": "code",
   "execution_count": null,
   "metadata": {},
   "outputs": [],
   "source": [
    "displayCM(y_true=test_batches.classes, predictions=pred_den32, plot_labels=cm_plot_labels, title=f'Confusion Matrix DenseNet121, 128b,Adamax {augs} - catsv4')"
   ]
  },
  {
   "cell_type": "markdown",
   "metadata": {},
   "source": [
    "***"
   ]
  },
  {
   "cell_type": "code",
   "execution_count": null,
   "metadata": {},
   "outputs": [],
   "source": [
    "augs = 'rotation flip brightness'"
   ]
  },
  {
   "cell_type": "code",
   "execution_count": 19,
   "metadata": {},
   "outputs": [
    {
     "name": "stdout",
     "output_type": "stream",
     "text": [
      "Found 18584 images belonging to 10 classes.\n",
      "Found 7956 images belonging to 10 classes.\n",
      "Found 1000 images belonging to 10 classes.\n"
     ]
    }
   ],
   "source": [
    "data_gen = ImageDataGenerator(horizontal_flip=True, rotation_range=90,,brightness_range=[0.8,1.2],preprocessing_function=tf.keras.applications.densenet.preprocess_input, validation_split=0.3)\n",
    "train_batches = data_gen.flow_from_directory(directory=train_dir, target_size=(INPUT_SIZE,INPUT_SIZE), classes=breeds, batch_size=128, subset=\"training\") \n",
    "valid_batches = data_gen.flow_from_directory(directory=train_dir, target_size=(INPUT_SIZE,INPUT_SIZE), classes=breeds, batch_size=128, subset=\"validation\")\n",
    "test_batches = ImageDataGenerator(preprocessing_function=tf.keras.applications.densenet.preprocess_input).flow_from_directory(directory=test_dir, target_size=(INPUT_SIZE,INPUT_SIZE), classes=breeds, batch_size=10, shuffle=False)"
   ]
  },
  {
   "cell_type": "code",
   "execution_count": 20,
   "metadata": {},
   "outputs": [
    {
     "name": "stdout",
     "output_type": "stream",
     "text": [
      "Current Time = 23:06:21\n"
     ]
    }
   ],
   "source": [
    "log_dir=os.path.join('logs','fitden',curTime().strftime(\"%Y%m%d-%H%M%S\"))"
   ]
  },
  {
   "cell_type": "code",
   "execution_count": 21,
   "metadata": {},
   "outputs": [],
   "source": [
    "tb =  TensorBoard(log_dir=log_dir, histogram_freq=1,profile_batch = '500,520')"
   ]
  },
  {
   "cell_type": "code",
   "execution_count": 22,
   "metadata": {},
   "outputs": [],
   "source": [
    "cbks=[tb,es]"
   ]
  },
  {
   "cell_type": "code",
   "execution_count": 23,
   "metadata": {},
   "outputs": [
    {
     "name": "stdout",
     "output_type": "stream",
     "text": [
      "Model: \"model_1\"\n",
      "_________________________________________________________________\n",
      "Layer (type)                 Output Shape              Param #   \n",
      "=================================================================\n",
      "input_4 (InputLayer)         [(None, 331, 331, 3)]     0         \n",
      "_________________________________________________________________\n",
      "NASNet (Functional)          (None, 11, 11, 4032)      84916818  \n",
      "_________________________________________________________________\n",
      "global_average_pooling2d_1 ( (None, 4032)              0         \n",
      "_________________________________________________________________\n",
      "dense_1 (Dense)              (None, 10)                40330     \n",
      "=================================================================\n",
      "Total params: 84,957,148\n",
      "Trainable params: 40,330\n",
      "Non-trainable params: 84,916,818\n",
      "_________________________________________________________________\n"
     ]
    }
   ],
   "source": [
    "den33 = create_model_DenseNet201(number_classes=no_classes, optimizer=optimizer, metrics=metrics)\n",
    "den33.summary()"
   ]
  },
  {
   "cell_type": "code",
   "execution_count": null,
   "metadata": {},
   "outputs": [
    {
     "name": "stdout",
     "output_type": "stream",
     "text": [
      "Epoch 1/100\n",
      "291/291 [==============================] - 900s 3s/step - loss: 1.3529 - categorical_accuracy: 0.5631 - val_loss: 0.9576 - val_categorical_accuracy: 0.6948\n",
      "Epoch 2/100\n",
      "291/291 [==============================] - 817s 3s/step - loss: 0.8710 - categorical_accuracy: 0.7184 - val_loss: 0.8685 - val_categorical_accuracy: 0.7212\n",
      "Epoch 3/100\n",
      "231/291 [======================>.......] - ETA: 1:54 - loss: 0.7801 - categorical_accuracy: 0.7475"
     ]
    }
   ],
   "source": [
    "h_den33 = den33.fit(train_batches,epochs=100, callbacks=cbks,validation_data=valid_batches)"
   ]
  },
  {
   "cell_type": "code",
   "execution_count": null,
   "metadata": {},
   "outputs": [],
   "source": [
    "plotLoss(f'DenseNet201, 128batch, Adamax {augs} - catsv4', h_den33)"
   ]
  },
  {
   "cell_type": "code",
   "execution_count": null,
   "metadata": {},
   "outputs": [],
   "source": [
    "pred_den33 = den33.predict(x=test_batches, steps=len(test_batches), verbose=1)"
   ]
  },
  {
   "cell_type": "code",
   "execution_count": null,
   "metadata": {},
   "outputs": [],
   "source": [
    "displayCM(y_true=test_batches.classes, predictions=pred_den33, plot_labels=cm_plot_labels, title=f'Confusion Matrix DenseNet121, 128b,Adamax {augs} - catsv4')"
   ]
  },
  {
   "cell_type": "markdown",
   "metadata": {},
   "source": [
    "***"
   ]
  }
 ],
 "metadata": {
  "kernelspec": {
   "display_name": "Python 3",
   "language": "python",
   "name": "python3"
  },
  "language_info": {
   "codemirror_mode": {
    "name": "ipython",
    "version": 3
   },
   "file_extension": ".py",
   "mimetype": "text/x-python",
   "name": "python",
   "nbconvert_exporter": "python",
   "pygments_lexer": "ipython3",
   "version": "3.8.5"
  }
 },
 "nbformat": 4,
 "nbformat_minor": 4
}
