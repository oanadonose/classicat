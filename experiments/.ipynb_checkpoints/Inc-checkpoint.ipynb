{
 "cells": [
  {
   "cell_type": "code",
   "execution_count": null,
   "metadata": {},
   "outputs": [],
   "source": [
    "# inception preprocess function return [-1,1] => no img normalization needed"
   ]
  },
  {
   "cell_type": "code",
   "execution_count": 1,
   "metadata": {},
   "outputs": [],
   "source": [
    "import os, datetime\n",
    "import numpy as np\n",
    "import matplotlib.pyplot as plt\n",
    "import math\n",
    "import pandas as pd\n",
    "from datetime import datetime\n",
    "\n",
    "import tensorflow as tf\n",
    "from tensorflow import keras\n",
    "from tensorflow.keras.preprocessing.image import ImageDataGenerator\n",
    "from tensorflow.keras.callbacks import EarlyStopping, ModelCheckpoint, TensorBoard, LearningRateScheduler"
   ]
  },
  {
   "cell_type": "code",
   "execution_count": 2,
   "metadata": {},
   "outputs": [],
   "source": [
    "def curTime():\n",
    "    now = datetime.now()\n",
    "    current_time = now.strftime(\"%H:%M:%S\")\n",
    "    print(\"Current Time =\", current_time)\n",
    "    return now"
   ]
  },
  {
   "cell_type": "code",
   "execution_count": 3,
   "metadata": {},
   "outputs": [],
   "source": [
    "def plotLoss(title, history):\n",
    "    plt.plot(history.history['loss'], label='train_loss')\n",
    "    plt.plot(history.history['val_loss'], label='val_loss')\n",
    "    plt.title(title)\n",
    "    plt.ylabel('loss')\n",
    "    plt.xlabel('epoch')\n",
    "    plt.show()"
   ]
  },
  {
   "cell_type": "code",
   "execution_count": 4,
   "metadata": {},
   "outputs": [
    {
     "name": "stdout",
     "output_type": "stream",
     "text": [
      "Num GPUs Available:  1\n"
     ]
    }
   ],
   "source": [
    "physical_devices = tf.config.experimental.list_physical_devices('GPU')\n",
    "print(\"Num GPUs Available: \", len(physical_devices))"
   ]
  },
  {
   "cell_type": "code",
   "execution_count": 5,
   "metadata": {},
   "outputs": [
    {
     "data": {
      "text/plain": [
       "'/device:GPU:0'"
      ]
     },
     "execution_count": 5,
     "metadata": {},
     "output_type": "execute_result"
    }
   ],
   "source": [
    "tf.test.gpu_device_name()"
   ]
  },
  {
   "cell_type": "code",
   "execution_count": 6,
   "metadata": {},
   "outputs": [],
   "source": [
    "tf.config.experimental.set_memory_growth(physical_devices[0], True)"
   ]
  },
  {
   "cell_type": "code",
   "execution_count": 7,
   "metadata": {},
   "outputs": [
    {
     "data": {
      "text/plain": [
       "8"
      ]
     },
     "execution_count": 7,
     "metadata": {},
     "output_type": "execute_result"
    }
   ],
   "source": [
    "# CONSTANTS TEST less clasess\n",
    "train_dir = './data3/train'\n",
    "test_dir = './data3/test'\n",
    "breeds = os.listdir(train_dir)\n",
    "no_classes = len(breeds)\n",
    "no_classes"
   ]
  },
  {
   "cell_type": "code",
   "execution_count": 8,
   "metadata": {},
   "outputs": [],
   "source": [
    "es = EarlyStopping(monitor='val_loss', patience=5, mode='min', min_delta=0.01, verbose=1)"
   ]
  },
  {
   "cell_type": "code",
   "execution_count": 9,
   "metadata": {},
   "outputs": [],
   "source": [
    "def create_model_Inception(number_classes, optimizer, metrics, input_shape=(299,299,3)):\n",
    "    \n",
    "    base_model = keras.applications.InceptionV3(\n",
    "        weights='imagenet',\n",
    "        input_shape=input_shape,\n",
    "        include_top=False)\n",
    "    base_model.trainable = False\n",
    "    \n",
    "    inputs = keras.Input(shape=input_shape)\n",
    "    x = base_model(inputs, training=False)\n",
    "    x = keras.layers.GlobalAveragePooling2D()(x)\n",
    "    #x = keras.layers.Flatten()(x)\n",
    "    outputs = keras.layers.Dense(number_classes)(x)\n",
    "    model = keras.Model(inputs, outputs)\n",
    "    \n",
    "    model.compile(optimizer=optimizer,\n",
    "              loss=keras.losses.CategoricalCrossentropy(from_logits=True),\n",
    "              metrics=metrics)\n",
    "    return model"
   ]
  },
  {
   "cell_type": "markdown",
   "metadata": {},
   "source": [
    "***"
   ]
  },
  {
   "cell_type": "code",
   "execution_count": 58,
   "metadata": {},
   "outputs": [
    {
     "name": "stdout",
     "output_type": "stream",
     "text": [
      "Found 12137 images belonging to 8 classes.\n",
      "Found 5198 images belonging to 8 classes.\n",
      "Found 800 images belonging to 8 classes.\n"
     ]
    }
   ],
   "source": [
    "#inc batches 32 val split 0.3 no augs\n",
    "inc_gen1 = ImageDataGenerator(preprocessing_function=tf.keras.applications.inception_v3.preprocess_input, validation_split=0.3)\n",
    "train_batches_1 = inc_gen1.flow_from_directory(train_dir, class_mode='categorical',batch_size=32, shuffle=True, subset='training')\n",
    "valid_batches_1 = inc_gen1.flow_from_directory(train_dir, class_mode='categorical',batch_size=32, shuffle=True, subset='validation')\n",
    "test_batches_1 = ImageDataGenerator(preprocessing_function=tf.keras.applications.inception_v3.preprocess_input) \\\n",
    "    .flow_from_directory(test_dir, batch_size=10)"
   ]
  },
  {
   "cell_type": "code",
   "execution_count": 59,
   "metadata": {},
   "outputs": [
    {
     "name": "stdout",
     "output_type": "stream",
     "text": [
      "Model: \"model_7\"\n",
      "_________________________________________________________________\n",
      "Layer (type)                 Output Shape              Param #   \n",
      "=================================================================\n",
      "input_16 (InputLayer)        [(None, 299, 299, 3)]     0         \n",
      "_________________________________________________________________\n",
      "inception_v3 (Functional)    (None, 8, 8, 2048)        21802784  \n",
      "_________________________________________________________________\n",
      "global_average_pooling2d_7 ( (None, 2048)              0         \n",
      "_________________________________________________________________\n",
      "dense_7 (Dense)              (None, 8)                 16392     \n",
      "=================================================================\n",
      "Total params: 21,819,176\n",
      "Trainable params: 16,392\n",
      "Non-trainable params: 21,802,784\n",
      "_________________________________________________________________\n"
     ]
    }
   ],
   "source": [
    "#1\n",
    "optimizer = keras.optimizers.Adam() # change from Adamax to Adam\n",
    "metrics = [keras.metrics.CategoricalAccuracy()]\n",
    "model_1 = create_model_Inception(number_classes=no_classes, optimizer=optimizer, metrics=metrics)\n",
    "model_1.summary()"
   ]
  },
  {
   "cell_type": "code",
   "execution_count": 60,
   "metadata": {},
   "outputs": [
    {
     "name": "stdout",
     "output_type": "stream",
     "text": [
      "Current Time = 12:09:23\n",
      "Current Time = 12:09:23\n"
     ]
    }
   ],
   "source": [
    "#1\n",
    "start = curTime()\n",
    "log_dir=os.path.join('logs','fitres',curTime().strftime(\"%Y%m%d-%H%M%S\"))\n",
    "tb =  TensorBoard(log_dir=log_dir, histogram_freq=1,profile_batch = '500,520')"
   ]
  },
  {
   "cell_type": "code",
   "execution_count": 61,
   "metadata": {},
   "outputs": [],
   "source": [
    "cbks = [tb, es]"
   ]
  },
  {
   "cell_type": "code",
   "execution_count": 62,
   "metadata": {},
   "outputs": [
    {
     "name": "stdout",
     "output_type": "stream",
     "text": [
      "Epoch 1/100\n",
      "380/380 [==============================] - 333s 863ms/step - loss: 0.9595 - categorical_accuracy: 0.6847 - val_loss: 0.6179 - val_categorical_accuracy: 0.7972\n",
      "Epoch 2/100\n",
      "380/380 [==============================] - 321s 844ms/step - loss: 0.5174 - categorical_accuracy: 0.8306 - val_loss: 0.6160 - val_categorical_accuracy: 0.7897\n",
      "Epoch 3/100\n",
      "380/380 [==============================] - 314s 826ms/step - loss: 0.4862 - categorical_accuracy: 0.8372 - val_loss: 0.6653 - val_categorical_accuracy: 0.7886\n",
      "Epoch 4/100\n",
      "380/380 [==============================] - 319s 841ms/step - loss: 0.4261 - categorical_accuracy: 0.8565 - val_loss: 0.6207 - val_categorical_accuracy: 0.8034\n",
      "Epoch 5/100\n",
      "380/380 [==============================] - 319s 839ms/step - loss: 0.4130 - categorical_accuracy: 0.8645 - val_loss: 0.6111 - val_categorical_accuracy: 0.8080\n",
      "Epoch 6/100\n",
      "380/380 [==============================] - 313s 825ms/step - loss: 0.3848 - categorical_accuracy: 0.8750 - val_loss: 0.7668 - val_categorical_accuracy: 0.7314\n",
      "Epoch 00006: early stopping\n",
      "Current Time = 12:41:44\n"
     ]
    }
   ],
   "source": [
    "h1 = model_1.fit(train_batches_1, epochs=100, callbacks = cbks, validation_data=valid_batches_1)\n",
    "end = curTime()"
   ]
  },
  {
   "cell_type": "code",
   "execution_count": 15,
   "metadata": {},
   "outputs": [
    {
     "data": {
      "image/png": "[encoded data removed]",
      "text/plain": [
       "<Figure size 432x288 with 1 Axes>"
      ]
     },
     "metadata": {
      "needs_background": "light"
     },
     "output_type": "display_data"
    }
   ],
   "source": [
    "plotLoss('Inception #1', h1)"
   ]
  },
  {
   "cell_type": "markdown",
   "metadata": {},
   "source": [
    "***"
   ]
  },
  {
   "cell_type": "code",
   "execution_count": 63,
   "metadata": {},
   "outputs": [
    {
     "name": "stdout",
     "output_type": "stream",
     "text": [
      "Found 12137 images belonging to 8 classes.\n",
      "Found 5198 images belonging to 8 classes.\n",
      "Found 800 images belonging to 8 classes.\n"
     ]
    }
   ],
   "source": [
    "#inc batches 32 val split 0.3 no augs\n",
    "inc_gen2 = ImageDataGenerator(preprocessing_function=tf.keras.applications.inception_v3.preprocess_input, validation_split=0.3)\n",
    "train_batches_2 = inc_gen2.flow_from_directory(train_dir, class_mode='categorical',batch_size=32, shuffle=True, subset='training')\n",
    "valid_batches_2 = inc_gen2.flow_from_directory(train_dir, class_mode='categorical',batch_size=32, shuffle=True, subset='validation')\n",
    "test_batches_2 = ImageDataGenerator(preprocessing_function=tf.keras.applications.inception_v3.preprocess_input) \\\n",
    "    .flow_from_directory(test_dir, batch_size=10)"
   ]
  },
  {
   "cell_type": "code",
   "execution_count": 69,
   "metadata": {},
   "outputs": [
    {
     "name": "stdout",
     "output_type": "stream",
     "text": [
      "Model: \"model_9\"\n",
      "_________________________________________________________________\n",
      "Layer (type)                 Output Shape              Param #   \n",
      "=================================================================\n",
      "input_20 (InputLayer)        [(None, 299, 299, 3)]     0         \n",
      "_________________________________________________________________\n",
      "inception_v3 (Functional)    (None, 8, 8, 2048)        21802784  \n",
      "_________________________________________________________________\n",
      "global_average_pooling2d_9 ( (None, 2048)              0         \n",
      "_________________________________________________________________\n",
      "dense_9 (Dense)              (None, 8)                 16392     \n",
      "=================================================================\n",
      "Total params: 21,819,176\n",
      "Trainable params: 16,392\n",
      "Non-trainable params: 21,802,784\n",
      "_________________________________________________________________\n"
     ]
    }
   ],
   "source": [
    "#2\n",
    "optimizer = keras.optimizers.Adam(learning_rate=0.01) # change Adam learning rate to evaluate  \n",
    "metrics = [keras.metrics.CategoricalAccuracy()]\n",
    "model_2 = create_model_Inception(number_classes=no_classes, optimizer=optimizer, metrics=metrics)\n",
    "model_2.summary()"
   ]
  },
  {
   "cell_type": "code",
   "execution_count": 70,
   "metadata": {},
   "outputs": [
    {
     "name": "stdout",
     "output_type": "stream",
     "text": [
      "Current Time = 14:18:12\n",
      "Current Time = 14:18:12\n"
     ]
    }
   ],
   "source": [
    "#2\n",
    "start = curTime()\n",
    "log_dir=os.path.join('logs','fitres',curTime().strftime(\"%Y%m%d-%H%M%S\"))\n",
    "tb =  TensorBoard(log_dir=log_dir, histogram_freq=1,profile_batch = '500,520')"
   ]
  },
  {
   "cell_type": "code",
   "execution_count": 71,
   "metadata": {},
   "outputs": [],
   "source": [
    "cbks = [tb, es]"
   ]
  },
  {
   "cell_type": "code",
   "execution_count": 72,
   "metadata": {},
   "outputs": [
    {
     "name": "stdout",
     "output_type": "stream",
     "text": [
      "Epoch 1/100\n",
      "380/380 [==============================] - 460s 1s/step - loss: 1.8885 - categorical_accuracy: 0.6426 - val_loss: 1.1407 - val_categorical_accuracy: 0.7651\n",
      "Epoch 2/100\n",
      "380/380 [==============================] - 486s 1s/step - loss: 0.9205 - categorical_accuracy: 0.7909 - val_loss: 1.2295 - val_categorical_accuracy: 0.7688\n",
      "Epoch 3/100\n",
      "380/380 [==============================] - 460s 1s/step - loss: 0.9583 - categorical_accuracy: 0.7957 - val_loss: 1.5670 - val_categorical_accuracy: 0.7676\n",
      "Epoch 4/100\n",
      "380/380 [==============================] - 438s 1s/step - loss: 0.8403 - categorical_accuracy: 0.8286 - val_loss: 1.8197 - val_categorical_accuracy: 0.7320\n",
      "Epoch 5/100\n",
      "380/380 [==============================] - 397s 1s/step - loss: 0.8992 - categorical_accuracy: 0.8240 - val_loss: 1.6100 - val_categorical_accuracy: 0.7522\n",
      "Epoch 6/100\n",
      "380/380 [==============================] - 370s 974ms/step - loss: 0.7405 - categorical_accuracy: 0.8474 - val_loss: 1.6124 - val_categorical_accuracy: 0.7503\n",
      "Epoch 00006: early stopping\n",
      "Current Time = 15:02:05\n"
     ]
    }
   ],
   "source": [
    "h2 = model_2.fit(train_batches_2, epochs=100, callbacks = cbks, validation_data=valid_batches_2)\n",
    "end = curTime()"
   ]
  },
  {
   "cell_type": "code",
   "execution_count": 74,
   "metadata": {},
   "outputs": [
    {
     "name": "stdout",
     "output_type": "stream",
     "text": [
      "Epoch 1/100\n",
      "380/380 [==============================] - 331s 873ms/step - loss: 0.7976 - categorical_accuracy: 0.8378 - val_loss: 1.7350 - val_categorical_accuracy: 0.7782\n",
      "Epoch 2/100\n",
      "380/380 [==============================] - 319s 839ms/step - loss: 0.7146 - categorical_accuracy: 0.8489 - val_loss: 1.8201 - val_categorical_accuracy: 0.7251\n",
      "Epoch 3/100\n",
      "380/380 [==============================] - 324s 853ms/step - loss: 0.8228 - categorical_accuracy: 0.8447 - val_loss: 2.0196 - val_categorical_accuracy: 0.7482\n",
      "Epoch 4/100\n",
      "380/380 [==============================] - 343s 903ms/step - loss: 0.6534 - categorical_accuracy: 0.8641 - val_loss: 2.0359 - val_categorical_accuracy: 0.7372\n",
      "Epoch 5/100\n",
      "380/380 [==============================] - 368s 971ms/step - loss: 0.7248 - categorical_accuracy: 0.8563 - val_loss: 1.7706 - val_categorical_accuracy: 0.7897\n",
      "Epoch 6/100\n",
      " 80/380 [=====>........................] - ETA: 4:44 - loss: 0.5585 - categorical_accuracy: 0.8852"
     ]
    },
    {
     "ename": "KeyboardInterrupt",
     "evalue": "",
     "output_type": "error",
     "traceback": [
      "\u001b[1;31m---------------------------------------------------------------------------\u001b[0m",
      "\u001b[1;31mKeyboardInterrupt\u001b[0m                         Traceback (most recent call last)",
      "\u001b[1;32m<ipython-input-74-e00840cc0431>\u001b[0m in \u001b[0;36m<module>\u001b[1;34m\u001b[0m\n\u001b[1;32m----> 1\u001b[1;33m \u001b[0mh3\u001b[0m \u001b[1;33m=\u001b[0m \u001b[0mmodel_2\u001b[0m\u001b[1;33m.\u001b[0m\u001b[0mfit\u001b[0m\u001b[1;33m(\u001b[0m\u001b[0mtrain_batches_2\u001b[0m\u001b[1;33m,\u001b[0m \u001b[0mepochs\u001b[0m\u001b[1;33m=\u001b[0m\u001b[1;36m100\u001b[0m\u001b[1;33m,\u001b[0m \u001b[0mcallbacks\u001b[0m \u001b[1;33m=\u001b[0m \u001b[0mcbks\u001b[0m\u001b[1;33m,\u001b[0m \u001b[0mvalidation_data\u001b[0m\u001b[1;33m=\u001b[0m\u001b[0mvalid_batches_2\u001b[0m\u001b[1;33m)\u001b[0m\u001b[1;33m\u001b[0m\u001b[1;33m\u001b[0m\u001b[0m\n\u001b[0m\u001b[0;32m      2\u001b[0m \u001b[0mend\u001b[0m \u001b[1;33m=\u001b[0m \u001b[0mcurTime\u001b[0m\u001b[1;33m(\u001b[0m\u001b[1;33m)\u001b[0m\u001b[1;33m\u001b[0m\u001b[1;33m\u001b[0m\u001b[0m\n",
      "\u001b[1;32m~\\anaconda3\\envs\\copy\\lib\\site-packages\\tensorflow\\python\\keras\\engine\\training.py\u001b[0m in \u001b[0;36mfit\u001b[1;34m(self, x, y, batch_size, epochs, verbose, callbacks, validation_split, validation_data, shuffle, class_weight, sample_weight, initial_epoch, steps_per_epoch, validation_steps, validation_batch_size, validation_freq, max_queue_size, workers, use_multiprocessing)\u001b[0m\n\u001b[0;32m   1098\u001b[0m                 _r=1):\n\u001b[0;32m   1099\u001b[0m               \u001b[0mcallbacks\u001b[0m\u001b[1;33m.\u001b[0m\u001b[0mon_train_batch_begin\u001b[0m\u001b[1;33m(\u001b[0m\u001b[0mstep\u001b[0m\u001b[1;33m)\u001b[0m\u001b[1;33m\u001b[0m\u001b[1;33m\u001b[0m\u001b[0m\n\u001b[1;32m-> 1100\u001b[1;33m               \u001b[0mtmp_logs\u001b[0m \u001b[1;33m=\u001b[0m \u001b[0mself\u001b[0m\u001b[1;33m.\u001b[0m\u001b[0mtrain_function\u001b[0m\u001b[1;33m(\u001b[0m\u001b[0miterator\u001b[0m\u001b[1;33m)\u001b[0m\u001b[1;33m\u001b[0m\u001b[1;33m\u001b[0m\u001b[0m\n\u001b[0m\u001b[0;32m   1101\u001b[0m               \u001b[1;32mif\u001b[0m \u001b[0mdata_handler\u001b[0m\u001b[1;33m.\u001b[0m\u001b[0mshould_sync\u001b[0m\u001b[1;33m:\u001b[0m\u001b[1;33m\u001b[0m\u001b[1;33m\u001b[0m\u001b[0m\n\u001b[0;32m   1102\u001b[0m                 \u001b[0mcontext\u001b[0m\u001b[1;33m.\u001b[0m\u001b[0masync_wait\u001b[0m\u001b[1;33m(\u001b[0m\u001b[1;33m)\u001b[0m\u001b[1;33m\u001b[0m\u001b[1;33m\u001b[0m\u001b[0m\n",
      "\u001b[1;32m~\\anaconda3\\envs\\copy\\lib\\site-packages\\tensorflow\\python\\eager\\def_function.py\u001b[0m in \u001b[0;36m__call__\u001b[1;34m(self, *args, **kwds)\u001b[0m\n\u001b[0;32m    826\u001b[0m     \u001b[0mtracing_count\u001b[0m \u001b[1;33m=\u001b[0m \u001b[0mself\u001b[0m\u001b[1;33m.\u001b[0m\u001b[0mexperimental_get_tracing_count\u001b[0m\u001b[1;33m(\u001b[0m\u001b[1;33m)\u001b[0m\u001b[1;33m\u001b[0m\u001b[1;33m\u001b[0m\u001b[0m\n\u001b[0;32m    827\u001b[0m     \u001b[1;32mwith\u001b[0m \u001b[0mtrace\u001b[0m\u001b[1;33m.\u001b[0m\u001b[0mTrace\u001b[0m\u001b[1;33m(\u001b[0m\u001b[0mself\u001b[0m\u001b[1;33m.\u001b[0m\u001b[0m_name\u001b[0m\u001b[1;33m)\u001b[0m \u001b[1;32mas\u001b[0m \u001b[0mtm\u001b[0m\u001b[1;33m:\u001b[0m\u001b[1;33m\u001b[0m\u001b[1;33m\u001b[0m\u001b[0m\n\u001b[1;32m--> 828\u001b[1;33m       \u001b[0mresult\u001b[0m \u001b[1;33m=\u001b[0m \u001b[0mself\u001b[0m\u001b[1;33m.\u001b[0m\u001b[0m_call\u001b[0m\u001b[1;33m(\u001b[0m\u001b[1;33m*\u001b[0m\u001b[0margs\u001b[0m\u001b[1;33m,\u001b[0m \u001b[1;33m**\u001b[0m\u001b[0mkwds\u001b[0m\u001b[1;33m)\u001b[0m\u001b[1;33m\u001b[0m\u001b[1;33m\u001b[0m\u001b[0m\n\u001b[0m\u001b[0;32m    829\u001b[0m       \u001b[0mcompiler\u001b[0m \u001b[1;33m=\u001b[0m \u001b[1;34m\"xla\"\u001b[0m \u001b[1;32mif\u001b[0m \u001b[0mself\u001b[0m\u001b[1;33m.\u001b[0m\u001b[0m_experimental_compile\u001b[0m \u001b[1;32melse\u001b[0m \u001b[1;34m\"nonXla\"\u001b[0m\u001b[1;33m\u001b[0m\u001b[1;33m\u001b[0m\u001b[0m\n\u001b[0;32m    830\u001b[0m       \u001b[0mnew_tracing_count\u001b[0m \u001b[1;33m=\u001b[0m \u001b[0mself\u001b[0m\u001b[1;33m.\u001b[0m\u001b[0mexperimental_get_tracing_count\u001b[0m\u001b[1;33m(\u001b[0m\u001b[1;33m)\u001b[0m\u001b[1;33m\u001b[0m\u001b[1;33m\u001b[0m\u001b[0m\n",
      "\u001b[1;32m~\\anaconda3\\envs\\copy\\lib\\site-packages\\tensorflow\\python\\eager\\def_function.py\u001b[0m in \u001b[0;36m_call\u001b[1;34m(self, *args, **kwds)\u001b[0m\n\u001b[0;32m    853\u001b[0m       \u001b[1;31m# In this case we have created variables on the first call, so we run the\u001b[0m\u001b[1;33m\u001b[0m\u001b[1;33m\u001b[0m\u001b[1;33m\u001b[0m\u001b[0m\n\u001b[0;32m    854\u001b[0m       \u001b[1;31m# defunned version which is guaranteed to never create variables.\u001b[0m\u001b[1;33m\u001b[0m\u001b[1;33m\u001b[0m\u001b[1;33m\u001b[0m\u001b[0m\n\u001b[1;32m--> 855\u001b[1;33m       \u001b[1;32mreturn\u001b[0m \u001b[0mself\u001b[0m\u001b[1;33m.\u001b[0m\u001b[0m_stateless_fn\u001b[0m\u001b[1;33m(\u001b[0m\u001b[1;33m*\u001b[0m\u001b[0margs\u001b[0m\u001b[1;33m,\u001b[0m \u001b[1;33m**\u001b[0m\u001b[0mkwds\u001b[0m\u001b[1;33m)\u001b[0m  \u001b[1;31m# pylint: disable=not-callable\u001b[0m\u001b[1;33m\u001b[0m\u001b[1;33m\u001b[0m\u001b[0m\n\u001b[0m\u001b[0;32m    856\u001b[0m     \u001b[1;32melif\u001b[0m \u001b[0mself\u001b[0m\u001b[1;33m.\u001b[0m\u001b[0m_stateful_fn\u001b[0m \u001b[1;32mis\u001b[0m \u001b[1;32mnot\u001b[0m \u001b[1;32mNone\u001b[0m\u001b[1;33m:\u001b[0m\u001b[1;33m\u001b[0m\u001b[1;33m\u001b[0m\u001b[0m\n\u001b[0;32m    857\u001b[0m       \u001b[1;31m# Release the lock early so that multiple threads can perform the call\u001b[0m\u001b[1;33m\u001b[0m\u001b[1;33m\u001b[0m\u001b[1;33m\u001b[0m\u001b[0m\n",
      "\u001b[1;32m~\\anaconda3\\envs\\copy\\lib\\site-packages\\tensorflow\\python\\eager\\function.py\u001b[0m in \u001b[0;36m__call__\u001b[1;34m(self, *args, **kwargs)\u001b[0m\n\u001b[0;32m   2940\u001b[0m       (graph_function,\n\u001b[0;32m   2941\u001b[0m        filtered_flat_args) = self._maybe_define_function(args, kwargs)\n\u001b[1;32m-> 2942\u001b[1;33m     return graph_function._call_flat(\n\u001b[0m\u001b[0;32m   2943\u001b[0m         filtered_flat_args, captured_inputs=graph_function.captured_inputs)  # pylint: disable=protected-access\n\u001b[0;32m   2944\u001b[0m \u001b[1;33m\u001b[0m\u001b[0m\n",
      "\u001b[1;32m~\\anaconda3\\envs\\copy\\lib\\site-packages\\tensorflow\\python\\eager\\function.py\u001b[0m in \u001b[0;36m_call_flat\u001b[1;34m(self, args, captured_inputs, cancellation_manager)\u001b[0m\n\u001b[0;32m   1916\u001b[0m         and executing_eagerly):\n\u001b[0;32m   1917\u001b[0m       \u001b[1;31m# No tape is watching; skip to running the function.\u001b[0m\u001b[1;33m\u001b[0m\u001b[1;33m\u001b[0m\u001b[1;33m\u001b[0m\u001b[0m\n\u001b[1;32m-> 1918\u001b[1;33m       return self._build_call_outputs(self._inference_function.call(\n\u001b[0m\u001b[0;32m   1919\u001b[0m           ctx, args, cancellation_manager=cancellation_manager))\n\u001b[0;32m   1920\u001b[0m     forward_backward = self._select_forward_and_backward_functions(\n",
      "\u001b[1;32m~\\anaconda3\\envs\\copy\\lib\\site-packages\\tensorflow\\python\\eager\\function.py\u001b[0m in \u001b[0;36mcall\u001b[1;34m(self, ctx, args, cancellation_manager)\u001b[0m\n\u001b[0;32m    553\u001b[0m       \u001b[1;32mwith\u001b[0m \u001b[0m_InterpolateFunctionError\u001b[0m\u001b[1;33m(\u001b[0m\u001b[0mself\u001b[0m\u001b[1;33m)\u001b[0m\u001b[1;33m:\u001b[0m\u001b[1;33m\u001b[0m\u001b[1;33m\u001b[0m\u001b[0m\n\u001b[0;32m    554\u001b[0m         \u001b[1;32mif\u001b[0m \u001b[0mcancellation_manager\u001b[0m \u001b[1;32mis\u001b[0m \u001b[1;32mNone\u001b[0m\u001b[1;33m:\u001b[0m\u001b[1;33m\u001b[0m\u001b[1;33m\u001b[0m\u001b[0m\n\u001b[1;32m--> 555\u001b[1;33m           outputs = execute.execute(\n\u001b[0m\u001b[0;32m    556\u001b[0m               \u001b[0mstr\u001b[0m\u001b[1;33m(\u001b[0m\u001b[0mself\u001b[0m\u001b[1;33m.\u001b[0m\u001b[0msignature\u001b[0m\u001b[1;33m.\u001b[0m\u001b[0mname\u001b[0m\u001b[1;33m)\u001b[0m\u001b[1;33m,\u001b[0m\u001b[1;33m\u001b[0m\u001b[1;33m\u001b[0m\u001b[0m\n\u001b[0;32m    557\u001b[0m               \u001b[0mnum_outputs\u001b[0m\u001b[1;33m=\u001b[0m\u001b[0mself\u001b[0m\u001b[1;33m.\u001b[0m\u001b[0m_num_outputs\u001b[0m\u001b[1;33m,\u001b[0m\u001b[1;33m\u001b[0m\u001b[1;33m\u001b[0m\u001b[0m\n",
      "\u001b[1;32m~\\anaconda3\\envs\\copy\\lib\\site-packages\\tensorflow\\python\\eager\\execute.py\u001b[0m in \u001b[0;36mquick_execute\u001b[1;34m(op_name, num_outputs, inputs, attrs, ctx, name)\u001b[0m\n\u001b[0;32m     57\u001b[0m   \u001b[1;32mtry\u001b[0m\u001b[1;33m:\u001b[0m\u001b[1;33m\u001b[0m\u001b[1;33m\u001b[0m\u001b[0m\n\u001b[0;32m     58\u001b[0m     \u001b[0mctx\u001b[0m\u001b[1;33m.\u001b[0m\u001b[0mensure_initialized\u001b[0m\u001b[1;33m(\u001b[0m\u001b[1;33m)\u001b[0m\u001b[1;33m\u001b[0m\u001b[1;33m\u001b[0m\u001b[0m\n\u001b[1;32m---> 59\u001b[1;33m     tensors = pywrap_tfe.TFE_Py_Execute(ctx._handle, device_name, op_name,\n\u001b[0m\u001b[0;32m     60\u001b[0m                                         inputs, attrs, num_outputs)\n\u001b[0;32m     61\u001b[0m   \u001b[1;32mexcept\u001b[0m \u001b[0mcore\u001b[0m\u001b[1;33m.\u001b[0m\u001b[0m_NotOkStatusException\u001b[0m \u001b[1;32mas\u001b[0m \u001b[0me\u001b[0m\u001b[1;33m:\u001b[0m\u001b[1;33m\u001b[0m\u001b[1;33m\u001b[0m\u001b[0m\n",
      "\u001b[1;31mKeyboardInterrupt\u001b[0m: "
     ]
    }
   ],
   "source": [
    "h3 = model_2.fit(train_batches_2, epochs=100, callbacks = cbks, validation_data=valid_batches_2)\n",
    "end = curTime()"
   ]
  },
  {
   "cell_type": "code",
   "execution_count": 73,
   "metadata": {},
   "outputs": [
    {
     "data": {
      "image/png": "[encoded data removed]",
      "text/plain": [
       "<Figure size 432x288 with 1 Axes>"
      ]
     },
     "metadata": {
      "needs_background": "light"
     },
     "output_type": "display_data"
    }
   ],
   "source": [
    "plotLoss('Inception #2', h2)"
   ]
  },
  {
   "cell_type": "markdown",
   "metadata": {},
   "source": [
    "***"
   ]
  },
  {
   "cell_type": "code",
   "execution_count": 57,
   "metadata": {},
   "outputs": [],
   "source": [
    "from clr_callback import *\n",
    "clr = CyclicLR(base_lr=0.001, max_lr=0.006,step_size=2000., mode='triangular')\n",
    "clr2 = CyclicLR(base_lr=0.006, max_lr=0.01,step_size=2000., mode='triangular')\n",
    "clr3 = CyclicLR(base_lr=0.001, max_lr=0.006,step_size=2000., mode='triangular2')\n",
    "clr4 = CyclicLR(base_lr=0.001, max_lr=0.006,step_size=1000., mode='triangular')"
   ]
  },
  {
   "cell_type": "code",
   "execution_count": 23,
   "metadata": {},
   "outputs": [
    {
     "name": "stdout",
     "output_type": "stream",
     "text": [
      "Found 12137 images belonging to 8 classes.\n",
      "Found 5198 images belonging to 8 classes.\n",
      "Found 800 images belonging to 8 classes.\n"
     ]
    }
   ],
   "source": [
    "#inc batches 32 val split 0.3 augs\n",
    "inc_gen3 = ImageDataGenerator(preprocessing_function=tf.keras.applications.inception_v3.preprocess_input, validation_split=0.3)\n",
    "train_batches_3 = inc_gen3.flow_from_directory(train_dir, class_mode='categorical',batch_size=32, shuffle=True, subset='training')\n",
    "valid_batches_3 = inc_gen3.flow_from_directory(train_dir, class_mode='categorical',batch_size=32, shuffle=True, subset='validation')\n",
    "test_batches_3 = ImageDataGenerator(preprocessing_function=tf.keras.applications.inception_v3.preprocess_input) \\\n",
    "    .flow_from_directory(test_dir, batch_size=10)"
   ]
  },
  {
   "cell_type": "code",
   "execution_count": 24,
   "metadata": {},
   "outputs": [
    {
     "name": "stdout",
     "output_type": "stream",
     "text": [
      "Model: \"model_2\"\n",
      "_________________________________________________________________\n",
      "Layer (type)                 Output Shape              Param #   \n",
      "=================================================================\n",
      "input_6 (InputLayer)         [(None, 299, 299, 3)]     0         \n",
      "_________________________________________________________________\n",
      "inception_v3 (Functional)    (None, 8, 8, 2048)        21802784  \n",
      "_________________________________________________________________\n",
      "global_average_pooling2d_2 ( (None, 2048)              0         \n",
      "_________________________________________________________________\n",
      "dense_2 (Dense)              (None, 8)                 16392     \n",
      "=================================================================\n",
      "Total params: 21,819,176\n",
      "Trainable params: 16,392\n",
      "Non-trainable params: 21,802,784\n",
      "_________________________________________________________________\n"
     ]
    }
   ],
   "source": [
    "#3\n",
    "optimizer = keras.optimizers.Adamax()\n",
    "metrics = [keras.metrics.CategoricalAccuracy()]\n",
    "model_3 = create_model_Inception(number_classes=no_classes, optimizer=optimizer, metrics=metrics)\n",
    "model_3.summary()"
   ]
  },
  {
   "cell_type": "code",
   "execution_count": 25,
   "metadata": {},
   "outputs": [
    {
     "name": "stdout",
     "output_type": "stream",
     "text": [
      "Current Time = 04:30:07\n",
      "Current Time = 04:30:07\n"
     ]
    }
   ],
   "source": [
    "#3 clr\n",
    "start = curTime()\n",
    "log_dir=os.path.join('logs','fitinc',curTime().strftime(\"%Y%m%d-%H%M%S\"))\n",
    "tb =  TensorBoard(log_dir=log_dir, histogram_freq=1,profile_batch = '500,520')"
   ]
  },
  {
   "cell_type": "code",
   "execution_count": 26,
   "metadata": {},
   "outputs": [],
   "source": [
    "cbks_clr1 = [es,tb,clr]"
   ]
  },
  {
   "cell_type": "code",
   "execution_count": 27,
   "metadata": {},
   "outputs": [
    {
     "name": "stdout",
     "output_type": "stream",
     "text": [
      "Epoch 1/100\n",
      "  6/380 [..............................] - ETA: 3:41 - loss: 2.5103 - categorical_accuracy: 0.1772WARNING:tensorflow:Callback method `on_train_batch_end` is slow compared to the batch time (batch time: 0.2670s vs `on_train_batch_end` time: 0.2717s). Check your callbacks.\n",
      "380/380 [==============================] - 308s 798ms/step - loss: 1.1728 - categorical_accuracy: 0.6280 - val_loss: 0.6696 - val_categorical_accuracy: 0.7788\n",
      "Epoch 2/100\n",
      "380/380 [==============================] - 308s 810ms/step - loss: 0.5730 - categorical_accuracy: 0.8162 - val_loss: 0.6059 - val_categorical_accuracy: 0.8022\n",
      "Epoch 3/100\n",
      "380/380 [==============================] - 300s 789ms/step - loss: 0.5117 - categorical_accuracy: 0.8305 - val_loss: 0.6274 - val_categorical_accuracy: 0.7972\n",
      "Epoch 4/100\n",
      "380/380 [==============================] - 300s 790ms/step - loss: 0.4524 - categorical_accuracy: 0.8483 - val_loss: 0.6465 - val_categorical_accuracy: 0.7930\n",
      "Epoch 5/100\n",
      "380/380 [==============================] - 300s 790ms/step - loss: 0.4461 - categorical_accuracy: 0.8520 - val_loss: 0.7266 - val_categorical_accuracy: 0.7755\n",
      "Epoch 6/100\n",
      "380/380 [==============================] - 300s 790ms/step - loss: 0.4364 - categorical_accuracy: 0.8476 - val_loss: 0.6846 - val_categorical_accuracy: 0.7880\n",
      "Epoch 7/100\n",
      "380/380 [==============================] - 300s 790ms/step - loss: 0.3800 - categorical_accuracy: 0.8724 - val_loss: 0.6363 - val_categorical_accuracy: 0.7992\n",
      "Epoch 00007: early stopping\n",
      "Current Time = 05:05:43\n"
     ]
    }
   ],
   "source": [
    "h3 = model_3.fit(train_batches_3, epochs=100, callbacks = cbks_clr1, validation_data=valid_batches_3)\n",
    "end = curTime()"
   ]
  },
  {
   "cell_type": "code",
   "execution_count": 28,
   "metadata": {},
   "outputs": [
    {
     "name": "stdout",
     "output_type": "stream",
     "text": [
      "Found 12137 images belonging to 8 classes.\n",
      "Found 5198 images belonging to 8 classes.\n",
      "Found 800 images belonging to 8 classes.\n"
     ]
    }
   ],
   "source": [
    "#inc batches 32 val split 0.3 augs\n",
    "inc_gen4 = ImageDataGenerator(preprocessing_function=tf.keras.applications.inception_v3.preprocess_input, validation_split=0.3)\n",
    "train_batches_4 = inc_gen4.flow_from_directory(train_dir, class_mode='categorical',batch_size=32, shuffle=True, subset='training')\n",
    "valid_batches_4 = inc_gen4.flow_from_directory(train_dir, class_mode='categorical',batch_size=32, shuffle=True, subset='validation')\n",
    "test_batches_4 = ImageDataGenerator(preprocessing_function=tf.keras.applications.inception_v3.preprocess_input) \\\n",
    "    .flow_from_directory(test_dir, batch_size=10)"
   ]
  },
  {
   "cell_type": "code",
   "execution_count": 29,
   "metadata": {},
   "outputs": [
    {
     "name": "stdout",
     "output_type": "stream",
     "text": [
      "Model: \"model_3\"\n",
      "_________________________________________________________________\n",
      "Layer (type)                 Output Shape              Param #   \n",
      "=================================================================\n",
      "input_8 (InputLayer)         [(None, 299, 299, 3)]     0         \n",
      "_________________________________________________________________\n",
      "inception_v3 (Functional)    (None, 8, 8, 2048)        21802784  \n",
      "_________________________________________________________________\n",
      "global_average_pooling2d_3 ( (None, 2048)              0         \n",
      "_________________________________________________________________\n",
      "dense_3 (Dense)              (None, 8)                 16392     \n",
      "=================================================================\n",
      "Total params: 21,819,176\n",
      "Trainable params: 16,392\n",
      "Non-trainable params: 21,802,784\n",
      "_________________________________________________________________\n"
     ]
    }
   ],
   "source": [
    "#4\n",
    "optimizer = keras.optimizers.Adamax()\n",
    "metrics = [keras.metrics.CategoricalAccuracy()]\n",
    "model_4 = create_model_Inception(number_classes=no_classes, optimizer=optimizer, metrics=metrics)\n",
    "model_4.summary()"
   ]
  },
  {
   "cell_type": "code",
   "execution_count": 30,
   "metadata": {},
   "outputs": [
    {
     "name": "stdout",
     "output_type": "stream",
     "text": [
      "Current Time = 05:05:47\n",
      "Current Time = 05:05:47\n"
     ]
    }
   ],
   "source": [
    "#4 clr\n",
    "start = curTime()\n",
    "log_dir=os.path.join('logs','fitinc',curTime().strftime(\"%Y%m%d-%H%M%S\"))\n",
    "tb =  TensorBoard(log_dir=log_dir, histogram_freq=1,profile_batch = '500,520')"
   ]
  },
  {
   "cell_type": "code",
   "execution_count": 31,
   "metadata": {},
   "outputs": [],
   "source": [
    "cbks_clr2 = [es,tb,clr2]"
   ]
  },
  {
   "cell_type": "code",
   "execution_count": 32,
   "metadata": {},
   "outputs": [
    {
     "name": "stdout",
     "output_type": "stream",
     "text": [
      "Epoch 1/100\n",
      "380/380 [==============================] - 306s 794ms/step - loss: 1.4329 - categorical_accuracy: 0.6621 - val_loss: 0.7189 - val_categorical_accuracy: 0.7793\n",
      "Epoch 2/100\n",
      "380/380 [==============================] - 306s 806ms/step - loss: 0.5476 - categorical_accuracy: 0.8248 - val_loss: 0.6461 - val_categorical_accuracy: 0.7895\n",
      "Epoch 3/100\n",
      "380/380 [==============================] - 301s 793ms/step - loss: 0.4742 - categorical_accuracy: 0.8508 - val_loss: 0.6205 - val_categorical_accuracy: 0.8076\n",
      "Epoch 4/100\n",
      "380/380 [==============================] - 300s 791ms/step - loss: 0.4611 - categorical_accuracy: 0.8421 - val_loss: 0.7175 - val_categorical_accuracy: 0.7659\n",
      "Epoch 5/100\n",
      "380/380 [==============================] - 301s 793ms/step - loss: 0.4056 - categorical_accuracy: 0.8666 - val_loss: 0.6411 - val_categorical_accuracy: 0.8067\n",
      "Epoch 6/100\n",
      "380/380 [==============================] - 301s 792ms/step - loss: 0.3596 - categorical_accuracy: 0.8758 - val_loss: 0.8520 - val_categorical_accuracy: 0.7649\n",
      "Epoch 7/100\n",
      "380/380 [==============================] - 300s 791ms/step - loss: 0.3765 - categorical_accuracy: 0.8730 - val_loss: 0.6851 - val_categorical_accuracy: 0.7978\n",
      "Epoch 8/100\n",
      "380/380 [==============================] - 300s 791ms/step - loss: 0.3621 - categorical_accuracy: 0.8807 - val_loss: 0.6881 - val_categorical_accuracy: 0.7932\n",
      "Epoch 00008: early stopping\n",
      "Current Time = 05:46:26\n"
     ]
    }
   ],
   "source": [
    "h4 = model_4.fit(train_batches_3, epochs=100, callbacks = cbks_clr2, validation_data=valid_batches_3)\n",
    "end = curTime()"
   ]
  },
  {
   "cell_type": "code",
   "execution_count": 33,
   "metadata": {},
   "outputs": [
    {
     "name": "stdout",
     "output_type": "stream",
     "text": [
      "Found 12137 images belonging to 8 classes.\n",
      "Found 5198 images belonging to 8 classes.\n",
      "Found 800 images belonging to 8 classes.\n"
     ]
    }
   ],
   "source": [
    "#inc batches 44 val split 0.3 augs\n",
    "inc_gen5 = ImageDataGenerator(preprocessing_function=tf.keras.applications.inception_v3.preprocess_input, validation_split=0.3)\n",
    "train_batches_5 = inc_gen5.flow_from_directory(train_dir, class_mode='categorical',batch_size=44, shuffle=True, subset='training')\n",
    "valid_batches_5 = inc_gen5.flow_from_directory(train_dir, class_mode='categorical',batch_size=44, shuffle=True, subset='validation')\n",
    "test_batches_5 = ImageDataGenerator(preprocessing_function=tf.keras.applications.inception_v3.preprocess_input) \\\n",
    "    .flow_from_directory(test_dir, batch_size=10)"
   ]
  },
  {
   "cell_type": "code",
   "execution_count": 34,
   "metadata": {},
   "outputs": [
    {
     "name": "stdout",
     "output_type": "stream",
     "text": [
      "Model: \"model_4\"\n",
      "_________________________________________________________________\n",
      "Layer (type)                 Output Shape              Param #   \n",
      "=================================================================\n",
      "input_10 (InputLayer)        [(None, 299, 299, 3)]     0         \n",
      "_________________________________________________________________\n",
      "inception_v3 (Functional)    (None, 8, 8, 2048)        21802784  \n",
      "_________________________________________________________________\n",
      "global_average_pooling2d_4 ( (None, 2048)              0         \n",
      "_________________________________________________________________\n",
      "dense_4 (Dense)              (None, 8)                 16392     \n",
      "=================================================================\n",
      "Total params: 21,819,176\n",
      "Trainable params: 16,392\n",
      "Non-trainable params: 21,802,784\n",
      "_________________________________________________________________\n"
     ]
    }
   ],
   "source": [
    "#2\n",
    "optimizer = keras.optimizers.Adamax()\n",
    "metrics = [keras.metrics.CategoricalAccuracy()]\n",
    "model_5 = create_model_Inception(number_classes=no_classes, optimizer=optimizer, metrics=metrics)\n",
    "model_5.summary()"
   ]
  },
  {
   "cell_type": "code",
   "execution_count": 35,
   "metadata": {},
   "outputs": [
    {
     "name": "stdout",
     "output_type": "stream",
     "text": [
      "Current Time = 05:46:30\n",
      "Current Time = 05:46:30\n"
     ]
    }
   ],
   "source": [
    "#3 clr\n",
    "start = curTime()\n",
    "log_dir=os.path.join('logs','fitinc',curTime().strftime(\"%Y%m%d-%H%M%S\"))\n",
    "tb =  TensorBoard(log_dir=log_dir, histogram_freq=1,profile_batch = '500,520')"
   ]
  },
  {
   "cell_type": "code",
   "execution_count": 36,
   "metadata": {},
   "outputs": [],
   "source": [
    "cbks_clr1 = [es,tb,clr]"
   ]
  },
  {
   "cell_type": "code",
   "execution_count": 37,
   "metadata": {},
   "outputs": [
    {
     "name": "stdout",
     "output_type": "stream",
     "text": [
      "Epoch 1/100\n",
      "380/380 [==============================] - 303s 798ms/step - loss: 0.3669 - categorical_accuracy: 0.8766 - val_loss: 0.6476 - val_categorical_accuracy: 0.7965\n",
      "Epoch 2/100\n",
      "380/380 [==============================] - 302s 796ms/step - loss: 0.3520 - categorical_accuracy: 0.8859 - val_loss: 0.6444 - val_categorical_accuracy: 0.7982\n",
      "Epoch 3/100\n",
      "380/380 [==============================] - 301s 790ms/step - loss: 0.3354 - categorical_accuracy: 0.8890 - val_loss: 0.6541 - val_categorical_accuracy: 0.8105\n",
      "Epoch 4/100\n",
      "380/380 [==============================] - 302s 796ms/step - loss: 0.3254 - categorical_accuracy: 0.8898 - val_loss: 0.6671 - val_categorical_accuracy: 0.8007\n",
      "Epoch 5/100\n",
      "380/380 [==============================] - 301s 791ms/step - loss: 0.3161 - categorical_accuracy: 0.8955 - val_loss: 0.6481 - val_categorical_accuracy: 0.7992\n",
      "Epoch 6/100\n",
      "380/380 [==============================] - 301s 790ms/step - loss: 0.3074 - categorical_accuracy: 0.8954 - val_loss: 0.7151 - val_categorical_accuracy: 0.7840\n",
      "Epoch 00006: early stopping\n",
      "Current Time = 06:16:57\n"
     ]
    }
   ],
   "source": [
    "h3 = model_3.fit(train_batches_3, epochs=100, callbacks = cbks, validation_data=valid_batches_3)\n",
    "end = curTime()"
   ]
  },
  {
   "cell_type": "code",
   "execution_count": 38,
   "metadata": {},
   "outputs": [
    {
     "name": "stdout",
     "output_type": "stream",
     "text": [
      "Found 12137 images belonging to 8 classes.\n",
      "Found 5198 images belonging to 8 classes.\n",
      "Found 800 images belonging to 8 classes.\n"
     ]
    }
   ],
   "source": [
    "#inc batches 50 val split 0.3 no augs\n",
    "inc_gen2 = ImageDataGenerator(preprocessing_function=tf.keras.applications.inception_v3.preprocess_input, validation_split=0.3)\n",
    "train_batches_2 = inc_gen1.flow_from_directory(train_dir, class_mode='categorical',batch_size=50, shuffle=True, subset='training')\n",
    "valid_batches_2 = inc_gen1.flow_from_directory(train_dir, class_mode='categorical',batch_size=50, shuffle=True, subset='validation')\n",
    "test_batches_2 = ImageDataGenerator(preprocessing_function=tf.keras.applications.inception_v3.preprocess_input) \\\n",
    "    .flow_from_directory(test_dir, batch_size=10)"
   ]
  },
  {
   "cell_type": "code",
   "execution_count": 39,
   "metadata": {},
   "outputs": [
    {
     "name": "stdout",
     "output_type": "stream",
     "text": [
      "Model: \"model_5\"\n",
      "_________________________________________________________________\n",
      "Layer (type)                 Output Shape              Param #   \n",
      "=================================================================\n",
      "input_12 (InputLayer)        [(None, 299, 299, 3)]     0         \n",
      "_________________________________________________________________\n",
      "inception_v3 (Functional)    (None, 8, 8, 2048)        21802784  \n",
      "_________________________________________________________________\n",
      "global_average_pooling2d_5 ( (None, 2048)              0         \n",
      "_________________________________________________________________\n",
      "dense_5 (Dense)              (None, 8)                 16392     \n",
      "=================================================================\n",
      "Total params: 21,819,176\n",
      "Trainable params: 16,392\n",
      "Non-trainable params: 21,802,784\n",
      "_________________________________________________________________\n"
     ]
    }
   ],
   "source": [
    "#2\n",
    "optimizer = keras.optimizers.Adamax()\n",
    "metrics = [keras.metrics.CategoricalAccuracy()]\n",
    "model_2 = create_model_Inception(number_classes=no_classes, optimizer=optimizer, metrics=metrics)\n",
    "model_2.summary()"
   ]
  },
  {
   "cell_type": "code",
   "execution_count": 40,
   "metadata": {},
   "outputs": [
    {
     "name": "stdout",
     "output_type": "stream",
     "text": [
      "Current Time = 06:17:01\n",
      "Current Time = 06:17:01\n"
     ]
    }
   ],
   "source": [
    "#2\n",
    "start = curTime()\n",
    "log_dir=os.path.join('logs','fitinc',curTime().strftime(\"%Y%m%d-%H%M%S\"))\n",
    "tb =  TensorBoard(log_dir=log_dir, histogram_freq=1,profile_batch = '500,520')"
   ]
  },
  {
   "cell_type": "code",
   "execution_count": 41,
   "metadata": {},
   "outputs": [],
   "source": [
    "cbks = [tb, es]"
   ]
  },
  {
   "cell_type": "code",
   "execution_count": 42,
   "metadata": {},
   "outputs": [
    {
     "name": "stdout",
     "output_type": "stream",
     "text": [
      "Epoch 1/100\n",
      "243/243 [==============================] - 309s 1s/step - loss: 1.2100 - categorical_accuracy: 0.5952 - val_loss: 0.7156 - val_categorical_accuracy: 0.7713\n",
      "Epoch 2/100\n",
      "243/243 [==============================] - 299s 1s/step - loss: 0.6288 - categorical_accuracy: 0.8015 - val_loss: 0.6515 - val_categorical_accuracy: 0.7866\n",
      "Epoch 3/100\n",
      "243/243 [==============================] - 305s 1s/step - loss: 0.5716 - categorical_accuracy: 0.8136 - val_loss: 0.6266 - val_categorical_accuracy: 0.7955\n",
      "Epoch 4/100\n",
      "243/243 [==============================] - 300s 1s/step - loss: 0.5273 - categorical_accuracy: 0.8309 - val_loss: 0.6061 - val_categorical_accuracy: 0.7959\n",
      "Epoch 5/100\n",
      "243/243 [==============================] - 300s 1s/step - loss: 0.4781 - categorical_accuracy: 0.8464 - val_loss: 0.6013 - val_categorical_accuracy: 0.8032\n",
      "Epoch 6/100\n",
      "243/243 [==============================] - 299s 1s/step - loss: 0.4601 - categorical_accuracy: 0.8518 - val_loss: 0.5815 - val_categorical_accuracy: 0.8111\n",
      "Epoch 7/100\n",
      "243/243 [==============================] - 300s 1s/step - loss: 0.4618 - categorical_accuracy: 0.8552 - val_loss: 0.5955 - val_categorical_accuracy: 0.8061\n",
      "Epoch 8/100\n",
      "243/243 [==============================] - 299s 1s/step - loss: 0.4452 - categorical_accuracy: 0.8513 - val_loss: 0.5690 - val_categorical_accuracy: 0.8140\n",
      "Epoch 9/100\n",
      "243/243 [==============================] - 300s 1s/step - loss: 0.4257 - categorical_accuracy: 0.8617 - val_loss: 0.5709 - val_categorical_accuracy: 0.8136\n",
      "Epoch 10/100\n",
      "243/243 [==============================] - 299s 1s/step - loss: 0.4163 - categorical_accuracy: 0.8616 - val_loss: 0.5785 - val_categorical_accuracy: 0.8138\n",
      "Epoch 11/100\n",
      "243/243 [==============================] - 300s 1s/step - loss: 0.4137 - categorical_accuracy: 0.8677 - val_loss: 0.5686 - val_categorical_accuracy: 0.8153\n",
      "Epoch 12/100\n",
      "243/243 [==============================] - 300s 1s/step - loss: 0.4032 - categorical_accuracy: 0.8726 - val_loss: 0.5652 - val_categorical_accuracy: 0.8147\n",
      "Epoch 13/100\n",
      "243/243 [==============================] - 299s 1s/step - loss: 0.3978 - categorical_accuracy: 0.8730 - val_loss: 0.5955 - val_categorical_accuracy: 0.8001\n",
      "Epoch 00013: early stopping\n",
      "Current Time = 07:22:44\n"
     ]
    }
   ],
   "source": [
    "h2 = model_2.fit(train_batches_2, epochs=100, callbacks = cbks, validation_data=valid_batches_2)\n",
    "end = curTime()"
   ]
  },
  {
   "cell_type": "code",
   "execution_count": 45,
   "metadata": {},
   "outputs": [
    {
     "data": {
      "image/png": "[encoded data removed]",
      "text/plain": [
       "<Figure size 432x288 with 1 Axes>"
      ]
     },
     "metadata": {
      "needs_background": "light"
     },
     "output_type": "display_data"
    }
   ],
   "source": [
    "plotLoss('Inception #3', h2)"
   ]
  },
  {
   "cell_type": "code",
   "execution_count": 50,
   "metadata": {},
   "outputs": [],
   "source": [
    "initial_learning_rate = 0.01\n",
    "epochs = 100\n",
    "decay = initial_learning_rate / epochs\n",
    "def lr_time_based_decay(epoch, lr):\n",
    "    return lr * 1 / (1 + decay * epoch)\n",
    "clr = LearningRateScheduler(lr_time_based_decay, verbose=1)"
   ]
  },
  {
   "cell_type": "code",
   "execution_count": 46,
   "metadata": {},
   "outputs": [
    {
     "name": "stdout",
     "output_type": "stream",
     "text": [
      "Found 12137 images belonging to 8 classes.\n",
      "Found 5198 images belonging to 8 classes.\n",
      "Found 800 images belonging to 8 classes.\n"
     ]
    }
   ],
   "source": [
    "#inc batches 32 val split 0.3 augs\n",
    "inc_gen6 = ImageDataGenerator(preprocessing_function=tf.keras.applications.inception_v3.preprocess_input, validation_split=0.3)\n",
    "train_batches_6 = inc_gen6.flow_from_directory(train_dir, class_mode='categorical',batch_size=32, shuffle=True, subset='training')\n",
    "valid_batches_6 = inc_gen6.flow_from_directory(train_dir, class_mode='categorical',batch_size=32, shuffle=True, subset='validation')\n",
    "test_batches_6 = ImageDataGenerator(preprocessing_function=tf.keras.applications.inception_v3.preprocess_input) \\\n",
    "    .flow_from_directory(test_dir, batch_size=10)"
   ]
  },
  {
   "cell_type": "code",
   "execution_count": 52,
   "metadata": {},
   "outputs": [],
   "source": [
    "cbks = [tb, es, clr]"
   ]
  },
  {
   "cell_type": "code",
   "execution_count": 49,
   "metadata": {},
   "outputs": [
    {
     "name": "stdout",
     "output_type": "stream",
     "text": [
      "Current Time = 09:30:28\n",
      "Current Time = 09:30:28\n"
     ]
    }
   ],
   "source": [
    "#2\n",
    "start = curTime()\n",
    "log_dir=os.path.join('logs','fitinc',curTime().strftime(\"%Y%m%d-%H%M%S\"))\n",
    "tb =  TensorBoard(log_dir=log_dir, histogram_freq=1,profile_batch = '500,520')"
   ]
  },
  {
   "cell_type": "code",
   "execution_count": 48,
   "metadata": {},
   "outputs": [
    {
     "name": "stdout",
     "output_type": "stream",
     "text": [
      "Model: \"model_6\"\n",
      "_________________________________________________________________\n",
      "Layer (type)                 Output Shape              Param #   \n",
      "=================================================================\n",
      "input_14 (InputLayer)        [(None, 299, 299, 3)]     0         \n",
      "_________________________________________________________________\n",
      "inception_v3 (Functional)    (None, 8, 8, 2048)        21802784  \n",
      "_________________________________________________________________\n",
      "global_average_pooling2d_6 ( (None, 2048)              0         \n",
      "_________________________________________________________________\n",
      "dense_6 (Dense)              (None, 8)                 16392     \n",
      "=================================================================\n",
      "Total params: 21,819,176\n",
      "Trainable params: 16,392\n",
      "Non-trainable params: 21,802,784\n",
      "_________________________________________________________________\n"
     ]
    }
   ],
   "source": [
    "#2\n",
    "optimizer = keras.optimizers.Adamax()\n",
    "metrics = [keras.metrics.CategoricalAccuracy()]\n",
    "model_6 = create_model_Inception(number_classes=no_classes, optimizer=optimizer, metrics=metrics)\n",
    "model_6.summary()"
   ]
  },
  {
   "cell_type": "code",
   "execution_count": 53,
   "metadata": {},
   "outputs": [
    {
     "name": "stdout",
     "output_type": "stream",
     "text": [
      "Epoch 1/100\n",
      "\n",
      "Epoch 00001: LearningRateScheduler reducing learning rate to 0.0010000000474974513.\n",
      "380/380 [==============================] - 326s 846ms/step - loss: 1.2220 - categorical_accuracy: 0.5966 - val_loss: 0.7107 - val_categorical_accuracy: 0.7672\n",
      "Epoch 2/100\n",
      "\n",
      "Epoch 00002: LearningRateScheduler reducing learning rate to 0.0009999000574917021.\n",
      "380/380 [==============================] - 317s 834ms/step - loss: 0.6114 - categorical_accuracy: 0.8096 - val_loss: 0.6321 - val_categorical_accuracy: 0.7907\n",
      "Epoch 3/100\n",
      "\n",
      "Epoch 00003: LearningRateScheduler reducing learning rate to 0.000999700106714659.\n",
      "380/380 [==============================] - 309s 815ms/step - loss: 0.5372 - categorical_accuracy: 0.8316 - val_loss: 0.6113 - val_categorical_accuracy: 0.7970\n",
      "Epoch 4/100\n",
      "\n",
      "Epoch 00004: LearningRateScheduler reducing learning rate to 0.0009994003415259673.\n",
      "380/380 [==============================] - 303s 799ms/step - loss: 0.5089 - categorical_accuracy: 0.8356 - val_loss: 0.6022 - val_categorical_accuracy: 0.7986\n",
      "Epoch 5/100\n",
      "\n",
      "Epoch 00005: LearningRateScheduler reducing learning rate to 0.0009990007918579775.\n",
      "380/380 [==============================] - 302s 794ms/step - loss: 0.4869 - categorical_accuracy: 0.8432 - val_loss: 0.5801 - val_categorical_accuracy: 0.8097\n",
      "Epoch 6/100\n",
      "\n",
      "Epoch 00006: LearningRateScheduler reducing learning rate to 0.0009985014876310735.\n",
      "380/380 [==============================] - 303s 795ms/step - loss: 0.4623 - categorical_accuracy: 0.8513 - val_loss: 0.6040 - val_categorical_accuracy: 0.7984\n",
      "Epoch 7/100\n",
      "\n",
      "Epoch 00007: LearningRateScheduler reducing learning rate to 0.0009979026914447063.\n",
      "380/380 [==============================] - 303s 797ms/step - loss: 0.4491 - categorical_accuracy: 0.8591 - val_loss: 0.5805 - val_categorical_accuracy: 0.8095\n",
      "Epoch 8/100\n",
      "\n",
      "Epoch 00008: LearningRateScheduler reducing learning rate to 0.0009972046657933619.\n",
      "380/380 [==============================] - 303s 797ms/step - loss: 0.4335 - categorical_accuracy: 0.8607 - val_loss: 0.5859 - val_categorical_accuracy: 0.8111\n",
      "Epoch 9/100\n",
      "\n",
      "Epoch 00009: LearningRateScheduler reducing learning rate to 0.0009964075567443476.\n",
      "380/380 [==============================] - 304s 800ms/step - loss: 0.4262 - categorical_accuracy: 0.8622 - val_loss: 0.5690 - val_categorical_accuracy: 0.8120\n",
      "Epoch 10/100\n",
      "\n",
      "Epoch 00010: LearningRateScheduler reducing learning rate to 0.0009955116266172385.\n",
      "380/380 [==============================] - 304s 800ms/step - loss: 0.4006 - categorical_accuracy: 0.8753 - val_loss: 0.5767 - val_categorical_accuracy: 0.8132\n",
      "Epoch 11/100\n",
      "\n",
      "Epoch 00011: LearningRateScheduler reducing learning rate to 0.0009945171376267872.\n",
      "380/380 [==============================] - 301s 792ms/step - loss: 0.4057 - categorical_accuracy: 0.8706 - val_loss: 0.5870 - val_categorical_accuracy: 0.8095\n",
      "Epoch 12/100\n",
      "\n",
      "Epoch 00012: LearningRateScheduler reducing learning rate to 0.000993424351882975.\n",
      "380/380 [==============================] - 312s 819ms/step - loss: 0.3870 - categorical_accuracy: 0.8754 - val_loss: 0.5814 - val_categorical_accuracy: 0.8132\n",
      "Epoch 13/100\n",
      "\n",
      "Epoch 00013: LearningRateScheduler reducing learning rate to 0.0009922336476668565.\n",
      "380/380 [==============================] - 334s 881ms/step - loss: 0.3830 - categorical_accuracy: 0.8745 - val_loss: 0.5745 - val_categorical_accuracy: 0.8145\n",
      "Epoch 14/100\n",
      "\n",
      "Epoch 00014: LearningRateScheduler reducing learning rate to 0.00099094540310837.\n",
      "380/380 [==============================] - 325s 857ms/step - loss: 0.3872 - categorical_accuracy: 0.8761 - val_loss: 0.5807 - val_categorical_accuracy: 0.8128\n",
      "Epoch 00014: early stopping\n",
      "Current Time = 10:46:11\n"
     ]
    }
   ],
   "source": [
    "h6 = model_6.fit(train_batches_6, epochs=100, callbacks = cbks, validation_data=valid_batches_6)\n",
    "end = curTime()"
   ]
  },
  {
   "cell_type": "code",
   "execution_count": 54,
   "metadata": {},
   "outputs": [
    {
     "name": "stdout",
     "output_type": "stream",
     "text": [
      "Epoch 1/100\n",
      "\n",
      "Epoch 00001: LearningRateScheduler reducing learning rate to 0.0009909453801810741.\n",
      "380/380 [==============================] - 426s 1s/step - loss: 0.3735 - categorical_accuracy: 0.8801 - val_loss: 0.5882 - val_categorical_accuracy: 0.8142\n",
      "Epoch 2/100\n",
      "\n",
      "Epoch 00002: LearningRateScheduler reducing learning rate to 0.000990846295551519.\n",
      "380/380 [==============================] - 406s 1s/step - loss: 0.3639 - categorical_accuracy: 0.8848 - val_loss: 0.5778 - val_categorical_accuracy: 0.8122\n",
      "Epoch 3/100\n",
      "\n",
      "Epoch 00003: LearningRateScheduler reducing learning rate to 0.0009906481811059783.\n",
      "380/380 [==============================] - 331s 871ms/step - loss: 0.3589 - categorical_accuracy: 0.8870 - val_loss: 0.5825 - val_categorical_accuracy: 0.8117\n",
      "Epoch 4/100\n",
      "\n",
      "Epoch 00004: LearningRateScheduler reducing learning rate to 0.0009903510665444867.\n",
      "380/380 [==============================] - 333s 877ms/step - loss: 0.3525 - categorical_accuracy: 0.8888 - val_loss: 0.5896 - val_categorical_accuracy: 0.8122\n",
      "Epoch 5/100\n",
      "\n",
      "Epoch 00005: LearningRateScheduler reducing learning rate to 0.000989955097923978.\n",
      "380/380 [==============================] - 346s 912ms/step - loss: 0.3482 - categorical_accuracy: 0.8888 - val_loss: 0.5887 - val_categorical_accuracy: 0.8140\n",
      "Epoch 6/100\n",
      "\n",
      "Epoch 00006: LearningRateScheduler reducing learning rate to 0.0009894604212429927.\n",
      "380/380 [==============================] - 343s 903ms/step - loss: 0.3416 - categorical_accuracy: 0.8903 - val_loss: 0.6071 - val_categorical_accuracy: 0.7982\n",
      "Epoch 7/100\n",
      "\n",
      "Epoch 00007: LearningRateScheduler reducing learning rate to 0.0009888670660961921.\n",
      "380/380 [==============================] - 346s 911ms/step - loss: 0.3377 - categorical_accuracy: 0.8928 - val_loss: 0.5931 - val_categorical_accuracy: 0.8122\n",
      "Epoch 00007: early stopping\n",
      "Current Time = 12:01:51\n"
     ]
    }
   ],
   "source": [
    "h7 = model_6.fit(train_batches_6, epochs=100, callbacks = cbks, validation_data=valid_batches_6)\n",
    "end = curTime()"
   ]
  },
  {
   "cell_type": "code",
   "execution_count": null,
   "metadata": {},
   "outputs": [],
   "source": []
  }
 ],
 "metadata": {
  "kernelspec": {
   "display_name": "Python 3",
   "language": "python",
   "name": "python3"
  },
  "language_info": {
   "codemirror_mode": {
    "name": "ipython",
    "version": 3
   },
   "file_extension": ".py",
   "mimetype": "text/x-python",
   "name": "python",
   "nbconvert_exporter": "python",
   "pygments_lexer": "ipython3",
   "version": "3.8.5"
  }
 },
 "nbformat": 4,
 "nbformat_minor": 4
}
