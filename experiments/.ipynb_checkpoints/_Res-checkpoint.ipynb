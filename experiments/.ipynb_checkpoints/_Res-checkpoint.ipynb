{
 "cells": [
  {
   "cell_type": "code",
   "execution_count": 1,
   "metadata": {},
   "outputs": [],
   "source": [
    "import os, datetime\n",
    "import numpy as np\n",
    "import matplotlib.pyplot as plt\n",
    "import math\n",
    "import pandas as pd\n",
    "\n",
    "import tensorflow as tf\n",
    "from tensorflow import keras\n",
    "from tensorflow.keras.preprocessing.image import ImageDataGenerator\n",
    "from tensorflow.keras.callbacks import EarlyStopping, ModelCheckpoint, TensorBoard, LearningRateScheduler\n",
    "\n",
    "import sklearn\n",
    "from sklearn import metrics\n",
    "from sklearn.metrics import confusion_matrix\n",
    "\n",
    "import itertools"
   ]
  },
  {
   "cell_type": "code",
   "execution_count": 2,
   "metadata": {},
   "outputs": [
    {
     "name": "stdout",
     "output_type": "stream",
     "text": [
      "Num GPUs Available:  1\n"
     ]
    }
   ],
   "source": [
    "physical_devices = tf.config.experimental.list_physical_devices('GPU')\n",
    "print(\"Num GPUs Available: \", len(physical_devices))"
   ]
  },
  {
   "cell_type": "code",
   "execution_count": 3,
   "metadata": {},
   "outputs": [
    {
     "data": {
      "text/plain": [
       "'/device:GPU:0'"
      ]
     },
     "execution_count": 3,
     "metadata": {},
     "output_type": "execute_result"
    }
   ],
   "source": [
    "tf.test.gpu_device_name()"
   ]
  },
  {
   "cell_type": "code",
   "execution_count": 4,
   "metadata": {},
   "outputs": [
    {
     "data": {
      "text/plain": [
       "'2.4.1'"
      ]
     },
     "execution_count": 4,
     "metadata": {},
     "output_type": "execute_result"
    }
   ],
   "source": [
    "tf.__version__"
   ]
  },
  {
   "cell_type": "code",
   "execution_count": 5,
   "metadata": {},
   "outputs": [],
   "source": [
    "tf.config.experimental.set_memory_growth(physical_devices[0], True)"
   ]
  },
  {
   "cell_type": "code",
   "execution_count": 6,
   "metadata": {},
   "outputs": [],
   "source": [
    "import utils\n",
    "from utils import *"
   ]
  },
  {
   "cell_type": "code",
   "execution_count": 7,
   "metadata": {},
   "outputs": [
    {
     "name": "stdout",
     "output_type": "stream",
     "text": [
      "Current Time = 23:04:30\n"
     ]
    },
    {
     "data": {
      "text/plain": [
       "datetime.datetime(2021, 4, 11, 23, 4, 30, 947387)"
      ]
     },
     "execution_count": 7,
     "metadata": {},
     "output_type": "execute_result"
    }
   ],
   "source": [
    "curTime()"
   ]
  },
  {
   "cell_type": "code",
   "execution_count": null,
   "metadata": {},
   "outputs": [],
   "source": [
    "def create_model_ResNet50(number_classes, input_shape=(224,224,3),optimizer, metrics):\n",
    "    base_model = keras.applications.ResNet50(\n",
    "        weights='imagenet',\n",
    "        input_shape=input_shape,\n",
    "        include_top=False)\n",
    "    base_model.trainable = False\n",
    "    inputs = keras.Input(shape=input_shape)\n",
    "    x = base_model(inputs, training=False)\n",
    "    x = keras.layers.GlobalAveragePooling2D()(x)\n",
    "    outputs = keras.layers.Dense(number_classes)(x)\n",
    "    model = keras.Model(inputs, outputs)\n",
    "    \n",
    "    model.compile(optimizer=optimizer,\n",
    "              loss=keras.losses.CategoricalCrossentropy(from_logits=True),\n",
    "              metrics=metrics)\n",
    "    return model"
   ]
  },
  {
   "cell_type": "code",
   "execution_count": null,
   "metadata": {},
   "outputs": [],
   "source": [
    "def create_model_ResNet101(number_classes, input_shape=(224,224,3),optimizer, metrics):\n",
    "    base_model = keras.applications.ResNet101(\n",
    "        weights='imagenet',\n",
    "        input_shape=input_shape,\n",
    "        include_top=False)\n",
    "    base_model.trainable = False\n",
    "    inputs = keras.Input(shape=input_shape)\n",
    "    x = base_model(inputs, training=False)\n",
    "    x = keras.layers.GlobalAveragePooling2D()(x)\n",
    "    outputs = keras.layers.Dense(number_classes)(x)\n",
    "    model = keras.Model(inputs, outputs)\n",
    "    \n",
    "    model.compile(optimizer=optimizer,\n",
    "              loss=keras.losses.CategoricalCrossentropy(from_logits=True),\n",
    "              metrics=metrics)\n",
    "    return model"
   ]
  },
  {
   "cell_type": "code",
   "execution_count": null,
   "metadata": {},
   "outputs": [],
   "source": [
    "def create_model_ResNet152(number_classes, input_shape=(224,224,3),optimizer, metrics):\n",
    "    base_model = keras.applications.ResNet152(\n",
    "        weights='imagenet',\n",
    "        input_shape=input_shape,\n",
    "        include_top=False)\n",
    "    base_model.trainable = False\n",
    "    inputs = keras.Input(shape=input_shape)\n",
    "    x = base_model(inputs, training=False)\n",
    "    x = keras.layers.GlobalAveragePooling2D()(x)\n",
    "    outputs = keras.layers.Dense(number_classes)(x)\n",
    "    model = keras.Model(inputs, outputs)\n",
    "    \n",
    "    model.compile(optimizer=optimizer,\n",
    "              loss=keras.losses.CategoricalCrossentropy(from_logits=True),\n",
    "              metrics=metrics)\n",
    "    return model"
   ]
  },
  {
   "cell_type": "code",
   "execution_count": null,
   "metadata": {},
   "outputs": [],
   "source": [
    "def create_model_ResNet50V2(number_classes, input_shape=(224,224,3),optimizer, metrics):\n",
    "    base_model = keras.applications.ResNet50V2(\n",
    "        weights='imagenet',\n",
    "        input_shape=input_shape,\n",
    "        include_top=False)\n",
    "    base_model.trainable = False\n",
    "    inputs = keras.Input(shape=input_shape)\n",
    "    x = base_model(inputs, training=False)\n",
    "    x = keras.layers.GlobalAveragePooling2D()(x)\n",
    "    outputs = keras.layers.Dense(number_classes)(x)\n",
    "    model = keras.Model(inputs, outputs)\n",
    "    \n",
    "    model.compile(optimizer=optimizer,\n",
    "              loss=keras.losses.CategoricalCrossentropy(from_logits=True),\n",
    "              metrics=metrics)\n",
    "    return model"
   ]
  },
  {
   "cell_type": "code",
   "execution_count": null,
   "metadata": {},
   "outputs": [],
   "source": [
    "def create_model_ResNet101V2(number_classes, input_shape=(224,224,3),optimizer, metrics):\n",
    "    base_model = keras.applications.ResNet101V2(\n",
    "        weights='imagenet',\n",
    "        input_shape=input_shape,\n",
    "        include_top=False)\n",
    "    base_model.trainable = False\n",
    "    inputs = keras.Input(shape=input_shape)\n",
    "    x = base_model(inputs, training=False)\n",
    "    x = keras.layers.GlobalAveragePooling2D()(x)\n",
    "    outputs = keras.layers.Dense(number_classes)(x)\n",
    "    model = keras.Model(inputs, outputs)\n",
    "    \n",
    "    model.compile(optimizer=optimizer,\n",
    "              loss=keras.losses.CategoricalCrossentropy(from_logits=True),\n",
    "              metrics=metrics)\n",
    "    return model"
   ]
  },
  {
   "cell_type": "code",
   "execution_count": null,
   "metadata": {},
   "outputs": [],
   "source": [
    "def create_model_ResNet152V2(number_classes, input_shape=(224,224,3),optimizer, metrics):\n",
    "    base_model = keras.applications.ResNet152V2(\n",
    "        weights='imagenet',\n",
    "        input_shape=input_shape,\n",
    "        include_top=False)\n",
    "    base_model.trainable = False\n",
    "    inputs = keras.Input(shape=input_shape)\n",
    "    x = base_model(inputs, training=False)\n",
    "    x = keras.layers.GlobalAveragePooling2D()(x)\n",
    "    outputs = keras.layers.Dense(number_classes)(x)\n",
    "    model = keras.Model(inputs, outputs)\n",
    "    \n",
    "    model.compile(optimizer=optimizer,\n",
    "              loss=keras.losses.CategoricalCrossentropy(from_logits=True),\n",
    "              metrics=metrics)\n",
    "    return model"
   ]
  },
  {
   "cell_type": "code",
   "execution_count": 11,
   "metadata": {},
   "outputs": [
    {
     "data": {
      "text/plain": [
       "10"
      ]
     },
     "execution_count": 11,
     "metadata": {},
     "output_type": "execute_result"
    }
   ],
   "source": [
    "# CONSTANTS\n",
    "in_shape = (224, 224, 3)\n",
    "INPUT_SIZE = 224\n",
    "\n",
    "train_dir = './cats/v4/train'\n",
    "test_dir = './cats/v4/test'\n",
    "breeds = os.listdir(train_dir)\n",
    "no_classes = len(breeds)\n",
    "no_classes"
   ]
  },
  {
   "cell_type": "code",
   "execution_count": 10,
   "metadata": {},
   "outputs": [],
   "source": [
    "es = EarlyStopping(monitor='val_loss', patience=10, mode='min', min_delta=0.01, verbose=1)"
   ]
  },
  {
   "cell_type": "code",
   "execution_count": 12,
   "metadata": {},
   "outputs": [],
   "source": [
    "optimizer = keras.optimizers.Adamax()\n",
    "metrics=[keras.metrics.CategoricalAccuracy()]"
   ]
  },
  {
   "cell_type": "markdown",
   "metadata": {},
   "source": [
    "***"
   ]
  },
  {
   "cell_type": "markdown",
   "metadata": {},
   "source": [
    "### ResNet50\n"
   ]
  },
  {
   "cell_type": "code",
   "execution_count": null,
   "metadata": {},
   "outputs": [],
   "source": [
    "augs=''"
   ]
  },
  {
   "cell_type": "code",
   "execution_count": 19,
   "metadata": {},
   "outputs": [
    {
     "name": "stdout",
     "output_type": "stream",
     "text": [
      "Found 18584 images belonging to 10 classes.\n",
      "Found 7956 images belonging to 10 classes.\n",
      "Found 1000 images belonging to 10 classes.\n"
     ]
    }
   ],
   "source": [
    "data_gen = ImageDataGenerator(preprocessing_function=tf.keras.applications.resnet.preprocess_input, validation_split=0.3)\n",
    "train_batches = data_gen.flow_from_directory(directory=train_dir, target_size=(INPUT_SIZE,INPUT_SIZE), classes=breeds, batch_size=128, subset=\"training\") \n",
    "valid_batches = data_gen.flow_from_directory(directory=train_dir, target_size=(INPUT_SIZE,INPUT_SIZE), classes=breeds, batch_size=128, subset=\"validation\")\n",
    "test_batches = ImageDataGenerator(preprocessing_function=tf.keras.applications.resnet.preprocess_input).flow_from_directory(directory=test_dir, target_size=(INPUT_SIZE,INPUT_SIZE), classes=breeds, batch_size=10, shuffle=False)"
   ]
  },
  {
   "cell_type": "code",
   "execution_count": 20,
   "metadata": {},
   "outputs": [
    {
     "name": "stdout",
     "output_type": "stream",
     "text": [
      "Current Time = 23:06:21\n"
     ]
    }
   ],
   "source": [
    "log_dir=os.path.join('logs','fitres',curTime().strftime(\"%Y%m%d-%H%M%S\"))"
   ]
  },
  {
   "cell_type": "code",
   "execution_count": 21,
   "metadata": {},
   "outputs": [],
   "source": [
    "tb =  TensorBoard(log_dir=log_dir, histogram_freq=1,profile_batch = '500,520')"
   ]
  },
  {
   "cell_type": "code",
   "execution_count": 22,
   "metadata": {},
   "outputs": [],
   "source": [
    "cbks=[tb,es]"
   ]
  },
  {
   "cell_type": "code",
   "execution_count": 23,
   "metadata": {},
   "outputs": [
    {
     "name": "stdout",
     "output_type": "stream",
     "text": [
      "Model: \"model_1\"\n",
      "_________________________________________________________________\n",
      "Layer (type)                 Output Shape              Param #   \n",
      "=================================================================\n",
      "input_4 (InputLayer)         [(None, 331, 331, 3)]     0         \n",
      "_________________________________________________________________\n",
      "NASNet (Functional)          (None, 11, 11, 4032)      84916818  \n",
      "_________________________________________________________________\n",
      "global_average_pooling2d_1 ( (None, 4032)              0         \n",
      "_________________________________________________________________\n",
      "dense_1 (Dense)              (None, 10)                40330     \n",
      "=================================================================\n",
      "Total params: 84,957,148\n",
      "Trainable params: 40,330\n",
      "Non-trainable params: 84,916,818\n",
      "_________________________________________________________________\n"
     ]
    }
   ],
   "source": [
    "res1 = create_model_ResNet50(number_classes=no_classes, optimizer=optimizer, metrics=metrics)\n",
    "res1.summary()"
   ]
  },
  {
   "cell_type": "code",
   "execution_count": null,
   "metadata": {},
   "outputs": [
    {
     "name": "stdout",
     "output_type": "stream",
     "text": [
      "Epoch 1/100\n",
      "291/291 [==============================] - 900s 3s/step - loss: 1.3529 - categorical_accuracy: 0.5631 - val_loss: 0.9576 - val_categorical_accuracy: 0.6948\n",
      "Epoch 2/100\n",
      "291/291 [==============================] - 817s 3s/step - loss: 0.8710 - categorical_accuracy: 0.7184 - val_loss: 0.8685 - val_categorical_accuracy: 0.7212\n",
      "Epoch 3/100\n",
      "231/291 [======================>.......] - ETA: 1:54 - loss: 0.7801 - categorical_accuracy: 0.7475"
     ]
    }
   ],
   "source": [
    "h_res1 = res1.fit(train_batches,epochs=100, callbacks=cbks,validation_data=valid_batches)"
   ]
  },
  {
   "cell_type": "code",
   "execution_count": null,
   "metadata": {},
   "outputs": [],
   "source": [
    "plotLoss(f'ResNet50, 128batch, Adamax {augs} - catsv4', h_res1)"
   ]
  },
  {
   "cell_type": "code",
   "execution_count": null,
   "metadata": {},
   "outputs": [],
   "source": [
    "pred_res1 = res1.predict(x=test_batches, steps=len(test_batches), verbose=1)"
   ]
  },
  {
   "cell_type": "code",
   "execution_count": null,
   "metadata": {},
   "outputs": [],
   "source": [
    "displayCM(y_true=test_batches.classes, predictions=pred_res1, plot_labels=cm_plot_labels, title=f'Confusion Matrix ResNet50, 128b, Adamax {augs} - catsv4')"
   ]
  },
  {
   "cell_type": "markdown",
   "metadata": {},
   "source": [
    "***"
   ]
  },
  {
   "cell_type": "code",
   "execution_count": null,
   "metadata": {},
   "outputs": [],
   "source": [
    "augs='rotation flip'"
   ]
  },
  {
   "cell_type": "code",
   "execution_count": 19,
   "metadata": {},
   "outputs": [
    {
     "name": "stdout",
     "output_type": "stream",
     "text": [
      "Found 18584 images belonging to 10 classes.\n",
      "Found 7956 images belonging to 10 classes.\n",
      "Found 1000 images belonging to 10 classes.\n"
     ]
    }
   ],
   "source": [
    "data_gen = ImageDataGenerator(horizontal_flip=True, rotation_range=90, preprocessing_function=tf.keras.applications.resnet.preprocess_input, validation_split=0.3)\n",
    "train_batches = data_gen.flow_from_directory(directory=train_dir, target_size=(INPUT_SIZE,INPUT_SIZE), classes=breeds, batch_size=128, subset=\"training\") \n",
    "valid_batches = data_gen.flow_from_directory(directory=train_dir, target_size=(INPUT_SIZE,INPUT_SIZE), classes=breeds, batch_size=128, subset=\"validation\")\n",
    "test_batches = ImageDataGenerator(preprocessing_function=tf.keras.applications.resnet.preprocess_input).flow_from_directory(directory=test_dir, target_size=(INPUT_SIZE,INPUT_SIZE), classes=breeds, batch_size=10, shuffle=False)"
   ]
  },
  {
   "cell_type": "code",
   "execution_count": 20,
   "metadata": {},
   "outputs": [
    {
     "name": "stdout",
     "output_type": "stream",
     "text": [
      "Current Time = 23:06:21\n"
     ]
    }
   ],
   "source": [
    "log_dir=os.path.join('logs','fitres',curTime().strftime(\"%Y%m%d-%H%M%S\"))"
   ]
  },
  {
   "cell_type": "code",
   "execution_count": 21,
   "metadata": {},
   "outputs": [],
   "source": [
    "tb =  TensorBoard(log_dir=log_dir, histogram_freq=1,profile_batch = '500,520')"
   ]
  },
  {
   "cell_type": "code",
   "execution_count": 22,
   "metadata": {},
   "outputs": [],
   "source": [
    "cbks=[tb,es]"
   ]
  },
  {
   "cell_type": "code",
   "execution_count": 23,
   "metadata": {},
   "outputs": [
    {
     "name": "stdout",
     "output_type": "stream",
     "text": [
      "Model: \"model_1\"\n",
      "_________________________________________________________________\n",
      "Layer (type)                 Output Shape              Param #   \n",
      "=================================================================\n",
      "input_4 (InputLayer)         [(None, 331, 331, 3)]     0         \n",
      "_________________________________________________________________\n",
      "NASNet (Functional)          (None, 11, 11, 4032)      84916818  \n",
      "_________________________________________________________________\n",
      "global_average_pooling2d_1 ( (None, 4032)              0         \n",
      "_________________________________________________________________\n",
      "dense_1 (Dense)              (None, 10)                40330     \n",
      "=================================================================\n",
      "Total params: 84,957,148\n",
      "Trainable params: 40,330\n",
      "Non-trainable params: 84,916,818\n",
      "_________________________________________________________________\n"
     ]
    }
   ],
   "source": [
    "res11 = create_model_ResNet50(number_classes=no_classes, optimizer=optimizer, metrics=metrics)\n",
    "res11.summary()"
   ]
  },
  {
   "cell_type": "code",
   "execution_count": null,
   "metadata": {},
   "outputs": [
    {
     "name": "stdout",
     "output_type": "stream",
     "text": [
      "Epoch 1/100\n",
      "291/291 [==============================] - 900s 3s/step - loss: 1.3529 - categorical_accuracy: 0.5631 - val_loss: 0.9576 - val_categorical_accuracy: 0.6948\n",
      "Epoch 2/100\n",
      "291/291 [==============================] - 817s 3s/step - loss: 0.8710 - categorical_accuracy: 0.7184 - val_loss: 0.8685 - val_categorical_accuracy: 0.7212\n",
      "Epoch 3/100\n",
      "231/291 [======================>.......] - ETA: 1:54 - loss: 0.7801 - categorical_accuracy: 0.7475"
     ]
    }
   ],
   "source": [
    "h_res11 = res11.fit(train_batches,epochs=100, callbacks=cbks,validation_data=valid_batches)"
   ]
  },
  {
   "cell_type": "code",
   "execution_count": null,
   "metadata": {},
   "outputs": [],
   "source": [
    "plotLoss(f'ResNet50, 128batch, Adamax {augs} - catsv4', h_res11)"
   ]
  },
  {
   "cell_type": "code",
   "execution_count": null,
   "metadata": {},
   "outputs": [],
   "source": [
    "pred_res11 = res11.predict(x=test_batches, steps=len(test_batches), verbose=1)"
   ]
  },
  {
   "cell_type": "code",
   "execution_count": null,
   "metadata": {},
   "outputs": [],
   "source": [
    "displayCM(y_true=test_batches.classes, predictions=pred_res11, plot_labels=cm_plot_labels, title=f'Confusion Matrix ResNet50, 128b, Adamax {augs} - catsv4')"
   ]
  },
  {
   "cell_type": "markdown",
   "metadata": {},
   "source": [
    "***"
   ]
  },
  {
   "cell_type": "code",
   "execution_count": null,
   "metadata": {},
   "outputs": [],
   "source": [
    "augs='rotation flip shear'"
   ]
  },
  {
   "cell_type": "code",
   "execution_count": 19,
   "metadata": {},
   "outputs": [
    {
     "name": "stdout",
     "output_type": "stream",
     "text": [
      "Found 18584 images belonging to 10 classes.\n",
      "Found 7956 images belonging to 10 classes.\n",
      "Found 1000 images belonging to 10 classes.\n"
     ]
    }
   ],
   "source": [
    "data_gen = ImageDataGenerator(horizontal_flip=True, rotation_range=90,shear_range=40, preprocessing_function=tf.keras.applications.resnet.preprocess_input, validation_split=0.3)\n",
    "train_batches = data_gen.flow_from_directory(directory=train_dir, target_size=(INPUT_SIZE,INPUT_SIZE), classes=breeds, batch_size=128, subset=\"training\") \n",
    "valid_batches = data_gen.flow_from_directory(directory=train_dir, target_size=(INPUT_SIZE,INPUT_SIZE), classes=breeds, batch_size=128, subset=\"validation\")\n",
    "test_batches = ImageDataGenerator(preprocessing_function=tf.keras.applications.resnet.preprocess_input).flow_from_directory(directory=test_dir, target_size=(INPUT_SIZE,INPUT_SIZE), classes=breeds, batch_size=10, shuffle=False)"
   ]
  },
  {
   "cell_type": "code",
   "execution_count": 20,
   "metadata": {},
   "outputs": [
    {
     "name": "stdout",
     "output_type": "stream",
     "text": [
      "Current Time = 23:06:21\n"
     ]
    }
   ],
   "source": [
    "log_dir=os.path.join('logs','fitres',curTime().strftime(\"%Y%m%d-%H%M%S\"))"
   ]
  },
  {
   "cell_type": "code",
   "execution_count": 21,
   "metadata": {},
   "outputs": [],
   "source": [
    "tb =  TensorBoard(log_dir=log_dir, histogram_freq=1,profile_batch = '500,520')"
   ]
  },
  {
   "cell_type": "code",
   "execution_count": 22,
   "metadata": {},
   "outputs": [],
   "source": [
    "cbks=[tb,es]"
   ]
  },
  {
   "cell_type": "code",
   "execution_count": 23,
   "metadata": {},
   "outputs": [
    {
     "name": "stdout",
     "output_type": "stream",
     "text": [
      "Model: \"model_1\"\n",
      "_________________________________________________________________\n",
      "Layer (type)                 Output Shape              Param #   \n",
      "=================================================================\n",
      "input_4 (InputLayer)         [(None, 331, 331, 3)]     0         \n",
      "_________________________________________________________________\n",
      "NASNet (Functional)          (None, 11, 11, 4032)      84916818  \n",
      "_________________________________________________________________\n",
      "global_average_pooling2d_1 ( (None, 4032)              0         \n",
      "_________________________________________________________________\n",
      "dense_1 (Dense)              (None, 10)                40330     \n",
      "=================================================================\n",
      "Total params: 84,957,148\n",
      "Trainable params: 40,330\n",
      "Non-trainable params: 84,916,818\n",
      "_________________________________________________________________\n"
     ]
    }
   ],
   "source": [
    "res12 = create_model_ResNet50(number_classes=no_classes, optimizer=optimizer, metrics=metrics)\n",
    "res12.summary()"
   ]
  },
  {
   "cell_type": "code",
   "execution_count": null,
   "metadata": {},
   "outputs": [
    {
     "name": "stdout",
     "output_type": "stream",
     "text": [
      "Epoch 1/100\n",
      "291/291 [==============================] - 900s 3s/step - loss: 1.3529 - categorical_accuracy: 0.5631 - val_loss: 0.9576 - val_categorical_accuracy: 0.6948\n",
      "Epoch 2/100\n",
      "291/291 [==============================] - 817s 3s/step - loss: 0.8710 - categorical_accuracy: 0.7184 - val_loss: 0.8685 - val_categorical_accuracy: 0.7212\n",
      "Epoch 3/100\n",
      "231/291 [======================>.......] - ETA: 1:54 - loss: 0.7801 - categorical_accuracy: 0.7475"
     ]
    }
   ],
   "source": [
    "h_res12 = res12.fit(train_batches,epochs=100, callbacks=cbks,validation_data=valid_batches)"
   ]
  },
  {
   "cell_type": "code",
   "execution_count": null,
   "metadata": {},
   "outputs": [],
   "source": [
    "plotLoss(f'ResNet50, 128batch, Adamax {augs} - catsv4', h_res12)"
   ]
  },
  {
   "cell_type": "code",
   "execution_count": null,
   "metadata": {},
   "outputs": [],
   "source": [
    "pred_res12 = res12.predict(x=test_batches, steps=len(test_batches), verbose=1)"
   ]
  },
  {
   "cell_type": "code",
   "execution_count": null,
   "metadata": {},
   "outputs": [],
   "source": [
    "displayCM(y_true=test_batches.classes, predictions=pred_res12, plot_labels=cm_plot_labels, title=f'Confusion Matrix ResNet50, 128b, Adamax {augs} - catsv4')"
   ]
  },
  {
   "cell_type": "markdown",
   "metadata": {},
   "source": [
    "***"
   ]
  },
  {
   "cell_type": "code",
   "execution_count": null,
   "metadata": {},
   "outputs": [],
   "source": [
    "augs='rotation flip brightness'"
   ]
  },
  {
   "cell_type": "code",
   "execution_count": 19,
   "metadata": {},
   "outputs": [
    {
     "name": "stdout",
     "output_type": "stream",
     "text": [
      "Found 18584 images belonging to 10 classes.\n",
      "Found 7956 images belonging to 10 classes.\n",
      "Found 1000 images belonging to 10 classes.\n"
     ]
    }
   ],
   "source": [
    "data_gen = ImageDataGenerator(horizontal_flip=True, rotation_range=90,brightness_range=[0.8,1.2], preprocessing_function=tf.keras.applications.resnet.preprocess_input, validation_split=0.3)\n",
    "train_batches = data_gen.flow_from_directory(directory=train_dir, target_size=(INPUT_SIZE,INPUT_SIZE), classes=breeds, batch_size=128, subset=\"training\") \n",
    "valid_batches = data_gen.flow_from_directory(directory=train_dir, target_size=(INPUT_SIZE,INPUT_SIZE), classes=breeds, batch_size=128, subset=\"validation\")\n",
    "test_batches = ImageDataGenerator(preprocessing_function=tf.keras.applications.resnet.preprocess_input).flow_from_directory(directory=test_dir, target_size=(INPUT_SIZE,INPUT_SIZE), classes=breeds, batch_size=10, shuffle=False)"
   ]
  },
  {
   "cell_type": "code",
   "execution_count": 20,
   "metadata": {},
   "outputs": [
    {
     "name": "stdout",
     "output_type": "stream",
     "text": [
      "Current Time = 23:06:21\n"
     ]
    }
   ],
   "source": [
    "log_dir=os.path.join('logs','fitres',curTime().strftime(\"%Y%m%d-%H%M%S\"))"
   ]
  },
  {
   "cell_type": "code",
   "execution_count": 21,
   "metadata": {},
   "outputs": [],
   "source": [
    "tb =  TensorBoard(log_dir=log_dir, histogram_freq=1,profile_batch = '500,520')"
   ]
  },
  {
   "cell_type": "code",
   "execution_count": 22,
   "metadata": {},
   "outputs": [],
   "source": [
    "cbks=[tb,es]"
   ]
  },
  {
   "cell_type": "code",
   "execution_count": 23,
   "metadata": {},
   "outputs": [
    {
     "name": "stdout",
     "output_type": "stream",
     "text": [
      "Model: \"model_1\"\n",
      "_________________________________________________________________\n",
      "Layer (type)                 Output Shape              Param #   \n",
      "=================================================================\n",
      "input_4 (InputLayer)         [(None, 331, 331, 3)]     0         \n",
      "_________________________________________________________________\n",
      "NASNet (Functional)          (None, 11, 11, 4032)      84916818  \n",
      "_________________________________________________________________\n",
      "global_average_pooling2d_1 ( (None, 4032)              0         \n",
      "_________________________________________________________________\n",
      "dense_1 (Dense)              (None, 10)                40330     \n",
      "=================================================================\n",
      "Total params: 84,957,148\n",
      "Trainable params: 40,330\n",
      "Non-trainable params: 84,916,818\n",
      "_________________________________________________________________\n"
     ]
    }
   ],
   "source": [
    "res13 = create_model_ResNet50(number_classes=no_classes, optimizer=optimizer, metrics=metrics)\n",
    "res13.summary()"
   ]
  },
  {
   "cell_type": "code",
   "execution_count": null,
   "metadata": {},
   "outputs": [
    {
     "name": "stdout",
     "output_type": "stream",
     "text": [
      "Epoch 1/100\n",
      "291/291 [==============================] - 900s 3s/step - loss: 1.3529 - categorical_accuracy: 0.5631 - val_loss: 0.9576 - val_categorical_accuracy: 0.6948\n",
      "Epoch 2/100\n",
      "291/291 [==============================] - 817s 3s/step - loss: 0.8710 - categorical_accuracy: 0.7184 - val_loss: 0.8685 - val_categorical_accuracy: 0.7212\n",
      "Epoch 3/100\n",
      "231/291 [======================>.......] - ETA: 1:54 - loss: 0.7801 - categorical_accuracy: 0.7475"
     ]
    }
   ],
   "source": [
    "h_res13 = res13.fit(train_batches,epochs=100, callbacks=cbks,validation_data=valid_batches)"
   ]
  },
  {
   "cell_type": "code",
   "execution_count": null,
   "metadata": {},
   "outputs": [],
   "source": [
    "plotLoss(f'ResNet50, 128batch, Adamax {augs} - catsv4', h_res13)"
   ]
  },
  {
   "cell_type": "code",
   "execution_count": null,
   "metadata": {},
   "outputs": [],
   "source": [
    "pred_res13 = res13.predict(x=test_batches, steps=len(test_batches), verbose=1)"
   ]
  },
  {
   "cell_type": "code",
   "execution_count": null,
   "metadata": {},
   "outputs": [],
   "source": [
    "displayCM(y_true=test_batches.classes, predictions=pred_res13, plot_labels=cm_plot_labels, title=f'Confusion Matrix ResNet50, 128b, Adamax {augs} - catsv4')"
   ]
  },
  {
   "cell_type": "markdown",
   "metadata": {},
   "source": [
    "***"
   ]
  },
  {
   "cell_type": "markdown",
   "metadata": {},
   "source": [
    "***"
   ]
  },
  {
   "cell_type": "markdown",
   "metadata": {},
   "source": [
    "### ResNet101\n"
   ]
  },
  {
   "cell_type": "code",
   "execution_count": null,
   "metadata": {},
   "outputs": [],
   "source": [
    "augs = ''"
   ]
  },
  {
   "cell_type": "code",
   "execution_count": 19,
   "metadata": {},
   "outputs": [
    {
     "name": "stdout",
     "output_type": "stream",
     "text": [
      "Found 18584 images belonging to 10 classes.\n",
      "Found 7956 images belonging to 10 classes.\n",
      "Found 1000 images belonging to 10 classes.\n"
     ]
    }
   ],
   "source": [
    "data_gen = ImageDataGenerator(preprocessing_function=tf.keras.applications.resnet.preprocess_input, validation_split=0.3)\n",
    "train_batches = data_gen.flow_from_directory(directory=train_dir, target_size=(INPUT_SIZE,INPUT_SIZE), classes=breeds, batch_size=128, subset=\"training\") \n",
    "valid_batches = data_gen.flow_from_directory(directory=train_dir, target_size=(INPUT_SIZE,INPUT_SIZE), classes=breeds, batch_size=128, subset=\"validation\")\n",
    "test_batches = ImageDataGenerator(preprocessing_function=tf.keras.applications.resnet.preprocess_input).flow_from_directory(directory=test_dir, target_size=(INPUT_SIZE,INPUT_SIZE), classes=breeds, batch_size=10, shuffle=False)"
   ]
  },
  {
   "cell_type": "code",
   "execution_count": 20,
   "metadata": {},
   "outputs": [
    {
     "name": "stdout",
     "output_type": "stream",
     "text": [
      "Current Time = 23:06:21\n"
     ]
    }
   ],
   "source": [
    "log_dir=os.path.join('logs','fitres',curTime().strftime(\"%Y%m%d-%H%M%S\"))"
   ]
  },
  {
   "cell_type": "code",
   "execution_count": 21,
   "metadata": {},
   "outputs": [],
   "source": [
    "tb =  TensorBoard(log_dir=log_dir, histogram_freq=1,profile_batch = '500,520')"
   ]
  },
  {
   "cell_type": "code",
   "execution_count": 22,
   "metadata": {},
   "outputs": [],
   "source": [
    "cbks=[tb,es]"
   ]
  },
  {
   "cell_type": "code",
   "execution_count": 23,
   "metadata": {},
   "outputs": [
    {
     "name": "stdout",
     "output_type": "stream",
     "text": [
      "Model: \"model_1\"\n",
      "_________________________________________________________________\n",
      "Layer (type)                 Output Shape              Param #   \n",
      "=================================================================\n",
      "input_4 (InputLayer)         [(None, 331, 331, 3)]     0         \n",
      "_________________________________________________________________\n",
      "NASNet (Functional)          (None, 11, 11, 4032)      84916818  \n",
      "_________________________________________________________________\n",
      "global_average_pooling2d_1 ( (None, 4032)              0         \n",
      "_________________________________________________________________\n",
      "dense_1 (Dense)              (None, 10)                40330     \n",
      "=================================================================\n",
      "Total params: 84,957,148\n",
      "Trainable params: 40,330\n",
      "Non-trainable params: 84,916,818\n",
      "_________________________________________________________________\n"
     ]
    }
   ],
   "source": [
    "res2 = create_model_ResNet101(number_classes=no_classes, optimizer=optimizer, metrics=metrics)\n",
    "res2.summary()"
   ]
  },
  {
   "cell_type": "code",
   "execution_count": null,
   "metadata": {},
   "outputs": [
    {
     "name": "stdout",
     "output_type": "stream",
     "text": [
      "Epoch 1/100\n",
      "291/291 [==============================] - 900s 3s/step - loss: 1.3529 - categorical_accuracy: 0.5631 - val_loss: 0.9576 - val_categorical_accuracy: 0.6948\n",
      "Epoch 2/100\n",
      "291/291 [==============================] - 817s 3s/step - loss: 0.8710 - categorical_accuracy: 0.7184 - val_loss: 0.8685 - val_categorical_accuracy: 0.7212\n",
      "Epoch 3/100\n",
      "231/291 [======================>.......] - ETA: 1:54 - loss: 0.7801 - categorical_accuracy: 0.7475"
     ]
    }
   ],
   "source": [
    "h_res2 = res2.fit(train_batches,epochs=100, callbacks=cbks,validation_data=valid_batches)"
   ]
  },
  {
   "cell_type": "code",
   "execution_count": null,
   "metadata": {},
   "outputs": [],
   "source": [
    "plotLoss(f'ResNet101, 128batch, Adamax {augs} - catsv4', h_res2)"
   ]
  },
  {
   "cell_type": "code",
   "execution_count": null,
   "metadata": {},
   "outputs": [],
   "source": [
    "pred_res2 = res2.predict(x=test_batches, steps=len(test_batches), verbose=1)"
   ]
  },
  {
   "cell_type": "code",
   "execution_count": null,
   "metadata": {},
   "outputs": [],
   "source": [
    "displayCM(y_true=test_batches.classes, predictions=pred_res2, plot_labels=cm_plot_labels, title=f'Confusion Matrix ResNet101, 128batch, Adamax {augs} - catsv4')"
   ]
  },
  {
   "cell_type": "markdown",
   "metadata": {},
   "source": [
    "***"
   ]
  },
  {
   "cell_type": "code",
   "execution_count": null,
   "metadata": {},
   "outputs": [],
   "source": [
    "augs = 'flip rotation'"
   ]
  },
  {
   "cell_type": "code",
   "execution_count": 19,
   "metadata": {},
   "outputs": [
    {
     "name": "stdout",
     "output_type": "stream",
     "text": [
      "Found 18584 images belonging to 10 classes.\n",
      "Found 7956 images belonging to 10 classes.\n",
      "Found 1000 images belonging to 10 classes.\n"
     ]
    }
   ],
   "source": [
    "data_gen = ImageDataGenerator(horizontal_flip=True, rotation_range=90,preprocessing_function=tf.keras.applications.resnet.preprocess_input, validation_split=0.3)\n",
    "train_batches = data_gen.flow_from_directory(directory=train_dir, target_size=(INPUT_SIZE,INPUT_SIZE), classes=breeds, batch_size=128, subset=\"training\") \n",
    "valid_batches = data_gen.flow_from_directory(directory=train_dir, target_size=(INPUT_SIZE,INPUT_SIZE), classes=breeds, batch_size=128, subset=\"validation\")\n",
    "test_batches = ImageDataGenerator(preprocessing_function=tf.keras.applications.resnet.preprocess_input).flow_from_directory(directory=test_dir, target_size=(INPUT_SIZE,INPUT_SIZE), classes=breeds, batch_size=10, shuffle=False)"
   ]
  },
  {
   "cell_type": "code",
   "execution_count": 20,
   "metadata": {},
   "outputs": [
    {
     "name": "stdout",
     "output_type": "stream",
     "text": [
      "Current Time = 23:06:21\n"
     ]
    }
   ],
   "source": [
    "log_dir=os.path.join('logs','fitres',curTime().strftime(\"%Y%m%d-%H%M%S\"))"
   ]
  },
  {
   "cell_type": "code",
   "execution_count": 21,
   "metadata": {},
   "outputs": [],
   "source": [
    "tb =  TensorBoard(log_dir=log_dir, histogram_freq=1,profile_batch = '500,520')"
   ]
  },
  {
   "cell_type": "code",
   "execution_count": 22,
   "metadata": {},
   "outputs": [],
   "source": [
    "cbks=[tb,es]"
   ]
  },
  {
   "cell_type": "code",
   "execution_count": 23,
   "metadata": {},
   "outputs": [
    {
     "name": "stdout",
     "output_type": "stream",
     "text": [
      "Model: \"model_1\"\n",
      "_________________________________________________________________\n",
      "Layer (type)                 Output Shape              Param #   \n",
      "=================================================================\n",
      "input_4 (InputLayer)         [(None, 331, 331, 3)]     0         \n",
      "_________________________________________________________________\n",
      "NASNet (Functional)          (None, 11, 11, 4032)      84916818  \n",
      "_________________________________________________________________\n",
      "global_average_pooling2d_1 ( (None, 4032)              0         \n",
      "_________________________________________________________________\n",
      "dense_1 (Dense)              (None, 10)                40330     \n",
      "=================================================================\n",
      "Total params: 84,957,148\n",
      "Trainable params: 40,330\n",
      "Non-trainable params: 84,916,818\n",
      "_________________________________________________________________\n"
     ]
    }
   ],
   "source": [
    "res21 = create_model_ResNet101(number_classes=no_classes, optimizer=optimizer, metrics=metrics)\n",
    "res21.summary()"
   ]
  },
  {
   "cell_type": "code",
   "execution_count": null,
   "metadata": {},
   "outputs": [
    {
     "name": "stdout",
     "output_type": "stream",
     "text": [
      "Epoch 1/100\n",
      "291/291 [==============================] - 900s 3s/step - loss: 1.3529 - categorical_accuracy: 0.5631 - val_loss: 0.9576 - val_categorical_accuracy: 0.6948\n",
      "Epoch 2/100\n",
      "291/291 [==============================] - 817s 3s/step - loss: 0.8710 - categorical_accuracy: 0.7184 - val_loss: 0.8685 - val_categorical_accuracy: 0.7212\n",
      "Epoch 3/100\n",
      "231/291 [======================>.......] - ETA: 1:54 - loss: 0.7801 - categorical_accuracy: 0.7475"
     ]
    }
   ],
   "source": [
    "h_res21 = res21.fit(train_batches,epochs=100, callbacks=cbks,validation_data=valid_batches)"
   ]
  },
  {
   "cell_type": "code",
   "execution_count": null,
   "metadata": {},
   "outputs": [],
   "source": [
    "plotLoss(f'ResNet101, 128batch, Adamax {augs} - catsv4', h_res21)"
   ]
  },
  {
   "cell_type": "code",
   "execution_count": null,
   "metadata": {},
   "outputs": [],
   "source": [
    "pred_res21 = res21.predict(x=test_batches, steps=len(test_batches), verbose=1)"
   ]
  },
  {
   "cell_type": "code",
   "execution_count": null,
   "metadata": {},
   "outputs": [],
   "source": [
    "displayCM(y_true=test_batches.classes, predictions=pred_res21, plot_labels=cm_plot_labels, title=f'Confusion Matrix ResNet101, 128batch, Adamax {augs} - catsv4')"
   ]
  },
  {
   "cell_type": "markdown",
   "metadata": {},
   "source": [
    "***"
   ]
  },
  {
   "cell_type": "code",
   "execution_count": null,
   "metadata": {},
   "outputs": [],
   "source": [
    "augs = 'flip rotation shear'"
   ]
  },
  {
   "cell_type": "code",
   "execution_count": 19,
   "metadata": {},
   "outputs": [
    {
     "name": "stdout",
     "output_type": "stream",
     "text": [
      "Found 18584 images belonging to 10 classes.\n",
      "Found 7956 images belonging to 10 classes.\n",
      "Found 1000 images belonging to 10 classes.\n"
     ]
    }
   ],
   "source": [
    "data_gen = ImageDataGenerator(horizontal_flip=True, rotation_range=90,shear_range=40,preprocessing_function=tf.keras.applications.resnet.preprocess_input, validation_split=0.3)\n",
    "train_batches = data_gen.flow_from_directory(directory=train_dir, target_size=(INPUT_SIZE,INPUT_SIZE), classes=breeds, batch_size=128, subset=\"training\") \n",
    "valid_batches = data_gen.flow_from_directory(directory=train_dir, target_size=(INPUT_SIZE,INPUT_SIZE), classes=breeds, batch_size=128, subset=\"validation\")\n",
    "test_batches = ImageDataGenerator(preprocessing_function=tf.keras.applications.resnet.preprocess_input).flow_from_directory(directory=test_dir, target_size=(INPUT_SIZE,INPUT_SIZE), classes=breeds, batch_size=10, shuffle=False)"
   ]
  },
  {
   "cell_type": "code",
   "execution_count": 20,
   "metadata": {},
   "outputs": [
    {
     "name": "stdout",
     "output_type": "stream",
     "text": [
      "Current Time = 23:06:21\n"
     ]
    }
   ],
   "source": [
    "log_dir=os.path.join('logs','fitres',curTime().strftime(\"%Y%m%d-%H%M%S\"))"
   ]
  },
  {
   "cell_type": "code",
   "execution_count": 21,
   "metadata": {},
   "outputs": [],
   "source": [
    "tb =  TensorBoard(log_dir=log_dir, histogram_freq=1,profile_batch = '500,520')"
   ]
  },
  {
   "cell_type": "code",
   "execution_count": 22,
   "metadata": {},
   "outputs": [],
   "source": [
    "cbks=[tb,es]"
   ]
  },
  {
   "cell_type": "code",
   "execution_count": 23,
   "metadata": {},
   "outputs": [
    {
     "name": "stdout",
     "output_type": "stream",
     "text": [
      "Model: \"model_1\"\n",
      "_________________________________________________________________\n",
      "Layer (type)                 Output Shape              Param #   \n",
      "=================================================================\n",
      "input_4 (InputLayer)         [(None, 331, 331, 3)]     0         \n",
      "_________________________________________________________________\n",
      "NASNet (Functional)          (None, 11, 11, 4032)      84916818  \n",
      "_________________________________________________________________\n",
      "global_average_pooling2d_1 ( (None, 4032)              0         \n",
      "_________________________________________________________________\n",
      "dense_1 (Dense)              (None, 10)                40330     \n",
      "=================================================================\n",
      "Total params: 84,957,148\n",
      "Trainable params: 40,330\n",
      "Non-trainable params: 84,916,818\n",
      "_________________________________________________________________\n"
     ]
    }
   ],
   "source": [
    "res22 = create_model_ResNet101(number_classes=no_classes, optimizer=optimizer, metrics=metrics)\n",
    "res22.summary()"
   ]
  },
  {
   "cell_type": "code",
   "execution_count": null,
   "metadata": {},
   "outputs": [
    {
     "name": "stdout",
     "output_type": "stream",
     "text": [
      "Epoch 1/100\n",
      "291/291 [==============================] - 900s 3s/step - loss: 1.3529 - categorical_accuracy: 0.5631 - val_loss: 0.9576 - val_categorical_accuracy: 0.6948\n",
      "Epoch 2/100\n",
      "291/291 [==============================] - 817s 3s/step - loss: 0.8710 - categorical_accuracy: 0.7184 - val_loss: 0.8685 - val_categorical_accuracy: 0.7212\n",
      "Epoch 3/100\n",
      "231/291 [======================>.......] - ETA: 1:54 - loss: 0.7801 - categorical_accuracy: 0.7475"
     ]
    }
   ],
   "source": [
    "h_res22 = res22.fit(train_batches,epochs=100, callbacks=cbks,validation_data=valid_batches)"
   ]
  },
  {
   "cell_type": "code",
   "execution_count": null,
   "metadata": {},
   "outputs": [],
   "source": [
    "plotLoss(f'ResNet101, 128batch, Adamax {augs} - catsv4', h_res22)"
   ]
  },
  {
   "cell_type": "code",
   "execution_count": null,
   "metadata": {},
   "outputs": [],
   "source": [
    "pred_res22 = res22.predict(x=test_batches, steps=len(test_batches), verbose=1)"
   ]
  },
  {
   "cell_type": "code",
   "execution_count": null,
   "metadata": {},
   "outputs": [],
   "source": [
    "displayCM(y_true=test_batches.classes, predictions=pred_res22, plot_labels=cm_plot_labels, title=f'Confusion Matrix ResNet101, 128batch, Adamax {augs} - catsv4')"
   ]
  },
  {
   "cell_type": "markdown",
   "metadata": {},
   "source": [
    "***"
   ]
  },
  {
   "cell_type": "code",
   "execution_count": null,
   "metadata": {},
   "outputs": [],
   "source": [
    "augs = 'flip rotation brightness'"
   ]
  },
  {
   "cell_type": "code",
   "execution_count": 19,
   "metadata": {},
   "outputs": [
    {
     "name": "stdout",
     "output_type": "stream",
     "text": [
      "Found 18584 images belonging to 10 classes.\n",
      "Found 7956 images belonging to 10 classes.\n",
      "Found 1000 images belonging to 10 classes.\n"
     ]
    }
   ],
   "source": [
    "data_gen = ImageDataGenerator(horizontal_flip=True, rotation_range=90,brightness_range=[0.8,1.2],preprocessing_function=tf.keras.applications.resnet.preprocess_input, validation_split=0.3)\n",
    "train_batches = data_gen.flow_from_directory(directory=train_dir, target_size=(INPUT_SIZE,INPUT_SIZE), classes=breeds, batch_size=128, subset=\"training\") \n",
    "valid_batches = data_gen.flow_from_directory(directory=train_dir, target_size=(INPUT_SIZE,INPUT_SIZE), classes=breeds, batch_size=128, subset=\"validation\")\n",
    "test_batches = ImageDataGenerator(preprocessing_function=tf.keras.applications.resnet.preprocess_input).flow_from_directory(directory=test_dir, target_size=(INPUT_SIZE,INPUT_SIZE), classes=breeds, batch_size=10, shuffle=False)"
   ]
  },
  {
   "cell_type": "code",
   "execution_count": 20,
   "metadata": {},
   "outputs": [
    {
     "name": "stdout",
     "output_type": "stream",
     "text": [
      "Current Time = 23:06:21\n"
     ]
    }
   ],
   "source": [
    "log_dir=os.path.join('logs','fitres',curTime().strftime(\"%Y%m%d-%H%M%S\"))"
   ]
  },
  {
   "cell_type": "code",
   "execution_count": 21,
   "metadata": {},
   "outputs": [],
   "source": [
    "tb =  TensorBoard(log_dir=log_dir, histogram_freq=1,profile_batch = '500,520')"
   ]
  },
  {
   "cell_type": "code",
   "execution_count": 22,
   "metadata": {},
   "outputs": [],
   "source": [
    "cbks=[tb,es]"
   ]
  },
  {
   "cell_type": "code",
   "execution_count": 23,
   "metadata": {},
   "outputs": [
    {
     "name": "stdout",
     "output_type": "stream",
     "text": [
      "Model: \"model_1\"\n",
      "_________________________________________________________________\n",
      "Layer (type)                 Output Shape              Param #   \n",
      "=================================================================\n",
      "input_4 (InputLayer)         [(None, 331, 331, 3)]     0         \n",
      "_________________________________________________________________\n",
      "NASNet (Functional)          (None, 11, 11, 4032)      84916818  \n",
      "_________________________________________________________________\n",
      "global_average_pooling2d_1 ( (None, 4032)              0         \n",
      "_________________________________________________________________\n",
      "dense_1 (Dense)              (None, 10)                40330     \n",
      "=================================================================\n",
      "Total params: 84,957,148\n",
      "Trainable params: 40,330\n",
      "Non-trainable params: 84,916,818\n",
      "_________________________________________________________________\n"
     ]
    }
   ],
   "source": [
    "res23 = create_model_ResNet101(number_classes=no_classes, optimizer=optimizer, metrics=metrics)\n",
    "res23.summary()"
   ]
  },
  {
   "cell_type": "code",
   "execution_count": null,
   "metadata": {},
   "outputs": [
    {
     "name": "stdout",
     "output_type": "stream",
     "text": [
      "Epoch 1/100\n",
      "291/291 [==============================] - 900s 3s/step - loss: 1.3529 - categorical_accuracy: 0.5631 - val_loss: 0.9576 - val_categorical_accuracy: 0.6948\n",
      "Epoch 2/100\n",
      "291/291 [==============================] - 817s 3s/step - loss: 0.8710 - categorical_accuracy: 0.7184 - val_loss: 0.8685 - val_categorical_accuracy: 0.7212\n",
      "Epoch 3/100\n",
      "231/291 [======================>.......] - ETA: 1:54 - loss: 0.7801 - categorical_accuracy: 0.7475"
     ]
    }
   ],
   "source": [
    "h_res23 = res23.fit(train_batches,epochs=100, callbacks=cbks,validation_data=valid_batches)"
   ]
  },
  {
   "cell_type": "code",
   "execution_count": null,
   "metadata": {},
   "outputs": [],
   "source": [
    "plotLoss(f'ResNet101, 128batch, Adamax {augs} - catsv4', h_res23)"
   ]
  },
  {
   "cell_type": "code",
   "execution_count": null,
   "metadata": {},
   "outputs": [],
   "source": [
    "pred_res23 = res23.predict(x=test_batches, steps=len(test_batches), verbose=1)"
   ]
  },
  {
   "cell_type": "code",
   "execution_count": null,
   "metadata": {},
   "outputs": [],
   "source": [
    "displayCM(y_true=test_batches.classes, predictions=pred_res23, plot_labels=cm_plot_labels, title=f'Confusion Matrix ResNet101, 128batch, Adamax {augs} - catsv4')"
   ]
  },
  {
   "cell_type": "markdown",
   "metadata": {},
   "source": [
    "***"
   ]
  },
  {
   "cell_type": "markdown",
   "metadata": {},
   "source": [
    "***"
   ]
  },
  {
   "cell_type": "markdown",
   "metadata": {},
   "source": [
    "### ResNet152\n"
   ]
  },
  {
   "cell_type": "code",
   "execution_count": null,
   "metadata": {},
   "outputs": [],
   "source": [
    "augs = ''"
   ]
  },
  {
   "cell_type": "code",
   "execution_count": 19,
   "metadata": {},
   "outputs": [
    {
     "name": "stdout",
     "output_type": "stream",
     "text": [
      "Found 18584 images belonging to 10 classes.\n",
      "Found 7956 images belonging to 10 classes.\n",
      "Found 1000 images belonging to 10 classes.\n"
     ]
    }
   ],
   "source": [
    "data_gen = ImageDataGenerator(preprocessing_function=tf.keras.applications.resnet.preprocess_input, validation_split=0.3)\n",
    "train_batches = data_gen.flow_from_directory(directory=train_dir, target_size=(INPUT_SIZE,INPUT_SIZE), classes=breeds, batch_size=128, subset=\"training\") \n",
    "valid_batches = data_gen.flow_from_directory(directory=train_dir, target_size=(INPUT_SIZE,INPUT_SIZE), classes=breeds, batch_size=128, subset=\"validation\")\n",
    "test_batches = ImageDataGenerator(preprocessing_function=tf.keras.applications.resnet.preprocess_input).flow_from_directory(directory=test_dir, target_size=(INPUT_SIZE,INPUT_SIZE), classes=breeds, batch_size=10, shuffle=False)"
   ]
  },
  {
   "cell_type": "code",
   "execution_count": 20,
   "metadata": {},
   "outputs": [
    {
     "name": "stdout",
     "output_type": "stream",
     "text": [
      "Current Time = 23:06:21\n"
     ]
    }
   ],
   "source": [
    "log_dir=os.path.join('logs','fitres',curTime().strftime(\"%Y%m%d-%H%M%S\"))"
   ]
  },
  {
   "cell_type": "code",
   "execution_count": 21,
   "metadata": {},
   "outputs": [],
   "source": [
    "tb =  TensorBoard(log_dir=log_dir, histogram_freq=1,profile_batch = '500,520')"
   ]
  },
  {
   "cell_type": "code",
   "execution_count": 22,
   "metadata": {},
   "outputs": [],
   "source": [
    "cbks=[tb,es]"
   ]
  },
  {
   "cell_type": "code",
   "execution_count": 23,
   "metadata": {},
   "outputs": [
    {
     "name": "stdout",
     "output_type": "stream",
     "text": [
      "Model: \"model_1\"\n",
      "_________________________________________________________________\n",
      "Layer (type)                 Output Shape              Param #   \n",
      "=================================================================\n",
      "input_4 (InputLayer)         [(None, 331, 331, 3)]     0         \n",
      "_________________________________________________________________\n",
      "NASNet (Functional)          (None, 11, 11, 4032)      84916818  \n",
      "_________________________________________________________________\n",
      "global_average_pooling2d_1 ( (None, 4032)              0         \n",
      "_________________________________________________________________\n",
      "dense_1 (Dense)              (None, 10)                40330     \n",
      "=================================================================\n",
      "Total params: 84,957,148\n",
      "Trainable params: 40,330\n",
      "Non-trainable params: 84,916,818\n",
      "_________________________________________________________________\n"
     ]
    }
   ],
   "source": [
    "res3 = create_model_ResNet152(number_classes=no_classes, optimizer=optimizer, metrics=metrics)\n",
    "res3.summary()"
   ]
  },
  {
   "cell_type": "code",
   "execution_count": null,
   "metadata": {},
   "outputs": [
    {
     "name": "stdout",
     "output_type": "stream",
     "text": [
      "Epoch 1/100\n",
      "291/291 [==============================] - 900s 3s/step - loss: 1.3529 - categorical_accuracy: 0.5631 - val_loss: 0.9576 - val_categorical_accuracy: 0.6948\n",
      "Epoch 2/100\n",
      "291/291 [==============================] - 817s 3s/step - loss: 0.8710 - categorical_accuracy: 0.7184 - val_loss: 0.8685 - val_categorical_accuracy: 0.7212\n",
      "Epoch 3/100\n",
      "231/291 [======================>.......] - ETA: 1:54 - loss: 0.7801 - categorical_accuracy: 0.7475"
     ]
    }
   ],
   "source": [
    "h_res3 = res3.fit(train_batches,epochs=100, callbacks=cbks,validation_data=valid_batches)"
   ]
  },
  {
   "cell_type": "code",
   "execution_count": null,
   "metadata": {},
   "outputs": [],
   "source": [
    "plotLoss(f'ResNet152, 128batch, Adamax {augs} - catsv4', h_res3)"
   ]
  },
  {
   "cell_type": "code",
   "execution_count": null,
   "metadata": {},
   "outputs": [],
   "source": [
    "pred_res3 = res3.predict(x=test_batches, steps=len(test_batches), verbose=1)"
   ]
  },
  {
   "cell_type": "code",
   "execution_count": null,
   "metadata": {},
   "outputs": [],
   "source": [
    "displayCM(y_true=test_batches.classes, predictions=pred_res3, plot_labels=cm_plot_labels, title=f'Confusion Matrix ResNet152, 128b, Adamax {augs} - catsv4')"
   ]
  },
  {
   "cell_type": "markdown",
   "metadata": {},
   "source": [
    "***"
   ]
  },
  {
   "cell_type": "code",
   "execution_count": null,
   "metadata": {},
   "outputs": [],
   "source": [
    "augs = 'flip rotation'"
   ]
  },
  {
   "cell_type": "code",
   "execution_count": 19,
   "metadata": {},
   "outputs": [
    {
     "name": "stdout",
     "output_type": "stream",
     "text": [
      "Found 18584 images belonging to 10 classes.\n",
      "Found 7956 images belonging to 10 classes.\n",
      "Found 1000 images belonging to 10 classes.\n"
     ]
    }
   ],
   "source": [
    "data_gen = ImageDataGenerator(preprocessing_function=tf.keras.applications.resnet.preprocess_input, validation_split=0.3)\n",
    "train_batches = data_gen.flow_from_directory(directory=train_dir, target_size=(INPUT_SIZE,INPUT_SIZE), classes=breeds, batch_size=128, subset=\"training\") \n",
    "valid_batches = data_gen.flow_from_directory(directory=train_dir, target_size=(INPUT_SIZE,INPUT_SIZE), classes=breeds, batch_size=128, subset=\"validation\")\n",
    "test_batches = ImageDataGenerator(preprocessing_function=tf.keras.applications.resnet.preprocess_input).flow_from_directory(directory=test_dir, target_size=(INPUT_SIZE,INPUT_SIZE), classes=breeds, batch_size=10, shuffle=False)"
   ]
  },
  {
   "cell_type": "code",
   "execution_count": 20,
   "metadata": {},
   "outputs": [
    {
     "name": "stdout",
     "output_type": "stream",
     "text": [
      "Current Time = 23:06:21\n"
     ]
    }
   ],
   "source": [
    "log_dir=os.path.join('logs','fitres',curTime().strftime(\"%Y%m%d-%H%M%S\"))"
   ]
  },
  {
   "cell_type": "code",
   "execution_count": 21,
   "metadata": {},
   "outputs": [],
   "source": [
    "tb =  TensorBoard(log_dir=log_dir, histogram_freq=1,profile_batch = '500,520')"
   ]
  },
  {
   "cell_type": "code",
   "execution_count": 22,
   "metadata": {},
   "outputs": [],
   "source": [
    "cbks=[tb,es]"
   ]
  },
  {
   "cell_type": "code",
   "execution_count": 23,
   "metadata": {},
   "outputs": [
    {
     "name": "stdout",
     "output_type": "stream",
     "text": [
      "Model: \"model_1\"\n",
      "_________________________________________________________________\n",
      "Layer (type)                 Output Shape              Param #   \n",
      "=================================================================\n",
      "input_4 (InputLayer)         [(None, 331, 331, 3)]     0         \n",
      "_________________________________________________________________\n",
      "NASNet (Functional)          (None, 11, 11, 4032)      84916818  \n",
      "_________________________________________________________________\n",
      "global_average_pooling2d_1 ( (None, 4032)              0         \n",
      "_________________________________________________________________\n",
      "dense_1 (Dense)              (None, 10)                40330     \n",
      "=================================================================\n",
      "Total params: 84,957,148\n",
      "Trainable params: 40,330\n",
      "Non-trainable params: 84,916,818\n",
      "_________________________________________________________________\n"
     ]
    }
   ],
   "source": [
    "res31 = create_model_ResNet152(number_classes=no_classes, optimizer=optimizer, metrics=metrics)\n",
    "res31.summary()"
   ]
  },
  {
   "cell_type": "code",
   "execution_count": null,
   "metadata": {},
   "outputs": [
    {
     "name": "stdout",
     "output_type": "stream",
     "text": [
      "Epoch 1/100\n",
      "291/291 [==============================] - 900s 3s/step - loss: 1.3529 - categorical_accuracy: 0.5631 - val_loss: 0.9576 - val_categorical_accuracy: 0.6948\n",
      "Epoch 2/100\n",
      "291/291 [==============================] - 817s 3s/step - loss: 0.8710 - categorical_accuracy: 0.7184 - val_loss: 0.8685 - val_categorical_accuracy: 0.7212\n",
      "Epoch 3/100\n",
      "231/291 [======================>.......] - ETA: 1:54 - loss: 0.7801 - categorical_accuracy: 0.7475"
     ]
    }
   ],
   "source": [
    "h_res31 = res31.fit(train_batches,epochs=100, callbacks=cbks,validation_data=valid_batches)"
   ]
  },
  {
   "cell_type": "code",
   "execution_count": null,
   "metadata": {},
   "outputs": [],
   "source": [
    "plotLoss(f'ResNet152, 128batch, Adamax {augs} - catsv4', h_res31)"
   ]
  },
  {
   "cell_type": "code",
   "execution_count": null,
   "metadata": {},
   "outputs": [],
   "source": [
    "pred_res31 = res31.predict(x=test_batches, steps=len(test_batches), verbose=1)"
   ]
  },
  {
   "cell_type": "code",
   "execution_count": null,
   "metadata": {},
   "outputs": [],
   "source": [
    "displayCM(y_true=test_batches.classes, predictions=pred_res31, plot_labels=cm_plot_labels, title=f'Confusion Matrix ResNet152, 128batch, Adamax {augs} - catsv4')"
   ]
  },
  {
   "cell_type": "markdown",
   "metadata": {},
   "source": [
    "***"
   ]
  },
  {
   "cell_type": "code",
   "execution_count": null,
   "metadata": {},
   "outputs": [],
   "source": [
    "augs = 'flip rotation shear'"
   ]
  },
  {
   "cell_type": "code",
   "execution_count": 19,
   "metadata": {},
   "outputs": [
    {
     "name": "stdout",
     "output_type": "stream",
     "text": [
      "Found 18584 images belonging to 10 classes.\n",
      "Found 7956 images belonging to 10 classes.\n",
      "Found 1000 images belonging to 10 classes.\n"
     ]
    }
   ],
   "source": [
    "data_gen = ImageDataGenerator(preprocessing_function=tf.keras.applications.resnet.preprocess_input, validation_split=0.3)\n",
    "train_batches = data_gen.flow_from_directory(directory=train_dir, target_size=(INPUT_SIZE,INPUT_SIZE), classes=breeds, batch_size=128, subset=\"training\") \n",
    "valid_batches = data_gen.flow_from_directory(directory=train_dir, target_size=(INPUT_SIZE,INPUT_SIZE), classes=breeds, batch_size=128, subset=\"validation\")\n",
    "test_batches = ImageDataGenerator(preprocessing_function=tf.keras.applications.resnet.preprocess_input).flow_from_directory(directory=test_dir, target_size=(INPUT_SIZE,INPUT_SIZE), classes=breeds, batch_size=10, shuffle=False)"
   ]
  },
  {
   "cell_type": "code",
   "execution_count": 20,
   "metadata": {},
   "outputs": [
    {
     "name": "stdout",
     "output_type": "stream",
     "text": [
      "Current Time = 23:06:21\n"
     ]
    }
   ],
   "source": [
    "log_dir=os.path.join('logs','fitres',curTime().strftime(\"%Y%m%d-%H%M%S\"))"
   ]
  },
  {
   "cell_type": "code",
   "execution_count": 21,
   "metadata": {},
   "outputs": [],
   "source": [
    "tb =  TensorBoard(log_dir=log_dir, histogram_freq=1,profile_batch = '500,520')"
   ]
  },
  {
   "cell_type": "code",
   "execution_count": 22,
   "metadata": {},
   "outputs": [],
   "source": [
    "cbks=[tb,es]"
   ]
  },
  {
   "cell_type": "code",
   "execution_count": 23,
   "metadata": {},
   "outputs": [
    {
     "name": "stdout",
     "output_type": "stream",
     "text": [
      "Model: \"model_1\"\n",
      "_________________________________________________________________\n",
      "Layer (type)                 Output Shape              Param #   \n",
      "=================================================================\n",
      "input_4 (InputLayer)         [(None, 331, 331, 3)]     0         \n",
      "_________________________________________________________________\n",
      "NASNet (Functional)          (None, 11, 11, 4032)      84916818  \n",
      "_________________________________________________________________\n",
      "global_average_pooling2d_1 ( (None, 4032)              0         \n",
      "_________________________________________________________________\n",
      "dense_1 (Dense)              (None, 10)                40330     \n",
      "=================================================================\n",
      "Total params: 84,957,148\n",
      "Trainable params: 40,330\n",
      "Non-trainable params: 84,916,818\n",
      "_________________________________________________________________\n"
     ]
    }
   ],
   "source": [
    "res32 = create_model_ResNet152(number_classes=no_classes, optimizer=optimizer, metrics=metrics)\n",
    "res32.summary()"
   ]
  },
  {
   "cell_type": "code",
   "execution_count": null,
   "metadata": {},
   "outputs": [
    {
     "name": "stdout",
     "output_type": "stream",
     "text": [
      "Epoch 1/100\n",
      "291/291 [==============================] - 900s 3s/step - loss: 1.3529 - categorical_accuracy: 0.5631 - val_loss: 0.9576 - val_categorical_accuracy: 0.6948\n",
      "Epoch 2/100\n",
      "291/291 [==============================] - 817s 3s/step - loss: 0.8710 - categorical_accuracy: 0.7184 - val_loss: 0.8685 - val_categorical_accuracy: 0.7212\n",
      "Epoch 3/100\n",
      "231/291 [======================>.......] - ETA: 1:54 - loss: 0.7801 - categorical_accuracy: 0.7475"
     ]
    }
   ],
   "source": [
    "h_res32 = res32.fit(train_batches,epochs=100, callbacks=cbks,validation_data=valid_batches)"
   ]
  },
  {
   "cell_type": "code",
   "execution_count": null,
   "metadata": {},
   "outputs": [],
   "source": [
    "plotLoss(f'ResNet152, 128batch, Adamax {augs} - catsv4', h_res32)"
   ]
  },
  {
   "cell_type": "code",
   "execution_count": null,
   "metadata": {},
   "outputs": [],
   "source": [
    "pred_res32 = res32.predict(x=test_batches, steps=len(test_batches), verbose=1)"
   ]
  },
  {
   "cell_type": "code",
   "execution_count": null,
   "metadata": {},
   "outputs": [],
   "source": [
    "displayCM(y_true=test_batches.classes, predictions=pred_res32, plot_labels=cm_plot_labels, title=f'Confusion Matrix ResNet152, 128b, Adamax {augs} - catsv4')"
   ]
  },
  {
   "cell_type": "markdown",
   "metadata": {},
   "source": [
    "***"
   ]
  },
  {
   "cell_type": "code",
   "execution_count": null,
   "metadata": {},
   "outputs": [],
   "source": [
    "augs = 'flip rotation brightness'"
   ]
  },
  {
   "cell_type": "code",
   "execution_count": 19,
   "metadata": {},
   "outputs": [
    {
     "name": "stdout",
     "output_type": "stream",
     "text": [
      "Found 18584 images belonging to 10 classes.\n",
      "Found 7956 images belonging to 10 classes.\n",
      "Found 1000 images belonging to 10 classes.\n"
     ]
    }
   ],
   "source": [
    "data_gen = ImageDataGenerator(preprocessing_function=tf.keras.applications.resnet.preprocess_input, validation_split=0.3)\n",
    "train_batches = data_gen.flow_from_directory(directory=train_dir, target_size=(INPUT_SIZE,INPUT_SIZE), classes=breeds, batch_size=128, subset=\"training\") \n",
    "valid_batches = data_gen.flow_from_directory(directory=train_dir, target_size=(INPUT_SIZE,INPUT_SIZE), classes=breeds, batch_size=128, subset=\"validation\")\n",
    "test_batches = ImageDataGenerator(preprocessing_function=tf.keras.applications.resnet.preprocess_input).flow_from_directory(directory=test_dir, target_size=(INPUT_SIZE,INPUT_SIZE), classes=breeds, batch_size=10, shuffle=False)"
   ]
  },
  {
   "cell_type": "code",
   "execution_count": 20,
   "metadata": {},
   "outputs": [
    {
     "name": "stdout",
     "output_type": "stream",
     "text": [
      "Current Time = 23:06:21\n"
     ]
    }
   ],
   "source": [
    "log_dir=os.path.join('logs','fitres',curTime().strftime(\"%Y%m%d-%H%M%S\"))"
   ]
  },
  {
   "cell_type": "code",
   "execution_count": 21,
   "metadata": {},
   "outputs": [],
   "source": [
    "tb =  TensorBoard(log_dir=log_dir, histogram_freq=1,profile_batch = '500,520')"
   ]
  },
  {
   "cell_type": "code",
   "execution_count": 22,
   "metadata": {},
   "outputs": [],
   "source": [
    "cbks=[tb,es]"
   ]
  },
  {
   "cell_type": "code",
   "execution_count": 23,
   "metadata": {},
   "outputs": [
    {
     "name": "stdout",
     "output_type": "stream",
     "text": [
      "Model: \"model_1\"\n",
      "_________________________________________________________________\n",
      "Layer (type)                 Output Shape              Param #   \n",
      "=================================================================\n",
      "input_4 (InputLayer)         [(None, 331, 331, 3)]     0         \n",
      "_________________________________________________________________\n",
      "NASNet (Functional)          (None, 11, 11, 4032)      84916818  \n",
      "_________________________________________________________________\n",
      "global_average_pooling2d_1 ( (None, 4032)              0         \n",
      "_________________________________________________________________\n",
      "dense_1 (Dense)              (None, 10)                40330     \n",
      "=================================================================\n",
      "Total params: 84,957,148\n",
      "Trainable params: 40,330\n",
      "Non-trainable params: 84,916,818\n",
      "_________________________________________________________________\n"
     ]
    }
   ],
   "source": [
    "res33 = create_model_ResNet152(number_classes=no_classes, optimizer=optimizer, metrics=metrics)\n",
    "res33.summary()"
   ]
  },
  {
   "cell_type": "code",
   "execution_count": null,
   "metadata": {},
   "outputs": [
    {
     "name": "stdout",
     "output_type": "stream",
     "text": [
      "Epoch 1/100\n",
      "291/291 [==============================] - 900s 3s/step - loss: 1.3529 - categorical_accuracy: 0.5631 - val_loss: 0.9576 - val_categorical_accuracy: 0.6948\n",
      "Epoch 2/100\n",
      "291/291 [==============================] - 817s 3s/step - loss: 0.8710 - categorical_accuracy: 0.7184 - val_loss: 0.8685 - val_categorical_accuracy: 0.7212\n",
      "Epoch 3/100\n",
      "231/291 [======================>.......] - ETA: 1:54 - loss: 0.7801 - categorical_accuracy: 0.7475"
     ]
    }
   ],
   "source": [
    "h_res33 = res33.fit(train_batches,epochs=100, callbacks=cbks,validation_data=valid_batches)"
   ]
  },
  {
   "cell_type": "code",
   "execution_count": null,
   "metadata": {},
   "outputs": [],
   "source": [
    "plotLoss(f'ResNet152, 128batch, Adamax {augs} - catsv4', h_res33)"
   ]
  },
  {
   "cell_type": "code",
   "execution_count": null,
   "metadata": {},
   "outputs": [],
   "source": [
    "pred_res33 = res33.predict(x=test_batches, steps=len(test_batches), verbose=1)"
   ]
  },
  {
   "cell_type": "code",
   "execution_count": null,
   "metadata": {},
   "outputs": [],
   "source": [
    "displayCM(y_true=test_batches.classes, predictions=pred_res33, plot_labels=cm_plot_labels, title=f'Confusion Matrix ResNet152, 128b, Adamax {augs} - catsv4')"
   ]
  },
  {
   "cell_type": "markdown",
   "metadata": {},
   "source": [
    "***"
   ]
  },
  {
   "cell_type": "markdown",
   "metadata": {},
   "source": [
    "***"
   ]
  }
 ],
 "metadata": {
  "kernelspec": {
   "display_name": "Python 3",
   "language": "python",
   "name": "python3"
  },
  "language_info": {
   "codemirror_mode": {
    "name": "ipython",
    "version": 3
   },
   "file_extension": ".py",
   "mimetype": "text/x-python",
   "name": "python",
   "nbconvert_exporter": "python",
   "pygments_lexer": "ipython3",
   "version": "3.8.5"
  }
 },
 "nbformat": 4,
 "nbformat_minor": 4
}
