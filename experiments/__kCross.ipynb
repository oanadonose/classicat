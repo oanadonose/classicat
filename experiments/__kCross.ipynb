{
 "cells": [
  {
   "cell_type": "code",
   "execution_count": null,
   "metadata": {},
   "outputs": [],
   "source": [
    "def kCrossValidation(train_data,in_shape,optimizer,metrics):\n",
    "    fold_no = 1\n",
    "    y = train_data[['label']]\n",
    "    for train, val in kf.split(np.zeros(y.shape[0]), y):\n",
    "        training_data = train_data.iloc[train]\n",
    "        val_data = train_data.iloc[val]\n",
    "        \n",
    "        print(f'Fold # {fold_no}')\n",
    "\n",
    "        train_batches = fold_gen.flow_from_dataframe(train_data, x_col='id', y_col='label', class_mode='categorical',batch_size=29, shuffle=True)\n",
    "        valid_batches = fold_gen.flow_from_dataframe(val_data, x_col='id', y_col='label', class_mode='categorical',batch_size=29, shuffle=True)\n",
    "        \n",
    "        model = create_model_Xception(in_shape, no_classes, optimizer, metrics)\n",
    "        history = model.fit(train_batches,epochs=30, callbacks=k_callbacks,validation_data=valid_batches)\n",
    "\n",
    "        plt.plot(history.history['loss'], label='train_loss')\n",
    "        plt.plot(history.history['val_loss'], label='val_loss')\n",
    "        plt.title(f'Fold #{fold_no}')\n",
    "        plt.ylabel('loss')\n",
    "        plt.xlabel('epoch')\n",
    "        plt.show()\n",
    "        fold_no = fold_no+1"
   ]
  },
  {
   "cell_type": "code",
   "execution_count": null,
   "metadata": {},
   "outputs": [],
   "source": [
    "def run_kCross_Xception(df):\n",
    "    in_shape=(299, 299, 3)\n",
    "    optimizer = keras.optimizers.Adamax()\n",
    "    lr_metric = get_lr_metric(optimizer)\n",
    "    metrics=[keras.metrics.CategoricalAccuracy(), lr_metric]\n",
    "    kCrossValidation(df, in_shape,optimizer,metrics)"
   ]
  },
  {
   "cell_type": "code",
   "execution_count": null,
   "metadata": {},
   "outputs": [],
   "source": [
    "kf = StratifiedKFold(5, shuffle=True, random_state=42)\n",
    "fold_gen = ImageDataGenerator(preprocessing_function=tf.keras.applications.xception.preprocess_input)"
   ]
  },
  {
   "cell_type": "code",
   "execution_count": null,
   "metadata": {},
   "outputs": [],
   "source": [
    "train_dir = './data/train'\n",
    "df = pd.read_csv('data.csv')\n",
    "breeds = os.listdir(train_dir)\n",
    "no_classes = len(breeds)\n",
    "# x = df[['id']]\n",
    "# y = df[['label']]\n",
    "from sklearn.model_selection import StratifiedKFold"
   ]
  }
 ],
 "metadata": {
  "kernelspec": {
   "display_name": "Python 3",
   "language": "python",
   "name": "python3"
  },
  "language_info": {
   "codemirror_mode": {
    "name": "ipython",
    "version": 3
   },
   "file_extension": ".py",
   "mimetype": "text/x-python",
   "name": "python",
   "nbconvert_exporter": "python",
   "pygments_lexer": "ipython3",
   "version": "3.8.5"
  }
 },
 "nbformat": 4,
 "nbformat_minor": 4
}
